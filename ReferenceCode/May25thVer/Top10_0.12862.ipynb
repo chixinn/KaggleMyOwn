{
 "metadata": {
  "language_info": {
   "codemirror_mode": {
    "name": "ipython",
    "version": 3
   },
   "file_extension": ".py",
   "mimetype": "text/x-python",
   "name": "python",
   "nbconvert_exporter": "python",
   "pygments_lexer": "ipython3",
   "version": "3.8.6"
  },
  "orig_nbformat": 2,
  "kernelspec": {
   "name": "python386jvsc74a57bd00adcc2737ebf6a4a119f135174df96668767fca1ef1112612db5ecadf2b6d608",
   "display_name": "Python 3.8.6 64-bit"
  },
  "metadata": {
   "interpreter": {
    "hash": "0adcc2737ebf6a4a119f135174df96668767fca1ef1112612db5ecadf2b6d608"
   }
  }
 },
 "nbformat": 4,
 "nbformat_minor": 2,
 "cells": [
  {
   "cell_type": "code",
   "execution_count": 1,
   "metadata": {},
   "outputs": [],
   "source": [
    "#importing all usefull lib\n",
    "import matplotlib.pyplot as plt\n",
    "import numpy as np\n",
    "from sklearn.preprocessing import MinMaxScaler\n",
    "from sklearn.model_selection import cross_val_score, train_test_split, KFold, cross_val_predict\n",
    "from sklearn.ensemble import RandomForestRegressor,GradientBoostingRegressor\n",
    "import pandas as pd\n",
    "import matplotlib.pyplot as plt\n",
    "import seaborn as sns\n",
    "from scipy.stats import norm\n",
    "%matplotlib inline\n",
    "from sklearn.linear_model import LinearRegression, RidgeCV, Lasso, ElasticNetCV, BayesianRidge, LassoLarsIC\n",
    "from sklearn.metrics import mean_squared_error, make_scorer \n",
    "from sklearn.kernel_ridge import KernelRidge\n",
    "from sklearn.pipeline import make_pipeline\n",
    "from sklearn.base import BaseEstimator, TransformerMixin, RegressorMixin, clone\n",
    "import math"
   ]
  },
  {
   "cell_type": "code",
   "execution_count": 2,
   "metadata": {},
   "outputs": [],
   "source": [
    "from datetime import datetime\n",
    "from scipy.stats import skew  # for some statistics\n",
    "from scipy.special import boxcox1p\n",
    "from scipy.stats import boxcox_normmax\n",
    "from sklearn.linear_model import ElasticNetCV, LassoCV, RidgeCV\n",
    "from sklearn.ensemble import GradientBoostingRegressor\n",
    "from sklearn.svm import SVR\n",
    "from sklearn.pipeline import make_pipeline\n",
    "from sklearn.preprocessing import RobustScaler\n",
    "from sklearn.model_selection import KFold, cross_val_score\n",
    "from sklearn.metrics import mean_squared_error\n",
    "from mlxtend.regressor import StackingCVRegressor\n",
    "from xgboost import XGBRegressor\n",
    "from lightgbm import LGBMRegressor\n",
    "import matplotlib.pyplot as plt\n",
    "import scipy.stats as stats\n",
    "import sklearn.linear_model as linear_model\n",
    "import seaborn as sns\n",
    "from sklearn.manifold import TSNE\n",
    "from sklearn.cluster import KMeans\n",
    "from sklearn.decomposition import PCA\n",
    "from sklearn.preprocessing import StandardScaler\n",
    "import pandas as pd\n",
    "import seaborn as sns\n",
    "import matplotlib.pyplot as plt\n",
    "import numpy as np\n",
    "from sklearn.preprocessing import StandardScaler\n",
    "from scipy.stats import norm\n",
    "from scipy import stats"
   ]
  },
  {
   "cell_type": "code",
   "execution_count": 3,
   "metadata": {},
   "outputs": [],
   "source": [
    "train_dataRaw = pd.read_csv(\"/Users/chixinning/Desktop/kaggle/KaggleMyOwn/ReferenceCode/house-prices-advanced-regression-techniques/train.csv\")\n",
    "test = pd.read_csv(\"/Users/chixinning/Desktop/kaggle/KaggleMyOwn/ReferenceCode/house-prices-advanced-regression-techniques/test.csv\")"
   ]
  },
  {
   "cell_type": "code",
   "execution_count": 4,
   "metadata": {},
   "outputs": [
    {
     "output_type": "execute_result",
     "data": {
      "text/plain": [
       "(1460,)"
      ]
     },
     "metadata": {},
     "execution_count": 4
    }
   ],
   "source": [
    "Sale_Price=train_dataRaw.iloc[:,80]\n",
    "Sale_Price.shape"
   ]
  },
  {
   "cell_type": "code",
   "execution_count": 5,
   "metadata": {},
   "outputs": [
    {
     "output_type": "execute_result",
     "data": {
      "text/plain": [
       "   Id  MSSubClass MSZoning  LotFrontage  LotArea Street Alley LotShape  \\\n",
       "0   1          60       RL         65.0     8450   Pave   NaN      Reg   \n",
       "1   2          20       RL         80.0     9600   Pave   NaN      Reg   \n",
       "2   3          60       RL         68.0    11250   Pave   NaN      IR1   \n",
       "3   4          70       RL         60.0     9550   Pave   NaN      IR1   \n",
       "4   5          60       RL         84.0    14260   Pave   NaN      IR1   \n",
       "\n",
       "  LandContour Utilities  ... ScreenPorch PoolArea PoolQC Fence MiscFeature  \\\n",
       "0         Lvl    AllPub  ...           0        0    NaN   NaN         NaN   \n",
       "1         Lvl    AllPub  ...           0        0    NaN   NaN         NaN   \n",
       "2         Lvl    AllPub  ...           0        0    NaN   NaN         NaN   \n",
       "3         Lvl    AllPub  ...           0        0    NaN   NaN         NaN   \n",
       "4         Lvl    AllPub  ...           0        0    NaN   NaN         NaN   \n",
       "\n",
       "  MiscVal MoSold  YrSold  SaleType  SaleCondition  \n",
       "0       0      2    2008        WD         Normal  \n",
       "1       0      5    2007        WD         Normal  \n",
       "2       0      9    2008        WD         Normal  \n",
       "3       0      2    2006        WD        Abnorml  \n",
       "4       0     12    2008        WD         Normal  \n",
       "\n",
       "[5 rows x 80 columns]"
      ],
      "text/html": "<div>\n<style scoped>\n    .dataframe tbody tr th:only-of-type {\n        vertical-align: middle;\n    }\n\n    .dataframe tbody tr th {\n        vertical-align: top;\n    }\n\n    .dataframe thead th {\n        text-align: right;\n    }\n</style>\n<table border=\"1\" class=\"dataframe\">\n  <thead>\n    <tr style=\"text-align: right;\">\n      <th></th>\n      <th>Id</th>\n      <th>MSSubClass</th>\n      <th>MSZoning</th>\n      <th>LotFrontage</th>\n      <th>LotArea</th>\n      <th>Street</th>\n      <th>Alley</th>\n      <th>LotShape</th>\n      <th>LandContour</th>\n      <th>Utilities</th>\n      <th>...</th>\n      <th>ScreenPorch</th>\n      <th>PoolArea</th>\n      <th>PoolQC</th>\n      <th>Fence</th>\n      <th>MiscFeature</th>\n      <th>MiscVal</th>\n      <th>MoSold</th>\n      <th>YrSold</th>\n      <th>SaleType</th>\n      <th>SaleCondition</th>\n    </tr>\n  </thead>\n  <tbody>\n    <tr>\n      <th>0</th>\n      <td>1</td>\n      <td>60</td>\n      <td>RL</td>\n      <td>65.0</td>\n      <td>8450</td>\n      <td>Pave</td>\n      <td>NaN</td>\n      <td>Reg</td>\n      <td>Lvl</td>\n      <td>AllPub</td>\n      <td>...</td>\n      <td>0</td>\n      <td>0</td>\n      <td>NaN</td>\n      <td>NaN</td>\n      <td>NaN</td>\n      <td>0</td>\n      <td>2</td>\n      <td>2008</td>\n      <td>WD</td>\n      <td>Normal</td>\n    </tr>\n    <tr>\n      <th>1</th>\n      <td>2</td>\n      <td>20</td>\n      <td>RL</td>\n      <td>80.0</td>\n      <td>9600</td>\n      <td>Pave</td>\n      <td>NaN</td>\n      <td>Reg</td>\n      <td>Lvl</td>\n      <td>AllPub</td>\n      <td>...</td>\n      <td>0</td>\n      <td>0</td>\n      <td>NaN</td>\n      <td>NaN</td>\n      <td>NaN</td>\n      <td>0</td>\n      <td>5</td>\n      <td>2007</td>\n      <td>WD</td>\n      <td>Normal</td>\n    </tr>\n    <tr>\n      <th>2</th>\n      <td>3</td>\n      <td>60</td>\n      <td>RL</td>\n      <td>68.0</td>\n      <td>11250</td>\n      <td>Pave</td>\n      <td>NaN</td>\n      <td>IR1</td>\n      <td>Lvl</td>\n      <td>AllPub</td>\n      <td>...</td>\n      <td>0</td>\n      <td>0</td>\n      <td>NaN</td>\n      <td>NaN</td>\n      <td>NaN</td>\n      <td>0</td>\n      <td>9</td>\n      <td>2008</td>\n      <td>WD</td>\n      <td>Normal</td>\n    </tr>\n    <tr>\n      <th>3</th>\n      <td>4</td>\n      <td>70</td>\n      <td>RL</td>\n      <td>60.0</td>\n      <td>9550</td>\n      <td>Pave</td>\n      <td>NaN</td>\n      <td>IR1</td>\n      <td>Lvl</td>\n      <td>AllPub</td>\n      <td>...</td>\n      <td>0</td>\n      <td>0</td>\n      <td>NaN</td>\n      <td>NaN</td>\n      <td>NaN</td>\n      <td>0</td>\n      <td>2</td>\n      <td>2006</td>\n      <td>WD</td>\n      <td>Abnorml</td>\n    </tr>\n    <tr>\n      <th>4</th>\n      <td>5</td>\n      <td>60</td>\n      <td>RL</td>\n      <td>84.0</td>\n      <td>14260</td>\n      <td>Pave</td>\n      <td>NaN</td>\n      <td>IR1</td>\n      <td>Lvl</td>\n      <td>AllPub</td>\n      <td>...</td>\n      <td>0</td>\n      <td>0</td>\n      <td>NaN</td>\n      <td>NaN</td>\n      <td>NaN</td>\n      <td>0</td>\n      <td>12</td>\n      <td>2008</td>\n      <td>WD</td>\n      <td>Normal</td>\n    </tr>\n  </tbody>\n</table>\n<p>5 rows × 80 columns</p>\n</div>"
     },
     "metadata": {},
     "execution_count": 5
    }
   ],
   "source": [
    "train=train_dataRaw.drop([\"SalePrice\"],axis=1)\n",
    "train.head()"
   ]
  },
  {
   "cell_type": "code",
   "execution_count": 6,
   "metadata": {},
   "outputs": [
    {
     "output_type": "execute_result",
     "data": {
      "text/plain": [
       "(2919, 79)"
      ]
     },
     "metadata": {},
     "execution_count": 6
    }
   ],
   "source": [
    "data= pd.concat([train,test], keys=['x', 'y'])#here X is training data and Y testing data\n",
    "data=data.drop([\"Id\"],axis=1)\n",
    "data.shape"
   ]
  },
  {
   "cell_type": "code",
   "execution_count": 7,
   "metadata": {},
   "outputs": [],
   "source": [
    "tmp=data.loc[\"x\"]"
   ]
  },
  {
   "cell_type": "code",
   "execution_count": 8,
   "metadata": {},
   "outputs": [],
   "source": [
    "data=data.replace({\"MSSubClass\" : {20 : \"SC20\", 30 : \"SC30\", 40 : \"SC40\", 45 : \"SC45\", \n",
    "                                       50 : \"SC50\", 60 : \"SC60\", 70 : \"SC70\", 75 : \"SC75\", \n",
    "                                       80 : \"SC80\", 85 : \"SC85\", 90 : \"SC90\", 120 : \"SC120\", \n",
    "                                       150 : \"SC150\", 160 : \"SC160\", 180 : \"SC180\", 190 : \"SC190\"},\n",
    "                       \"MoSold\" : {1 : \"Jan\", 2 : \"Feb\", 3 : \"Mar\", 4 : \"Apr\", 5 : \"May\", 6 : \"Jun\",\n",
    "                                   7 : \"Jul\", 8 : \"Aug\", 9 : \"Sep\", 10 : \"Oct\", 11 : \"Nov\", 12 : \"Dec\"}\n",
    "                      })"
   ]
  },
  {
   "source": [
    "# missing_data\n",
    "\n",
    "缺失值处理"
   ],
   "cell_type": "markdown",
   "metadata": {}
  },
  {
   "cell_type": "code",
   "execution_count": 9,
   "metadata": {},
   "outputs": [],
   "source": [
    "total_null = data.isnull().sum().sort_values(ascending=False) #First sum and order all null values for each variable\n",
    "percentage = (data.isnull().sum()/data.isnull().count()).sort_values(ascending=False) #Get the percentage\n",
    "missing_data = pd.concat([total_null, percentage], axis=1, keys=['Total', 'Percentage'])"
   ]
  },
  {
   "cell_type": "code",
   "execution_count": 10,
   "metadata": {},
   "outputs": [],
   "source": [
    "data = data.drop((missing_data[missing_data[\"Percentage\"] > 0.05]).index,1)"
   ]
  },
  {
   "cell_type": "code",
   "execution_count": 11,
   "metadata": {},
   "outputs": [],
   "source": [
    "num_col=data._get_numeric_data().columns.tolist()\n",
    "cat_col=set(data.columns)-set(num_col)"
   ]
  },
  {
   "cell_type": "code",
   "execution_count": 12,
   "metadata": {},
   "outputs": [],
   "source": [
    "for col in num_col:\n",
    "    data[col].fillna(data[col].mean(),inplace=True)"
   ]
  },
  {
   "cell_type": "code",
   "execution_count": 13,
   "metadata": {},
   "outputs": [],
   "source": [
    "for col in cat_col:\n",
    "    data[col].fillna(data[col].mode()[0],inplace=True)"
   ]
  },
  {
   "source": [
    "# Feature Engineering Begins"
   ],
   "cell_type": "markdown",
   "metadata": {}
  },
  {
   "source": [
    "## 删除highly skewed Data"
   ],
   "cell_type": "markdown",
   "metadata": {}
  },
  {
   "cell_type": "code",
   "execution_count": 14,
   "metadata": {},
   "outputs": [
    {
     "output_type": "stream",
     "name": "stdout",
     "text": [
      "<bound method NDFrame.describe of count        2919\nunique         15\ntop       VinylSd\nfreq         1026\nName: Exterior1st, dtype: object>\n              skewness\nExterior1st        NaN\nRoofMatl           NaN\nFunctional         NaN\nSaleCondition      NaN\nMoSold             NaN\nMSSubClass         NaN\nUtilities          NaN\nBsmtCond           NaN\nBldgType           NaN\nLandSlope          NaN\nCondition2         NaN\nElectrical         NaN\nCentralAir         NaN\nNeighborhood       NaN\nSaleType           NaN\nCondition1         NaN\nExterQual          NaN\nLandContour        NaN\nPavedDrive         NaN\nExterior2nd        NaN\nMasVnrType         NaN\nLotConfig          NaN\nKitchenQual        NaN\nBsmtQual           NaN\nExterCond          NaN\nStreet             NaN\nMSZoning           NaN\nBsmtExposure       NaN\nBsmtFinType2       NaN\nLotShape           NaN\nRoofStyle          NaN\nHeating            NaN\nHeatingQC          NaN\nBsmtFinType1       NaN\nHouseStyle         NaN\nFoundation         NaN\n"
     ]
    },
    {
     "output_type": "execute_result",
     "data": {
      "text/plain": [
       "(2919, 68)"
      ]
     },
     "metadata": {},
     "execution_count": 14
    }
   ],
   "source": [
    "#delete highly skew category data in numerical variables\n",
    "train_cat = data[cat_col]\n",
    "pct=[]\n",
    "for ix in train_cat.columns:\n",
    "    temp=train_cat[ix].describe()\n",
    "    print(temp.describe)\n",
    "    break\n",
    "    pct.append(temp[\"freq\"]/temp[\"count\"])\n",
    "skewData=pd.DataFrame(pct,index=train_cat.columns,columns=[\"skewness\"])\n",
    "skewData=skewData.sort_values(by=\"skewness\",ascending=False)\n",
    "print (skewData)\n",
    "data = data.drop((skewData[skewData['skewness'] >= 0.95]).index,1) \n",
    "data.shape"
   ]
  },
  {
   "cell_type": "code",
   "execution_count": 15,
   "metadata": {},
   "outputs": [],
   "source": [
    "train_data=data"
   ]
  },
  {
   "cell_type": "code",
   "execution_count": 16,
   "metadata": {},
   "outputs": [],
   "source": [
    "#2.3: Simplifications of existing categorical \n",
    "train_data[\"Condition1\"] = train_data.Condition1.replace({\"RRNe\" : \"Other\", \n",
    "                                                  \"RRNn\" : \"Other\",\"PosA\" : \"Other\", \n",
    "                                                   \"RRAe\" : \"Other\"\n",
    "                                                  })\n",
    "train_data[\"Electrical\"] = train_data.Electrical.replace({\"Mix\" : \"Other\", \n",
    "                                                  \"FuseP\" : \"Other\"\n",
    "                                                  })\n",
    "train_data[\"Exterior1st\"] = train_data.Exterior1st.replace({\"AsphShn\" : \"Other\", \n",
    "                                                  \"CBlock\" : \"Other\",\"ImStucc\" : \"Other\", \n",
    "                                                   \"BrkComm\" : \"Other\",\"Stone\" : \"Other\"\n",
    "                                                  })\n",
    "train_data[\"Exterior2nd\"] = train_data.Exterior2nd.replace({\"CBlock\" : \"Other\", \n",
    "                                                  \"AsphShn\" : \"Other\",\"Stone\" : \"Other\", \n",
    "                                                   \"Brk Cmn\" : \"Other\",\"ImStucc\" : \"Other\"\n",
    "                                                  })\n",
    "train_data[\"Foundation\"] = train_data.Foundation.replace({\"Wood\" : \"Other\", \n",
    "                                                  \"Stone\" : \"Other\"\n",
    "                                                  })\n",
    "# train_data[\"GarageType\"] = train_data.GarageType.replace({\"2Types\" : \"Other\", \n",
    "#                                                   \"CarPort\" : \"Other\"\n",
    "#                                                   })\n",
    "train_data[\"HouseStyle\"] = train_data.HouseStyle.replace({\"2.5Fin\" : \"Other\", \n",
    "                                                  \"2.5Unf\" : \"Other\",\n",
    "                                                  \"1.5Unf\" : \"Other\"\n",
    "                                                  })\n",
    "train_data[\"LotConfig\"] = train_data.LotConfig.replace({\"FR3\" : \"FR2\"\n",
    "                                                  })\n",
    "train_data[\"MSSubClass\"] = train_data.MSSubClass.replace({\"SC40\" : \"Other\", \n",
    "                                                  \"SC180\" : \"Other\",\n",
    "                                                  \"SC45\" : \"Other\",\n",
    "                                                  \"SC75\" : \"Other\"\n",
    "                                                  })\n",
    "train_data[\"MSZoning\"] = train_data.MSZoning.replace({\"C (all)\" : \"Other\", \n",
    "                                                  \"RH\" : \"Other\"\n",
    "                                                  })\n",
    "train_data[\"Neighborhood\"] = train_data.Neighborhood.replace({\"Blueste\" : \"Other\", \n",
    "                                                  \"NPkVill\" : \"Other\",\n",
    "                                                  \"Veenker\" : \"Other\"\n",
    "                                                  })\n",
    "train_data[\"RoofStyle\"] = train_data.RoofStyle.replace({\"Shed\" : \"Other\", \n",
    "                                                  \"Mansard\" : \"Other\",\n",
    "                                                  \"Gambrel\" : \"Other\",\n",
    "                                                  \"Flat\" : \"Other\"\n",
    "                                                  })\n",
    "train_data[\"SaleCondition\"] = train_data.SaleCondition.replace({\"AdjLand\" : \"Other\", \n",
    "                                                  \"Alloca\" : \"Other\"\n",
    "                                                  })\n",
    "train_data[\"SaleType\"] = train_data.SaleType.replace({\"Con\" : \"Other\", \n",
    "                                                  \"Oth\" : \"Other\",\n",
    "                                                  \"CWD\" : \"Other\", \"ConLI\" : \"Other\",\n",
    "                                                  \"ConLw\" : \"Other\",\"ConLD\" : \"Other\"\n",
    "                                                  })\n",
    "\n",
    "\n"
   ]
  },
  {
   "cell_type": "code",
   "execution_count": 17,
   "metadata": {},
   "outputs": [],
   "source": [
    "# train_data[\"OverallQual-s2\"] = train_data[\"OverallQual\"] ** 2\n",
    "# train_data[\"AllSF-2\"] = train_data[\"AllSF\"] ** 2\n",
    "# train_data[\"AllFlrsSF-2\"] = train_data[\"AllFlrsSF\"] ** 2\n",
    "# train_data[\"GrLivArea-2\"] = train_data[\"GrLivArea\"] ** 2\n",
    "# # train_data[\"SimplOverallQual-s2\"] = train_data[\"SimplOverallQual\"] ** 2\n",
    "# train_data[\"ExterQual-2\"] = train_data[\"ExterQual\"] ** 2\n",
    "# train_data[\"GarageCars-2\"] = train_data[\"GarageCars\"] ** 2\n",
    "# train_data[\"TotalBath-2\"] = train_data[\"TotalBath\"] ** 2\n",
    "# train_data[\"KitchenQual-2\"] = train_data[\"KitchenQual\"] ** 2"
   ]
  },
  {
   "cell_type": "code",
   "execution_count": 18,
   "metadata": {},
   "outputs": [],
   "source": [
    "# #2.4 Combinations of existing features\n",
    "# # Overall quality of the house\n",
    "# train_data[\"OverallGrade\"] = train_data[\"OverallQual\"] * train_data[\"OverallCond\"]\n",
    "# # Overall quality of the exterior\n",
    "# train_data[\"ExterGrade\"] = train_data[\"ExterQual\"] * train_data[\"ExterCond\"]\n",
    "# # Overall kitchen score\n",
    "# train_data[\"KitchenScore\"] = train_data[\"KitchenAbvGr\"] * train_data[\"KitchenQual\"]\n",
    "# # Total number of bathrooms\n",
    "# train_data[\"TotalBath\"] = train_data[\"BsmtFullBath\"] + (0.5 * train_data[\"BsmtHalfBath\"]) + \\\n",
    "# train_data[\"FullBath\"] + (0.5 * train_data[\"HalfBath\"])\n",
    "# train_data.drop([\"BsmtFullBath\",\"BsmtHalfBath\",\"FullBath\",\"HalfBath\"],axis=1)\n",
    "# # Total SF for house (incl. basement)\n",
    "# train_data[\"AllSF\"] = train_data[\"GrLivArea\"] + train_data[\"TotalBsmtSF\"]\n",
    "# train_data.drop([\"GrLivArea\",\"TotalBsmtSF\"],axis=1)\n",
    "# # Total SF for 1st + 2nd floors\n",
    "# train_data[\"AllFlrsSF\"] = train_data[\"1stFlrSF\"] + train_data[\"2ndFlrSF\"]\n",
    "# train_data.drop([\"1stFlrSF\",\"2ndFlrSF\"],axis=1)\n",
    "# # Total SF for porch\n",
    "# train_data[\"AllPorchSF\"] = train_data[\"OpenPorchSF\"] + train_data[\"EnclosedPorch\"] + \\\n",
    "# train_data[\"3SsnPorch\"] + train_data[\"ScreenPorch\"]\n",
    "# train_data.drop([\"OpenPorchSF\",\"EnclosedPorch\",\"3SsnPorch\",\"ScreenPorch\"],axis=1)\n",
    "# # House completed before sale or not\n",
    "# train_data[\"BoughtOffPlan\"] = train_data.SaleCondition.replace({\"Abnorml\" : 0, \"Alloca\" : 0, \"AdjLand\" : 0,\"Family\" : 0, \"Normal\" : 0, \"Partial\" : 1})"
   ]
  },
  {
   "cell_type": "code",
   "execution_count": 19,
   "metadata": {},
   "outputs": [
    {
     "output_type": "stream",
     "name": "stdout",
     "text": [
      "Numerical features : 32\nCategorical features : 36\nNAs for numerical features in train : 0\nRemaining NAs for numerical features in train : 0\nNAs for categorical features in train : 0\nRemaining NAs for categorical features in train : 0\nNew number of features : 207\n"
     ]
    }
   ],
   "source": [
    "# Differentiate numerical features and categorical features\n",
    "categorical_features = train_data.select_dtypes(include = [\"object\"]).columns\n",
    "numerical_features = train_data.select_dtypes(exclude = [\"object\"]).columns\n",
    "# numerical_features = numerical_features.drop(\"SalePrice\")\n",
    "print(\"Numerical features : \" + str(len(numerical_features)))\n",
    "print(\"Categorical features : \" + str(len(categorical_features)))\n",
    "train_num = train_data[numerical_features]\n",
    "train_cat = train_data[categorical_features]\n",
    "print(\"NAs for numerical features in train : \" + str(train_num.isnull().values.sum()))\n",
    "train_num = train_num.fillna(train_num.median())\n",
    "print(\"Remaining NAs for numerical features in train : \" + str(train_num.isnull().values.sum()))\n",
    "\n",
    "#2.6 turn category features to dummy\n",
    "print(\"NAs for categorical features in train : \" + str(train_cat.isnull().values.sum()))\n",
    "train_cat = pd.get_dummies(train_cat, drop_first=True)\n",
    "print(\"Remaining NAs for categorical features in train : \" + str(train_cat.isnull().values.sum()))\n",
    "\n",
    "#2.7 join categorical and numerical features \n",
    "train_Data_New = pd.concat([train_num, train_cat], axis = 1)\n",
    "print(\"New number of features : \" + str(train_Data_New.shape[1]))\n",
    "\n",
    "#2.8 remove collinear columns\n",
    "# Create correlation matrix\n",
    "corr_matrix = train_Data_New.corr().abs()\n",
    "# Select upper triangle of correlation matrix\n",
    "upper = corr_matrix.where(np.triu(np.ones(corr_matrix.shape), k=1).astype(np.bool))\n",
    "# Find features with correlation greater than 0.95\n",
    "to_drop = [column for column in upper.columns if any(upper[column] > 0.95)]\n",
    "# Drop features \n",
    "train_Data_New.drop(to_drop, axis=1, inplace=True)\n",
    "data=train_Data_New"
   ]
  },
  {
   "cell_type": "code",
   "execution_count": 20,
   "metadata": {},
   "outputs": [],
   "source": [
    "# bjadsfk="
   ]
  },
  {
   "source": [
    "## droping some unnecessary cat_features bcoz they have 80% + same value and 20% - defertnt values so they can't effect score【存疑】"
   ],
   "cell_type": "markdown",
   "metadata": {}
  },
  {
   "cell_type": "code",
   "execution_count": 21,
   "metadata": {},
   "outputs": [],
   "source": [
    "# data=train_data"
   ]
  },
  {
   "cell_type": "code",
   "execution_count": 22,
   "metadata": {},
   "outputs": [],
   "source": [
    "\n",
    "df=data.drop([\n",
    "               \"GarageArea\",\"BsmtUnfSF\",\"3SsnPorch\",\"MiscVal\"],axis=1)\n",
    "# new   \n"
   ]
  },
  {
   "cell_type": "code",
   "execution_count": 23,
   "metadata": {},
   "outputs": [],
   "source": [
    "corrmat = train_dataRaw.corr()\n",
    "top_corr_features = corrmat.index[abs(corrmat[\"SalePrice\"])>0.5]"
   ]
  },
  {
   "cell_type": "code",
   "execution_count": 24,
   "metadata": {},
   "outputs": [],
   "source": [
    "df=df.drop([\"YrSold\"],axis=1)"
   ]
  },
  {
   "cell_type": "code",
   "execution_count": 25,
   "metadata": {},
   "outputs": [
    {
     "output_type": "execute_result",
     "data": {
      "text/plain": [
       "(2919, 195)"
      ]
     },
     "metadata": {},
     "execution_count": 25
    }
   ],
   "source": [
    "df.shape"
   ]
  },
  {
   "source": [
    "# END OF FEATURE ENGINEERING"
   ],
   "cell_type": "markdown",
   "metadata": {}
  },
  {
   "cell_type": "code",
   "execution_count": 26,
   "metadata": {},
   "outputs": [
    {
     "output_type": "execute_result",
     "data": {
      "text/plain": [
       "(2919, 195)"
      ]
     },
     "metadata": {},
     "execution_count": 26
    }
   ],
   "source": [
    "X=pd.get_dummies(df)\n",
    "X.shape"
   ]
  },
  {
   "cell_type": "code",
   "execution_count": 27,
   "metadata": {},
   "outputs": [],
   "source": [
    "# djstra=dsakjf"
   ]
  },
  {
   "cell_type": "code",
   "execution_count": 28,
   "metadata": {},
   "outputs": [],
   "source": [
    "scalerX = MinMaxScaler(feature_range=(0, 1))\n",
    "X[X.columns] = scalerX.fit_transform(X[X.columns])"
   ]
  },
  {
   "cell_type": "code",
   "execution_count": 29,
   "metadata": {},
   "outputs": [
    {
     "output_type": "execute_result",
     "data": {
      "text/plain": [
       "(1460, 195)"
      ]
     },
     "metadata": {},
     "execution_count": 29
    }
   ],
   "source": [
    "#Training data after preproscing\n",
    "\n",
    "Train_data=X.loc[\"x\"]\n",
    "Train_data.shape"
   ]
  },
  {
   "cell_type": "code",
   "execution_count": 30,
   "metadata": {},
   "outputs": [],
   "source": [
    "kfolds = KFold(n_splits=10, shuffle=True, random_state=42)\n",
    "\n",
    "def rmsle(y, y_pred):\n",
    "    return np.sqrt(mean_squared_error(y, y_pred))\n",
    "\n",
    "def cv_rmse(model, X=Train_data):\n",
    "    rmse = np.sqrt(-cross_val_score(model, X, y, scoring=\"neg_mean_squared_error\", cv=kfolds))\n",
    "    return (rmse)"
   ]
  },
  {
   "cell_type": "code",
   "execution_count": 31,
   "metadata": {},
   "outputs": [],
   "source": [
    "alphas_alt = [14.5, 14.6, 14.7, 14.8, 14.9, 15, 15.1, 15.2, 15.3, 15.4, 15.5]\n",
    "alphas2 = [5e-05, 0.0001, 0.0002, 0.0003, 0.0004, 0.0005, 0.0006, 0.0007, 0.0008]\n",
    "e_alphas = [0.0001, 0.0002, 0.0003, 0.0004, 0.0005, 0.0006, 0.0007]\n",
    "e_l1ratio = [0.8, 0.85, 0.9, 0.95, 0.99, 1]"
   ]
  },
  {
   "cell_type": "code",
   "execution_count": 32,
   "metadata": {},
   "outputs": [],
   "source": [
    "ridge = make_pipeline(RobustScaler(), RidgeCV(alphas=alphas_alt, cv=kfolds))\n",
    "lasso = make_pipeline(RobustScaler(), LassoCV(max_iter=1e7, alphas=alphas2, random_state=42, cv=kfolds))\n",
    "elasticnet = make_pipeline(RobustScaler(), ElasticNetCV(max_iter=1e7, alphas=e_alphas, cv=kfolds, l1_ratio=e_l1ratio))                                \n",
    "svr = make_pipeline(RobustScaler(), SVR(C= 20, epsilon= 0.008, gamma=0.0003,))"
   ]
  },
  {
   "cell_type": "code",
   "execution_count": 33,
   "metadata": {},
   "outputs": [],
   "source": [
    "# score = cv_rmse(ridge)\n",
    "# score = cv_rmse(lasso)\n",
    "# print(\"LASSO: {:.4f} ({:.4f})\\n\".format(score.mean(), score.std()), datetime.now(), )\n",
    "\n",
    "# score = cv_rmse(elasticnet)\n",
    "# print(\"elastic net: {:.4f} ({:.4f})\\n\".format(score.mean(), score.std()), datetime.now(), )\n",
    "\n",
    "# score = cv_rmse(svr)\n",
    "# print(\"SVR: {:.4f} ({:.4f})\\n\".format(score.mean(), score.std()), datetime.now(), )"
   ]
  },
  {
   "cell_type": "code",
   "execution_count": 34,
   "metadata": {},
   "outputs": [
    {
     "output_type": "execute_result",
     "data": {
      "text/plain": [
       "(1459, 195)"
      ]
     },
     "metadata": {},
     "execution_count": 34
    }
   ],
   "source": [
    "#Testing data after preproscing\n",
    "Test_data=X.loc[\"y\"]\n",
    "Test_data.shape"
   ]
  },
  {
   "cell_type": "code",
   "execution_count": 35,
   "metadata": {},
   "outputs": [
    {
     "output_type": "execute_result",
     "data": {
      "text/plain": [
       "    LotArea  OverallQual  SalePrice  OverallCond  YearBuilt  YearRemodAdd  \\\n",
       "0  0.033420     0.666667     208500        0.500   0.949275      0.883333   \n",
       "1  0.038795     0.555556     181500        0.875   0.753623      0.433333   \n",
       "2  0.046507     0.666667     223500        0.500   0.934783      0.866667   \n",
       "3  0.038561     0.666667     140000        0.500   0.311594      0.333333   \n",
       "4  0.060576     0.777778     250000        0.500   0.927536      0.833333   \n",
       "\n",
       "   MasVnrArea  BsmtFinSF1  BsmtFinSF2  TotalBsmtSF  ...  MoSold_May  \\\n",
       "0     0.12250    0.125089         0.0     0.140098  ...         0.0   \n",
       "1     0.00000    0.173281         0.0     0.206547  ...         1.0   \n",
       "2     0.10125    0.086109         0.0     0.150573  ...         0.0   \n",
       "3     0.00000    0.038271         0.0     0.123732  ...         0.0   \n",
       "4     0.21875    0.116052         0.0     0.187398  ...         0.0   \n",
       "\n",
       "   MoSold_Nov  MoSold_Oct  MoSold_Sep  SaleType_New  SaleType_Other  \\\n",
       "0         0.0         0.0         0.0           0.0             0.0   \n",
       "1         0.0         0.0         0.0           0.0             0.0   \n",
       "2         0.0         0.0         1.0           0.0             0.0   \n",
       "3         0.0         0.0         0.0           0.0             0.0   \n",
       "4         0.0         0.0         0.0           0.0             0.0   \n",
       "\n",
       "   SaleType_WD  SaleCondition_Family  SaleCondition_Normal  \\\n",
       "0          1.0                   0.0                   1.0   \n",
       "1          1.0                   0.0                   1.0   \n",
       "2          1.0                   0.0                   1.0   \n",
       "3          1.0                   0.0                   0.0   \n",
       "4          1.0                   0.0                   1.0   \n",
       "\n",
       "   SaleCondition_Other  \n",
       "0                  0.0  \n",
       "1                  0.0  \n",
       "2                  0.0  \n",
       "3                  0.0  \n",
       "4                  0.0  \n",
       "\n",
       "[5 rows x 196 columns]"
      ],
      "text/html": "<div>\n<style scoped>\n    .dataframe tbody tr th:only-of-type {\n        vertical-align: middle;\n    }\n\n    .dataframe tbody tr th {\n        vertical-align: top;\n    }\n\n    .dataframe thead th {\n        text-align: right;\n    }\n</style>\n<table border=\"1\" class=\"dataframe\">\n  <thead>\n    <tr style=\"text-align: right;\">\n      <th></th>\n      <th>LotArea</th>\n      <th>OverallQual</th>\n      <th>SalePrice</th>\n      <th>OverallCond</th>\n      <th>YearBuilt</th>\n      <th>YearRemodAdd</th>\n      <th>MasVnrArea</th>\n      <th>BsmtFinSF1</th>\n      <th>BsmtFinSF2</th>\n      <th>TotalBsmtSF</th>\n      <th>...</th>\n      <th>MoSold_May</th>\n      <th>MoSold_Nov</th>\n      <th>MoSold_Oct</th>\n      <th>MoSold_Sep</th>\n      <th>SaleType_New</th>\n      <th>SaleType_Other</th>\n      <th>SaleType_WD</th>\n      <th>SaleCondition_Family</th>\n      <th>SaleCondition_Normal</th>\n      <th>SaleCondition_Other</th>\n    </tr>\n  </thead>\n  <tbody>\n    <tr>\n      <th>0</th>\n      <td>0.033420</td>\n      <td>0.666667</td>\n      <td>208500</td>\n      <td>0.500</td>\n      <td>0.949275</td>\n      <td>0.883333</td>\n      <td>0.12250</td>\n      <td>0.125089</td>\n      <td>0.0</td>\n      <td>0.140098</td>\n      <td>...</td>\n      <td>0.0</td>\n      <td>0.0</td>\n      <td>0.0</td>\n      <td>0.0</td>\n      <td>0.0</td>\n      <td>0.0</td>\n      <td>1.0</td>\n      <td>0.0</td>\n      <td>1.0</td>\n      <td>0.0</td>\n    </tr>\n    <tr>\n      <th>1</th>\n      <td>0.038795</td>\n      <td>0.555556</td>\n      <td>181500</td>\n      <td>0.875</td>\n      <td>0.753623</td>\n      <td>0.433333</td>\n      <td>0.00000</td>\n      <td>0.173281</td>\n      <td>0.0</td>\n      <td>0.206547</td>\n      <td>...</td>\n      <td>1.0</td>\n      <td>0.0</td>\n      <td>0.0</td>\n      <td>0.0</td>\n      <td>0.0</td>\n      <td>0.0</td>\n      <td>1.0</td>\n      <td>0.0</td>\n      <td>1.0</td>\n      <td>0.0</td>\n    </tr>\n    <tr>\n      <th>2</th>\n      <td>0.046507</td>\n      <td>0.666667</td>\n      <td>223500</td>\n      <td>0.500</td>\n      <td>0.934783</td>\n      <td>0.866667</td>\n      <td>0.10125</td>\n      <td>0.086109</td>\n      <td>0.0</td>\n      <td>0.150573</td>\n      <td>...</td>\n      <td>0.0</td>\n      <td>0.0</td>\n      <td>0.0</td>\n      <td>1.0</td>\n      <td>0.0</td>\n      <td>0.0</td>\n      <td>1.0</td>\n      <td>0.0</td>\n      <td>1.0</td>\n      <td>0.0</td>\n    </tr>\n    <tr>\n      <th>3</th>\n      <td>0.038561</td>\n      <td>0.666667</td>\n      <td>140000</td>\n      <td>0.500</td>\n      <td>0.311594</td>\n      <td>0.333333</td>\n      <td>0.00000</td>\n      <td>0.038271</td>\n      <td>0.0</td>\n      <td>0.123732</td>\n      <td>...</td>\n      <td>0.0</td>\n      <td>0.0</td>\n      <td>0.0</td>\n      <td>0.0</td>\n      <td>0.0</td>\n      <td>0.0</td>\n      <td>1.0</td>\n      <td>0.0</td>\n      <td>0.0</td>\n      <td>0.0</td>\n    </tr>\n    <tr>\n      <th>4</th>\n      <td>0.060576</td>\n      <td>0.777778</td>\n      <td>250000</td>\n      <td>0.500</td>\n      <td>0.927536</td>\n      <td>0.833333</td>\n      <td>0.21875</td>\n      <td>0.116052</td>\n      <td>0.0</td>\n      <td>0.187398</td>\n      <td>...</td>\n      <td>0.0</td>\n      <td>0.0</td>\n      <td>0.0</td>\n      <td>0.0</td>\n      <td>0.0</td>\n      <td>0.0</td>\n      <td>1.0</td>\n      <td>0.0</td>\n      <td>1.0</td>\n      <td>0.0</td>\n    </tr>\n  </tbody>\n</table>\n<p>5 rows × 196 columns</p>\n</div>"
     },
     "metadata": {},
     "execution_count": 35
    }
   ],
   "source": [
    "#here we add salePrice column in traning data\n",
    "Train_data.insert(2,column=\"SalePrice\",value=Sale_Price)\n",
    "Train_data.head()"
   ]
  },
  {
   "cell_type": "code",
   "execution_count": 36,
   "metadata": {},
   "outputs": [],
   "source": [
    "x=Train_data.drop([\"SalePrice\"],axis=True)\n",
    "y=Train_data[\"SalePrice\"]"
   ]
  },
  {
   "cell_type": "code",
   "execution_count": 37,
   "metadata": {},
   "outputs": [],
   "source": [
    "# print('Lasso')\n",
    "# lasso_model_full_data = lasso.fit(x, y)\n",
    "# print('Ridge')\n",
    "# ridge_model_full_data = ridge.fit(x, y)\n",
    "# print('Svr')\n",
    "# svr_model_full_data = svr.fit(x, y)"
   ]
  },
  {
   "source": [
    "## train_test_split"
   ],
   "cell_type": "markdown",
   "metadata": {}
  },
  {
   "cell_type": "code",
   "execution_count": 38,
   "metadata": {},
   "outputs": [],
   "source": [
    "from sklearn.model_selection import train_test_split\n",
    "x_train,x_test,y_train,y_test=train_test_split(x,y,test_size=.30,random_state=40)"
   ]
  },
  {
   "cell_type": "code",
   "execution_count": 39,
   "metadata": {},
   "outputs": [
    {
     "output_type": "stream",
     "name": "stdout",
     "text": [
      "0.8788879766107057\n"
     ]
    }
   ],
   "source": [
    "from sklearn.ensemble import RandomForestRegressor\n",
    "rfr=RandomForestRegressor(n_estimators = 50,random_state=40,\n",
    "                          min_impurity_decrease=0.002,min_weight_fraction_leaf=0.001,min_samples_split=5)\n",
    "rfr.fit(x_train,y_train)\n",
    "y_predictrfc = rfr.predict(x_test)\n",
    "\n",
    "#here we can check our model score\n",
    "print(rfr.score(x_test,y_test))"
   ]
  },
  {
   "cell_type": "code",
   "execution_count": 40,
   "metadata": {},
   "outputs": [
    {
     "output_type": "stream",
     "name": "stdout",
     "text": [
      "mear squares error : 25111.505338925122\n"
     ]
    }
   ],
   "source": [
    "rmse = math.sqrt(mean_squared_error(y_test, rfr.predict(x_test)))\n",
    "\n",
    "print(\"mear squares error :\",rmse)"
   ]
  },
  {
   "cell_type": "code",
   "execution_count": 41,
   "metadata": {},
   "outputs": [
    {
     "output_type": "stream",
     "name": "stdout",
     "text": [
      "0.7402935013636911\n"
     ]
    }
   ],
   "source": [
    "from sklearn.tree import DecisionTreeRegressor\n",
    "dtr=DecisionTreeRegressor(random_state=140,min_samples_split=5,min_impurity_decrease=0.002,min_weight_fraction_leaf=0.001)\n",
    "dtr.fit(x_train,y_train)\n",
    "\n",
    "#u can also use GridSearchCV / random Searchcv for hyperperameter tuning\n",
    "print(dtr.score(x_test,y_test))\n"
   ]
  },
  {
   "cell_type": "code",
   "execution_count": 42,
   "metadata": {},
   "outputs": [
    {
     "output_type": "stream",
     "name": "stdout",
     "text": [
      "RMSE: 36772.27729596568\n"
     ]
    }
   ],
   "source": [
    "rmse = math.sqrt(mean_squared_error(y_test, dtr.predict(x_test)))\n",
    "print(\"RMSE:\",rmse)"
   ]
  },
  {
   "source": [
    "## GBoost parameters"
   ],
   "cell_type": "markdown",
   "metadata": {}
  },
  {
   "cell_type": "code",
   "execution_count": 43,
   "metadata": {},
   "outputs": [],
   "source": [
    "# GBoost = GradientBoostingRegressor(n_estimators=5000, learning_rate=0.05,\n",
    "#                                    max_depth=4, max_features='sqrt',\n",
    "#                                    min_samples_leaf=15, min_samples_split=10, \n",
    "#                                    loss='huber', random_state =5)\n",
    "# #RMSE estimated through the partition of the train set\n",
    "# GBoost.fit(x_train, y_train)\n",
    "\n",
    "# print(\"RMSE: %.4f\" % rmse)"
   ]
  },
  {
   "cell_type": "code",
   "execution_count": 44,
   "metadata": {},
   "outputs": [
    {
     "output_type": "stream",
     "name": "stdout",
     "text": [
      "RMSE: 36772.2773\n"
     ]
    }
   ],
   "source": [
    "GBoost= GradientBoostingRegressor(n_estimators=3000, learning_rate=0.05,\n",
    "                                   max_depth=4, max_features='sqrt',\n",
    "                                   min_samples_leaf=15, min_samples_split=10, \n",
    "                                   loss='huber', random_state =42)\n",
    "                                   #RMSE estimated through the partition of the train set\n",
    "GBoost.fit(x_train, y_train)\n",
    "\n",
    "print(\"RMSE: %.4f\" % rmse)\n",
    "                                   "
   ]
  },
  {
   "cell_type": "code",
   "execution_count": 45,
   "metadata": {},
   "outputs": [
    {
     "output_type": "stream",
     "name": "stdout",
     "text": [
      "0.9204853720103662\n"
     ]
    }
   ],
   "source": [
    "print(GBoost.score(x_test,y_test))"
   ]
  },
  {
   "cell_type": "code",
   "execution_count": 46,
   "metadata": {},
   "outputs": [
    {
     "output_type": "stream",
     "name": "stdout",
     "text": [
      "[LightGBM] [Warning] bagging_freq is set=5, subsample_freq=0 will be ignored. Current value: bagging_freq=5\n",
      "[LightGBM] [Warning] feature_fraction is set=0.2, colsample_bytree=1.0 will be ignored. Current value: feature_fraction=0.2\n",
      "[LightGBM] [Warning] bagging_fraction is set=0.75, subsample=1.0 will be ignored. Current value: bagging_fraction=0.75\n",
      "0.9062602968991099\n"
     ]
    }
   ],
   "source": [
    "lightgbm = LGBMRegressor(objective='regression', \n",
    "                                       num_leaves=4,\n",
    "                                       learning_rate=0.01, \n",
    "                                       n_estimators=5000,\n",
    "                                       max_bin=200, \n",
    "                                       bagging_fraction=0.75,\n",
    "                                       bagging_freq=5, \n",
    "                                       bagging_seed=7,\n",
    "                                       feature_fraction=0.2,\n",
    "                                       feature_fraction_seed=7,\n",
    "                                       verbose=-1,\n",
    "                                       #min_data_in_leaf=2,\n",
    "                                       #min_sum_hessian_in_leaf=11\n",
    "                                       )\n",
    "lightgbm.fit(x_train,y_train)\n",
    "print(lightgbm.score(x_test,y_test))"
   ]
  },
  {
   "cell_type": "code",
   "execution_count": 47,
   "metadata": {},
   "outputs": [
    {
     "output_type": "stream",
     "name": "stdout",
     "text": [
      "[18:52:36] WARNING: /Users/travis/build/dmlc/xgboost/src/objective/regression_obj.cu:171: reg:linear is now deprecated in favor of reg:squarederror.\n",
      "0.8925783006046037\n",
      "/usr/local/lib/python3.8/site-packages/xgboost/data.py:112: UserWarning: Use subset (sliced data) of np.ndarray is not recommended because it will generate extra copies and increase memory consumption\n",
      "  warnings.warn(\n"
     ]
    }
   ],
   "source": [
    "xgboost = XGBRegressor(learning_rate=0.01, n_estimators=3460,\n",
    "                                     max_depth=3, min_child_weight=0,\n",
    "                                     gamma=0, subsample=0.7,\n",
    "                                     colsample_bytree=0.7,\n",
    "                                     objective='reg:linear', nthread=-1,\n",
    "                                     scale_pos_weight=1, seed=27,\n",
    "                                 reg_alpha=0.00006)\n",
    "xgboost.fit(x_train,y_train) \n",
    "print(xgboost.score(x_test,y_test))                            "
   ]
  },
  {
   "cell_type": "code",
   "execution_count": 48,
   "metadata": {},
   "outputs": [],
   "source": [
    "# stack\n",
    "# stack_gen = StackingCVRegressor(regressors=( xgboost, GBoost, lightgbm),meta_regressor=GBoost,use_features_in_secondary=True)"
   ]
  },
  {
   "cell_type": "code",
   "execution_count": 49,
   "metadata": {},
   "outputs": [],
   "source": [
    "# stack_gen.fit(x_train,y_train)\n",
    "# print(stack_gen.score(x_test,y_test))   "
   ]
  },
  {
   "cell_type": "code",
   "execution_count": 50,
   "metadata": {},
   "outputs": [
    {
     "output_type": "execute_result",
     "data": {
      "text/plain": [
       "    LotArea  OverallQual  OverallCond  YearBuilt  YearRemodAdd  MasVnrArea  \\\n",
       "0  0.048246     0.444444        0.625   0.644928      0.183333      0.0000   \n",
       "1  0.060609     0.555556        0.625   0.623188      0.133333      0.0675   \n",
       "2  0.058566     0.444444        0.500   0.905797      0.800000      0.0000   \n",
       "3  0.040562     0.555556        0.625   0.913043      0.800000      0.0125   \n",
       "4  0.017318     0.777778        0.500   0.869565      0.700000      0.0000   \n",
       "\n",
       "   BsmtFinSF1  BsmtFinSF2  TotalBsmtSF  1stFlrSF  ...  MoSold_May  MoSold_Nov  \\\n",
       "0    0.082920    0.094364     0.144354  0.118042  ...         0.0         0.0   \n",
       "1    0.163536    0.000000     0.217512  0.208990  ...         0.0         0.0   \n",
       "2    0.140149    0.000000     0.151882  0.124764  ...         0.0         0.0   \n",
       "3    0.106662    0.000000     0.151555  0.124344  ...         0.0         0.0   \n",
       "4    0.046598    0.000000     0.209493  0.198698  ...         0.0         0.0   \n",
       "\n",
       "   MoSold_Oct  MoSold_Sep  SaleType_New  SaleType_Other  SaleType_WD  \\\n",
       "0         0.0         0.0           0.0             0.0          1.0   \n",
       "1         0.0         0.0           0.0             0.0          1.0   \n",
       "2         0.0         0.0           0.0             0.0          1.0   \n",
       "3         0.0         0.0           0.0             0.0          1.0   \n",
       "4         0.0         0.0           0.0             0.0          1.0   \n",
       "\n",
       "   SaleCondition_Family  SaleCondition_Normal  SaleCondition_Other  \n",
       "0                   0.0                   1.0                  0.0  \n",
       "1                   0.0                   1.0                  0.0  \n",
       "2                   0.0                   1.0                  0.0  \n",
       "3                   0.0                   1.0                  0.0  \n",
       "4                   0.0                   1.0                  0.0  \n",
       "\n",
       "[5 rows x 195 columns]"
      ],
      "text/html": "<div>\n<style scoped>\n    .dataframe tbody tr th:only-of-type {\n        vertical-align: middle;\n    }\n\n    .dataframe tbody tr th {\n        vertical-align: top;\n    }\n\n    .dataframe thead th {\n        text-align: right;\n    }\n</style>\n<table border=\"1\" class=\"dataframe\">\n  <thead>\n    <tr style=\"text-align: right;\">\n      <th></th>\n      <th>LotArea</th>\n      <th>OverallQual</th>\n      <th>OverallCond</th>\n      <th>YearBuilt</th>\n      <th>YearRemodAdd</th>\n      <th>MasVnrArea</th>\n      <th>BsmtFinSF1</th>\n      <th>BsmtFinSF2</th>\n      <th>TotalBsmtSF</th>\n      <th>1stFlrSF</th>\n      <th>...</th>\n      <th>MoSold_May</th>\n      <th>MoSold_Nov</th>\n      <th>MoSold_Oct</th>\n      <th>MoSold_Sep</th>\n      <th>SaleType_New</th>\n      <th>SaleType_Other</th>\n      <th>SaleType_WD</th>\n      <th>SaleCondition_Family</th>\n      <th>SaleCondition_Normal</th>\n      <th>SaleCondition_Other</th>\n    </tr>\n  </thead>\n  <tbody>\n    <tr>\n      <th>0</th>\n      <td>0.048246</td>\n      <td>0.444444</td>\n      <td>0.625</td>\n      <td>0.644928</td>\n      <td>0.183333</td>\n      <td>0.0000</td>\n      <td>0.082920</td>\n      <td>0.094364</td>\n      <td>0.144354</td>\n      <td>0.118042</td>\n      <td>...</td>\n      <td>0.0</td>\n      <td>0.0</td>\n      <td>0.0</td>\n      <td>0.0</td>\n      <td>0.0</td>\n      <td>0.0</td>\n      <td>1.0</td>\n      <td>0.0</td>\n      <td>1.0</td>\n      <td>0.0</td>\n    </tr>\n    <tr>\n      <th>1</th>\n      <td>0.060609</td>\n      <td>0.555556</td>\n      <td>0.625</td>\n      <td>0.623188</td>\n      <td>0.133333</td>\n      <td>0.0675</td>\n      <td>0.163536</td>\n      <td>0.000000</td>\n      <td>0.217512</td>\n      <td>0.208990</td>\n      <td>...</td>\n      <td>0.0</td>\n      <td>0.0</td>\n      <td>0.0</td>\n      <td>0.0</td>\n      <td>0.0</td>\n      <td>0.0</td>\n      <td>1.0</td>\n      <td>0.0</td>\n      <td>1.0</td>\n      <td>0.0</td>\n    </tr>\n    <tr>\n      <th>2</th>\n      <td>0.058566</td>\n      <td>0.444444</td>\n      <td>0.500</td>\n      <td>0.905797</td>\n      <td>0.800000</td>\n      <td>0.0000</td>\n      <td>0.140149</td>\n      <td>0.000000</td>\n      <td>0.151882</td>\n      <td>0.124764</td>\n      <td>...</td>\n      <td>0.0</td>\n      <td>0.0</td>\n      <td>0.0</td>\n      <td>0.0</td>\n      <td>0.0</td>\n      <td>0.0</td>\n      <td>1.0</td>\n      <td>0.0</td>\n      <td>1.0</td>\n      <td>0.0</td>\n    </tr>\n    <tr>\n      <th>3</th>\n      <td>0.040562</td>\n      <td>0.555556</td>\n      <td>0.625</td>\n      <td>0.913043</td>\n      <td>0.800000</td>\n      <td>0.0125</td>\n      <td>0.106662</td>\n      <td>0.000000</td>\n      <td>0.151555</td>\n      <td>0.124344</td>\n      <td>...</td>\n      <td>0.0</td>\n      <td>0.0</td>\n      <td>0.0</td>\n      <td>0.0</td>\n      <td>0.0</td>\n      <td>0.0</td>\n      <td>1.0</td>\n      <td>0.0</td>\n      <td>1.0</td>\n      <td>0.0</td>\n    </tr>\n    <tr>\n      <th>4</th>\n      <td>0.017318</td>\n      <td>0.777778</td>\n      <td>0.500</td>\n      <td>0.869565</td>\n      <td>0.700000</td>\n      <td>0.0000</td>\n      <td>0.046598</td>\n      <td>0.000000</td>\n      <td>0.209493</td>\n      <td>0.198698</td>\n      <td>...</td>\n      <td>0.0</td>\n      <td>0.0</td>\n      <td>0.0</td>\n      <td>0.0</td>\n      <td>0.0</td>\n      <td>0.0</td>\n      <td>1.0</td>\n      <td>0.0</td>\n      <td>1.0</td>\n      <td>0.0</td>\n    </tr>\n  </tbody>\n</table>\n<p>5 rows × 195 columns</p>\n</div>"
     },
     "metadata": {},
     "execution_count": 50
    }
   ],
   "source": [
    "#here we see test data here one column is missing that is Saleprice bcoz that is need to predict\n",
    "Test_data.head()"
   ]
  },
  {
   "cell_type": "code",
   "execution_count": 51,
   "metadata": {},
   "outputs": [
    {
     "output_type": "execute_result",
     "data": {
      "text/plain": [
       "(1459, 195)"
      ]
     },
     "metadata": {},
     "execution_count": 51
    }
   ],
   "source": [
    "Test_data.shape"
   ]
  },
  {
   "cell_type": "code",
   "execution_count": 52,
   "metadata": {},
   "outputs": [
    {
     "output_type": "stream",
     "name": "stderr",
     "text": [
      "/usr/local/lib/python3.8/site-packages/xgboost/data.py:112: UserWarning: Use subset (sliced data) of np.ndarray is not recommended because it will generate extra copies and increase memory consumption\n  warnings.warn(\n"
     ]
    }
   ],
   "source": [
    "# y_model_prerfc = GBoost.predict(Test_data)\n",
    "# y_model_prerfc=dtr.predict(Test_data)\n",
    "# y_model_prerfc = stack_gen.predict(Test_data)\n",
    "y_model_prerfc=xgboost.predict(Test_data)"
   ]
  },
  {
   "cell_type": "code",
   "execution_count": 53,
   "metadata": {},
   "outputs": [],
   "source": [
    "y_model_prerfc=np.around(y_model_prerfc,0)"
   ]
  },
  {
   "cell_type": "code",
   "execution_count": 54,
   "metadata": {},
   "outputs": [
    {
     "output_type": "execute_result",
     "data": {
      "text/plain": [
       "     Id  MSSubClass MSZoning  LotFrontage  LotArea Street Alley LotShape  \\\n",
       "0  1461          20       RH         80.0    11622   Pave   NaN      Reg   \n",
       "1  1462          20       RL         81.0    14267   Pave   NaN      IR1   \n",
       "2  1463          60       RL         74.0    13830   Pave   NaN      IR1   \n",
       "3  1464          60       RL         78.0     9978   Pave   NaN      IR1   \n",
       "4  1465         120       RL         43.0     5005   Pave   NaN      IR1   \n",
       "\n",
       "  LandContour Utilities  ... ScreenPorch PoolArea PoolQC  Fence MiscFeature  \\\n",
       "0         Lvl    AllPub  ...         120        0    NaN  MnPrv         NaN   \n",
       "1         Lvl    AllPub  ...           0        0    NaN    NaN        Gar2   \n",
       "2         Lvl    AllPub  ...           0        0    NaN  MnPrv         NaN   \n",
       "3         Lvl    AllPub  ...           0        0    NaN    NaN         NaN   \n",
       "4         HLS    AllPub  ...         144        0    NaN    NaN         NaN   \n",
       "\n",
       "  MiscVal MoSold  YrSold  SaleType  SaleCondition  \n",
       "0       0      6    2010        WD         Normal  \n",
       "1   12500      6    2010        WD         Normal  \n",
       "2       0      3    2010        WD         Normal  \n",
       "3       0      6    2010        WD         Normal  \n",
       "4       0      1    2010        WD         Normal  \n",
       "\n",
       "[5 rows x 80 columns]"
      ],
      "text/html": "<div>\n<style scoped>\n    .dataframe tbody tr th:only-of-type {\n        vertical-align: middle;\n    }\n\n    .dataframe tbody tr th {\n        vertical-align: top;\n    }\n\n    .dataframe thead th {\n        text-align: right;\n    }\n</style>\n<table border=\"1\" class=\"dataframe\">\n  <thead>\n    <tr style=\"text-align: right;\">\n      <th></th>\n      <th>Id</th>\n      <th>MSSubClass</th>\n      <th>MSZoning</th>\n      <th>LotFrontage</th>\n      <th>LotArea</th>\n      <th>Street</th>\n      <th>Alley</th>\n      <th>LotShape</th>\n      <th>LandContour</th>\n      <th>Utilities</th>\n      <th>...</th>\n      <th>ScreenPorch</th>\n      <th>PoolArea</th>\n      <th>PoolQC</th>\n      <th>Fence</th>\n      <th>MiscFeature</th>\n      <th>MiscVal</th>\n      <th>MoSold</th>\n      <th>YrSold</th>\n      <th>SaleType</th>\n      <th>SaleCondition</th>\n    </tr>\n  </thead>\n  <tbody>\n    <tr>\n      <th>0</th>\n      <td>1461</td>\n      <td>20</td>\n      <td>RH</td>\n      <td>80.0</td>\n      <td>11622</td>\n      <td>Pave</td>\n      <td>NaN</td>\n      <td>Reg</td>\n      <td>Lvl</td>\n      <td>AllPub</td>\n      <td>...</td>\n      <td>120</td>\n      <td>0</td>\n      <td>NaN</td>\n      <td>MnPrv</td>\n      <td>NaN</td>\n      <td>0</td>\n      <td>6</td>\n      <td>2010</td>\n      <td>WD</td>\n      <td>Normal</td>\n    </tr>\n    <tr>\n      <th>1</th>\n      <td>1462</td>\n      <td>20</td>\n      <td>RL</td>\n      <td>81.0</td>\n      <td>14267</td>\n      <td>Pave</td>\n      <td>NaN</td>\n      <td>IR1</td>\n      <td>Lvl</td>\n      <td>AllPub</td>\n      <td>...</td>\n      <td>0</td>\n      <td>0</td>\n      <td>NaN</td>\n      <td>NaN</td>\n      <td>Gar2</td>\n      <td>12500</td>\n      <td>6</td>\n      <td>2010</td>\n      <td>WD</td>\n      <td>Normal</td>\n    </tr>\n    <tr>\n      <th>2</th>\n      <td>1463</td>\n      <td>60</td>\n      <td>RL</td>\n      <td>74.0</td>\n      <td>13830</td>\n      <td>Pave</td>\n      <td>NaN</td>\n      <td>IR1</td>\n      <td>Lvl</td>\n      <td>AllPub</td>\n      <td>...</td>\n      <td>0</td>\n      <td>0</td>\n      <td>NaN</td>\n      <td>MnPrv</td>\n      <td>NaN</td>\n      <td>0</td>\n      <td>3</td>\n      <td>2010</td>\n      <td>WD</td>\n      <td>Normal</td>\n    </tr>\n    <tr>\n      <th>3</th>\n      <td>1464</td>\n      <td>60</td>\n      <td>RL</td>\n      <td>78.0</td>\n      <td>9978</td>\n      <td>Pave</td>\n      <td>NaN</td>\n      <td>IR1</td>\n      <td>Lvl</td>\n      <td>AllPub</td>\n      <td>...</td>\n      <td>0</td>\n      <td>0</td>\n      <td>NaN</td>\n      <td>NaN</td>\n      <td>NaN</td>\n      <td>0</td>\n      <td>6</td>\n      <td>2010</td>\n      <td>WD</td>\n      <td>Normal</td>\n    </tr>\n    <tr>\n      <th>4</th>\n      <td>1465</td>\n      <td>120</td>\n      <td>RL</td>\n      <td>43.0</td>\n      <td>5005</td>\n      <td>Pave</td>\n      <td>NaN</td>\n      <td>IR1</td>\n      <td>HLS</td>\n      <td>AllPub</td>\n      <td>...</td>\n      <td>144</td>\n      <td>0</td>\n      <td>NaN</td>\n      <td>NaN</td>\n      <td>NaN</td>\n      <td>0</td>\n      <td>1</td>\n      <td>2010</td>\n      <td>WD</td>\n      <td>Normal</td>\n    </tr>\n  </tbody>\n</table>\n<p>5 rows × 80 columns</p>\n</div>"
     },
     "metadata": {},
     "execution_count": 54
    }
   ],
   "source": [
    "prediction=np.array(y_model_prerfc).tolist()\n",
    "test.head()"
   ]
  },
  {
   "cell_type": "code",
   "execution_count": 55,
   "metadata": {},
   "outputs": [
    {
     "output_type": "execute_result",
     "data": {
      "text/plain": [
       "     Id  MSSubClass MSZoning  LotFrontage  LotArea Street Alley LotShape  \\\n",
       "0  1461          20       RH         80.0    11622   Pave   NaN      Reg   \n",
       "1  1462          20       RL         81.0    14267   Pave   NaN      IR1   \n",
       "2  1463          60       RL         74.0    13830   Pave   NaN      IR1   \n",
       "3  1464          60       RL         78.0     9978   Pave   NaN      IR1   \n",
       "4  1465         120       RL         43.0     5005   Pave   NaN      IR1   \n",
       "\n",
       "  LandContour Utilities  ... ScreenPorch PoolArea PoolQC  Fence MiscFeature  \\\n",
       "0         Lvl    AllPub  ...         120        0    NaN  MnPrv         NaN   \n",
       "1         Lvl    AllPub  ...           0        0    NaN    NaN        Gar2   \n",
       "2         Lvl    AllPub  ...           0        0    NaN  MnPrv         NaN   \n",
       "3         Lvl    AllPub  ...           0        0    NaN    NaN         NaN   \n",
       "4         HLS    AllPub  ...         144        0    NaN    NaN         NaN   \n",
       "\n",
       "  MiscVal MoSold  YrSold  SaleType  SaleCondition  \n",
       "0       0      6    2010        WD         Normal  \n",
       "1   12500      6    2010        WD         Normal  \n",
       "2       0      3    2010        WD         Normal  \n",
       "3       0      6    2010        WD         Normal  \n",
       "4       0      1    2010        WD         Normal  \n",
       "\n",
       "[5 rows x 80 columns]"
      ],
      "text/html": "<div>\n<style scoped>\n    .dataframe tbody tr th:only-of-type {\n        vertical-align: middle;\n    }\n\n    .dataframe tbody tr th {\n        vertical-align: top;\n    }\n\n    .dataframe thead th {\n        text-align: right;\n    }\n</style>\n<table border=\"1\" class=\"dataframe\">\n  <thead>\n    <tr style=\"text-align: right;\">\n      <th></th>\n      <th>Id</th>\n      <th>MSSubClass</th>\n      <th>MSZoning</th>\n      <th>LotFrontage</th>\n      <th>LotArea</th>\n      <th>Street</th>\n      <th>Alley</th>\n      <th>LotShape</th>\n      <th>LandContour</th>\n      <th>Utilities</th>\n      <th>...</th>\n      <th>ScreenPorch</th>\n      <th>PoolArea</th>\n      <th>PoolQC</th>\n      <th>Fence</th>\n      <th>MiscFeature</th>\n      <th>MiscVal</th>\n      <th>MoSold</th>\n      <th>YrSold</th>\n      <th>SaleType</th>\n      <th>SaleCondition</th>\n    </tr>\n  </thead>\n  <tbody>\n    <tr>\n      <th>0</th>\n      <td>1461</td>\n      <td>20</td>\n      <td>RH</td>\n      <td>80.0</td>\n      <td>11622</td>\n      <td>Pave</td>\n      <td>NaN</td>\n      <td>Reg</td>\n      <td>Lvl</td>\n      <td>AllPub</td>\n      <td>...</td>\n      <td>120</td>\n      <td>0</td>\n      <td>NaN</td>\n      <td>MnPrv</td>\n      <td>NaN</td>\n      <td>0</td>\n      <td>6</td>\n      <td>2010</td>\n      <td>WD</td>\n      <td>Normal</td>\n    </tr>\n    <tr>\n      <th>1</th>\n      <td>1462</td>\n      <td>20</td>\n      <td>RL</td>\n      <td>81.0</td>\n      <td>14267</td>\n      <td>Pave</td>\n      <td>NaN</td>\n      <td>IR1</td>\n      <td>Lvl</td>\n      <td>AllPub</td>\n      <td>...</td>\n      <td>0</td>\n      <td>0</td>\n      <td>NaN</td>\n      <td>NaN</td>\n      <td>Gar2</td>\n      <td>12500</td>\n      <td>6</td>\n      <td>2010</td>\n      <td>WD</td>\n      <td>Normal</td>\n    </tr>\n    <tr>\n      <th>2</th>\n      <td>1463</td>\n      <td>60</td>\n      <td>RL</td>\n      <td>74.0</td>\n      <td>13830</td>\n      <td>Pave</td>\n      <td>NaN</td>\n      <td>IR1</td>\n      <td>Lvl</td>\n      <td>AllPub</td>\n      <td>...</td>\n      <td>0</td>\n      <td>0</td>\n      <td>NaN</td>\n      <td>MnPrv</td>\n      <td>NaN</td>\n      <td>0</td>\n      <td>3</td>\n      <td>2010</td>\n      <td>WD</td>\n      <td>Normal</td>\n    </tr>\n    <tr>\n      <th>3</th>\n      <td>1464</td>\n      <td>60</td>\n      <td>RL</td>\n      <td>78.0</td>\n      <td>9978</td>\n      <td>Pave</td>\n      <td>NaN</td>\n      <td>IR1</td>\n      <td>Lvl</td>\n      <td>AllPub</td>\n      <td>...</td>\n      <td>0</td>\n      <td>0</td>\n      <td>NaN</td>\n      <td>NaN</td>\n      <td>NaN</td>\n      <td>0</td>\n      <td>6</td>\n      <td>2010</td>\n      <td>WD</td>\n      <td>Normal</td>\n    </tr>\n    <tr>\n      <th>4</th>\n      <td>1465</td>\n      <td>120</td>\n      <td>RL</td>\n      <td>43.0</td>\n      <td>5005</td>\n      <td>Pave</td>\n      <td>NaN</td>\n      <td>IR1</td>\n      <td>HLS</td>\n      <td>AllPub</td>\n      <td>...</td>\n      <td>144</td>\n      <td>0</td>\n      <td>NaN</td>\n      <td>NaN</td>\n      <td>NaN</td>\n      <td>0</td>\n      <td>1</td>\n      <td>2010</td>\n      <td>WD</td>\n      <td>Normal</td>\n    </tr>\n  </tbody>\n</table>\n<p>5 rows × 80 columns</p>\n</div>"
     },
     "metadata": {},
     "execution_count": 55
    }
   ],
   "source": [
    "test.head()"
   ]
  },
  {
   "cell_type": "code",
   "execution_count": 56,
   "metadata": {},
   "outputs": [],
   "source": [
    "# test=test.drop([\"SalePrice\"],axis=1)"
   ]
  },
  {
   "cell_type": "code",
   "execution_count": 57,
   "metadata": {},
   "outputs": [
    {
     "output_type": "execute_result",
     "data": {
      "text/plain": [
       "     Id  SalePrice  MSSubClass MSZoning  LotFrontage  LotArea Street Alley  \\\n",
       "0  1461   117377.0          20       RH         80.0    11622   Pave   NaN   \n",
       "1  1462   164237.0          20       RL         81.0    14267   Pave   NaN   \n",
       "2  1463   181915.0          60       RL         74.0    13830   Pave   NaN   \n",
       "3  1464   193190.0          60       RL         78.0     9978   Pave   NaN   \n",
       "4  1465   185866.0         120       RL         43.0     5005   Pave   NaN   \n",
       "\n",
       "  LotShape LandContour  ... ScreenPorch PoolArea PoolQC  Fence MiscFeature  \\\n",
       "0      Reg         Lvl  ...         120        0    NaN  MnPrv         NaN   \n",
       "1      IR1         Lvl  ...           0        0    NaN    NaN        Gar2   \n",
       "2      IR1         Lvl  ...           0        0    NaN  MnPrv         NaN   \n",
       "3      IR1         Lvl  ...           0        0    NaN    NaN         NaN   \n",
       "4      IR1         HLS  ...         144        0    NaN    NaN         NaN   \n",
       "\n",
       "  MiscVal MoSold YrSold  SaleType  SaleCondition  \n",
       "0       0      6   2010        WD         Normal  \n",
       "1   12500      6   2010        WD         Normal  \n",
       "2       0      3   2010        WD         Normal  \n",
       "3       0      6   2010        WD         Normal  \n",
       "4       0      1   2010        WD         Normal  \n",
       "\n",
       "[5 rows x 81 columns]"
      ],
      "text/html": "<div>\n<style scoped>\n    .dataframe tbody tr th:only-of-type {\n        vertical-align: middle;\n    }\n\n    .dataframe tbody tr th {\n        vertical-align: top;\n    }\n\n    .dataframe thead th {\n        text-align: right;\n    }\n</style>\n<table border=\"1\" class=\"dataframe\">\n  <thead>\n    <tr style=\"text-align: right;\">\n      <th></th>\n      <th>Id</th>\n      <th>SalePrice</th>\n      <th>MSSubClass</th>\n      <th>MSZoning</th>\n      <th>LotFrontage</th>\n      <th>LotArea</th>\n      <th>Street</th>\n      <th>Alley</th>\n      <th>LotShape</th>\n      <th>LandContour</th>\n      <th>...</th>\n      <th>ScreenPorch</th>\n      <th>PoolArea</th>\n      <th>PoolQC</th>\n      <th>Fence</th>\n      <th>MiscFeature</th>\n      <th>MiscVal</th>\n      <th>MoSold</th>\n      <th>YrSold</th>\n      <th>SaleType</th>\n      <th>SaleCondition</th>\n    </tr>\n  </thead>\n  <tbody>\n    <tr>\n      <th>0</th>\n      <td>1461</td>\n      <td>117377.0</td>\n      <td>20</td>\n      <td>RH</td>\n      <td>80.0</td>\n      <td>11622</td>\n      <td>Pave</td>\n      <td>NaN</td>\n      <td>Reg</td>\n      <td>Lvl</td>\n      <td>...</td>\n      <td>120</td>\n      <td>0</td>\n      <td>NaN</td>\n      <td>MnPrv</td>\n      <td>NaN</td>\n      <td>0</td>\n      <td>6</td>\n      <td>2010</td>\n      <td>WD</td>\n      <td>Normal</td>\n    </tr>\n    <tr>\n      <th>1</th>\n      <td>1462</td>\n      <td>164237.0</td>\n      <td>20</td>\n      <td>RL</td>\n      <td>81.0</td>\n      <td>14267</td>\n      <td>Pave</td>\n      <td>NaN</td>\n      <td>IR1</td>\n      <td>Lvl</td>\n      <td>...</td>\n      <td>0</td>\n      <td>0</td>\n      <td>NaN</td>\n      <td>NaN</td>\n      <td>Gar2</td>\n      <td>12500</td>\n      <td>6</td>\n      <td>2010</td>\n      <td>WD</td>\n      <td>Normal</td>\n    </tr>\n    <tr>\n      <th>2</th>\n      <td>1463</td>\n      <td>181915.0</td>\n      <td>60</td>\n      <td>RL</td>\n      <td>74.0</td>\n      <td>13830</td>\n      <td>Pave</td>\n      <td>NaN</td>\n      <td>IR1</td>\n      <td>Lvl</td>\n      <td>...</td>\n      <td>0</td>\n      <td>0</td>\n      <td>NaN</td>\n      <td>MnPrv</td>\n      <td>NaN</td>\n      <td>0</td>\n      <td>3</td>\n      <td>2010</td>\n      <td>WD</td>\n      <td>Normal</td>\n    </tr>\n    <tr>\n      <th>3</th>\n      <td>1464</td>\n      <td>193190.0</td>\n      <td>60</td>\n      <td>RL</td>\n      <td>78.0</td>\n      <td>9978</td>\n      <td>Pave</td>\n      <td>NaN</td>\n      <td>IR1</td>\n      <td>Lvl</td>\n      <td>...</td>\n      <td>0</td>\n      <td>0</td>\n      <td>NaN</td>\n      <td>NaN</td>\n      <td>NaN</td>\n      <td>0</td>\n      <td>6</td>\n      <td>2010</td>\n      <td>WD</td>\n      <td>Normal</td>\n    </tr>\n    <tr>\n      <th>4</th>\n      <td>1465</td>\n      <td>185866.0</td>\n      <td>120</td>\n      <td>RL</td>\n      <td>43.0</td>\n      <td>5005</td>\n      <td>Pave</td>\n      <td>NaN</td>\n      <td>IR1</td>\n      <td>HLS</td>\n      <td>...</td>\n      <td>144</td>\n      <td>0</td>\n      <td>NaN</td>\n      <td>NaN</td>\n      <td>NaN</td>\n      <td>0</td>\n      <td>1</td>\n      <td>2010</td>\n      <td>WD</td>\n      <td>Normal</td>\n    </tr>\n  </tbody>\n</table>\n<p>5 rows × 81 columns</p>\n</div>"
     },
     "metadata": {},
     "execution_count": 57
    }
   ],
   "source": [
    "test.insert(1,column=\"SalePrice\",value=prediction)\n",
    "test.head()"
   ]
  },
  {
   "cell_type": "code",
   "execution_count": 58,
   "metadata": {},
   "outputs": [
    {
     "output_type": "execute_result",
     "data": {
      "text/plain": [
       "     Id  SalePrice\n",
       "0  1461   117377.0\n",
       "1  1462   164237.0\n",
       "2  1463   181915.0\n",
       "3  1464   193190.0\n",
       "4  1465   185866.0"
      ],
      "text/html": "<div>\n<style scoped>\n    .dataframe tbody tr th:only-of-type {\n        vertical-align: middle;\n    }\n\n    .dataframe tbody tr th {\n        vertical-align: top;\n    }\n\n    .dataframe thead th {\n        text-align: right;\n    }\n</style>\n<table border=\"1\" class=\"dataframe\">\n  <thead>\n    <tr style=\"text-align: right;\">\n      <th></th>\n      <th>Id</th>\n      <th>SalePrice</th>\n    </tr>\n  </thead>\n  <tbody>\n    <tr>\n      <th>0</th>\n      <td>1461</td>\n      <td>117377.0</td>\n    </tr>\n    <tr>\n      <th>1</th>\n      <td>1462</td>\n      <td>164237.0</td>\n    </tr>\n    <tr>\n      <th>2</th>\n      <td>1463</td>\n      <td>181915.0</td>\n    </tr>\n    <tr>\n      <th>3</th>\n      <td>1464</td>\n      <td>193190.0</td>\n    </tr>\n    <tr>\n      <th>4</th>\n      <td>1465</td>\n      <td>185866.0</td>\n    </tr>\n  </tbody>\n</table>\n</div>"
     },
     "metadata": {},
     "execution_count": 58
    }
   ],
   "source": [
    "predict_sub=test.drop(test.iloc[:,2:],axis=1)\n",
    "predict_sub.head()"
   ]
  },
  {
   "cell_type": "code",
   "execution_count": 59,
   "metadata": {},
   "outputs": [
    {
     "output_type": "execute_result",
     "data": {
      "text/plain": [
       "(1459, 2)"
      ]
     },
     "metadata": {},
     "execution_count": 59
    }
   ],
   "source": [
    "predict_sub.shape\n"
   ]
  },
  {
   "cell_type": "code",
   "execution_count": 60,
   "metadata": {},
   "outputs": [],
   "source": [
    "predict_sub.to_csv('Home_predictionsTest.csv',index=False)"
   ]
  },
  {
   "cell_type": "code",
   "execution_count": null,
   "metadata": {},
   "outputs": [],
   "source": []
  }
 ]
}