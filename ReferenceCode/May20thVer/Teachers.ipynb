{
 "metadata": {
  "language_info": {
   "codemirror_mode": {
    "name": "ipython",
    "version": 3
   },
   "file_extension": ".py",
   "mimetype": "text/x-python",
   "name": "python",
   "nbconvert_exporter": "python",
   "pygments_lexer": "ipython3",
   "version": "3.8.6"
  },
  "orig_nbformat": 2,
  "kernelspec": {
   "name": "python386jvsc74a57bd00adcc2737ebf6a4a119f135174df96668767fca1ef1112612db5ecadf2b6d608",
   "display_name": "Python 3.8.6 64-bit"
  },
  "metadata": {
   "interpreter": {
    "hash": "0adcc2737ebf6a4a119f135174df96668767fca1ef1112612db5ecadf2b6d608"
   }
  }
 },
 "nbformat": 4,
 "nbformat_minor": 2,
 "cells": [
  {
   "cell_type": "code",
   "execution_count": 1,
   "metadata": {},
   "outputs": [],
   "source": [
    "import sys\n",
    "sys.path.append(\"/Users/chixinning/Desktop/kaggle/KaggleMyOwn/Mycode/\")"
   ]
  },
  {
   "cell_type": "code",
   "execution_count": 2,
   "metadata": {},
   "outputs": [],
   "source": [
    "import pandas as pd\n",
    "import seaborn as sns\n",
    "import matplotlib.pyplot as plt\n",
    "import numpy as np\n",
    "from sklearn.preprocessing import StandardScaler\n",
    "from scipy.stats import norm\n",
    "from scipy import stats\n",
    "\n",
    "#importing all usefull lib\n",
    "import matplotlib.pyplot as plt\n",
    "import numpy as np\n",
    "from sklearn.preprocessing import MinMaxScaler\n",
    "from sklearn.model_selection import cross_val_score, train_test_split, KFold, cross_val_predict\n",
    "from sklearn.ensemble import RandomForestRegressor,GradientBoostingRegressor\n",
    "import pandas as pd\n",
    "import matplotlib.pyplot as plt\n",
    "import seaborn as sns\n",
    "from scipy.stats import norm\n",
    "%matplotlib inline\n",
    "from sklearn.linear_model import LinearRegression, RidgeCV, Lasso, ElasticNetCV, BayesianRidge, LassoLarsIC\n",
    "from sklearn.metrics import mean_squared_error, make_scorer \n",
    "from sklearn.kernel_ridge import KernelRidge\n",
    "from sklearn.pipeline import make_pipeline\n",
    "from sklearn.base import BaseEstimator, TransformerMixin, RegressorMixin, clone\n",
    "import math\n",
    "from datetime import datetime\n",
    "from scipy.stats import skew  # for some statistics\n",
    "from scipy.special import boxcox1p\n",
    "from scipy.stats import boxcox_normmax\n",
    "from sklearn.linear_model import ElasticNetCV, LassoCV, RidgeCV\n",
    "from sklearn.ensemble import GradientBoostingRegressor\n",
    "from sklearn.svm import SVR\n",
    "from sklearn.pipeline import make_pipeline\n",
    "from sklearn.preprocessing import RobustScaler\n",
    "from sklearn.model_selection import KFold, cross_val_score\n",
    "from sklearn.metrics import mean_squared_error\n",
    "from mlxtend.regressor import StackingCVRegressor\n",
    "from xgboost import XGBRegressor\n",
    "from lightgbm import LGBMRegressor\n",
    "import matplotlib.pyplot as plt\n",
    "import scipy.stats as stats\n",
    "import sklearn.linear_model as linear_model\n",
    "import seaborn as sns\n",
    "from sklearn.manifold import TSNE\n",
    "from sklearn.cluster import KMeans\n",
    "from sklearn.decomposition import PCA\n",
    "from sklearn.preprocessing import StandardScaler\n",
    "import pandas as pd\n",
    "import seaborn as sns\n",
    "import matplotlib.pyplot as plt\n",
    "import numpy as np\n",
    "from sklearn.preprocessing import StandardScaler\n",
    "from scipy.stats import norm\n",
    "from scipy import stats"
   ]
  },
  {
   "cell_type": "code",
   "execution_count": 3,
   "metadata": {},
   "outputs": [],
   "source": [
    "train_dataSet=pd.read_csv(\"/Users/chixinning/Desktop/kaggle/KaggleMyOwn/ReferenceCode/house-prices-advanced-regression-techniques/train.csv\")\n",
    "test_dataSet=pd.read_csv(\"/Users/chixinning/Desktop/kaggle/KaggleMyOwn/ReferenceCode/house-prices-advanced-regression-techniques/test.csv\")"
   ]
  },
  {
   "cell_type": "code",
   "execution_count": 4,
   "metadata": {},
   "outputs": [
    {
     "output_type": "stream",
     "name": "stdout",
     "text": [
      "(1458, 81)\n"
     ]
    }
   ],
   "source": [
    "train_dataSet=train_dataSet[train_dataSet.GrLivArea < 4500]\n",
    "print(train_dataSet.shape)\n",
    "train_dataSet.reset_index(drop=True, inplace=True)\n",
    "Sale_Price=train_dataSet.iloc[:,80]\n",
    "Sale_Price.shape\n",
    "Sale_Pricedf=pd.DataFrame(Sale_Price)"
   ]
  },
  {
   "cell_type": "code",
   "execution_count": 5,
   "metadata": {},
   "outputs": [
    {
     "output_type": "execute_result",
     "data": {
      "text/plain": [
       "           Total  Percent\n",
       "SalePrice      0      0.0"
      ],
      "text/html": "<div>\n<style scoped>\n    .dataframe tbody tr th:only-of-type {\n        vertical-align: middle;\n    }\n\n    .dataframe tbody tr th {\n        vertical-align: top;\n    }\n\n    .dataframe thead th {\n        text-align: right;\n    }\n</style>\n<table border=\"1\" class=\"dataframe\">\n  <thead>\n    <tr style=\"text-align: right;\">\n      <th></th>\n      <th>Total</th>\n      <th>Percent</th>\n    </tr>\n  </thead>\n  <tbody>\n    <tr>\n      <th>SalePrice</th>\n      <td>0</td>\n      <td>0.0</td>\n    </tr>\n  </tbody>\n</table>\n</div>"
     },
     "metadata": {},
     "execution_count": 5
    }
   ],
   "source": [
    "#3.1 data cleaning: no correct answer\n",
    "# how many % of data are missing\n",
    "total = Sale_Pricedf.isnull().sum().sort_values(ascending=False)\n",
    "percent = (Sale_Pricedf.isnull().sum()/Sale_Pricedf.isnull().count()).sort_values(ascending=False)\n",
    "missing_data = pd.concat([total, percent], axis=1, keys=['Total', 'Percent'])\n",
    "missing_data.head(20)\n",
    "# No missing checked"
   ]
  },
  {
   "cell_type": "code",
   "execution_count": 6,
   "metadata": {},
   "outputs": [
    {
     "output_type": "execute_result",
     "data": {
      "text/plain": [
       "(1458, 81)"
      ]
     },
     "metadata": {},
     "execution_count": 6
    }
   ],
   "source": [
    "train_dataSet.shape"
   ]
  },
  {
   "cell_type": "code",
   "execution_count": 7,
   "metadata": {},
   "outputs": [
    {
     "output_type": "execute_result",
     "data": {
      "text/plain": [
       "(1459, 80)"
      ]
     },
     "metadata": {},
     "execution_count": 7
    }
   ],
   "source": [
    "test_dataSet.shape"
   ]
  },
  {
   "cell_type": "code",
   "execution_count": 8,
   "metadata": {},
   "outputs": [
    {
     "output_type": "execute_result",
     "data": {
      "text/plain": [
       "(1458,)"
      ]
     },
     "metadata": {},
     "execution_count": 8
    }
   ],
   "source": [
    "Sale_Price.shape"
   ]
  },
  {
   "cell_type": "code",
   "execution_count": 9,
   "metadata": {},
   "outputs": [
    {
     "output_type": "stream",
     "name": "stdout",
     "text": [
      "(1458, 80)\n"
     ]
    }
   ],
   "source": [
    "train=train_dataSet.drop([\"SalePrice\"],axis=1)# combine test & train\n",
    "train_data=pd.concat([train,test_dataSet],keys=['train_part','test_part'])\n",
    "# train_data=pd.concat({'x':train,'y':test_dataSet})\n",
    "X=train_data.loc[\"train_part\"] # 这样就是runnable了\n",
    "print(X.shape)\n",
    "# train_data.index=train_data[\"Id\"]\n",
    "# train_data=train_data.drop([\"Id\"],axis=1)"
   ]
  },
  {
   "cell_type": "code",
   "execution_count": 10,
   "metadata": {},
   "outputs": [
    {
     "output_type": "execute_result",
     "data": {
      "text/plain": [
       "(2917, 80)"
      ]
     },
     "metadata": {},
     "execution_count": 10
    }
   ],
   "source": [
    "train_data.shape"
   ]
  },
  {
   "cell_type": "code",
   "execution_count": 11,
   "metadata": {},
   "outputs": [
    {
     "output_type": "execute_result",
     "data": {
      "text/plain": [
       "              Total   Percent\n",
       "PoolQC         1452  0.995885\n",
       "MiscFeature    1404  0.962963\n",
       "Alley          1367  0.937586\n",
       "Fence          1177  0.807270\n",
       "FireplaceQu     690  0.473251\n",
       "LotFrontage     259  0.177641\n",
       "GarageCond       81  0.055556\n",
       "GarageType       81  0.055556\n",
       "GarageYrBlt      81  0.055556\n",
       "GarageFinish     81  0.055556\n",
       "GarageQual       81  0.055556\n",
       "BsmtExposure     38  0.026063\n",
       "BsmtFinType2     38  0.026063\n",
       "BsmtCond         37  0.025377\n",
       "BsmtQual         37  0.025377\n",
       "BsmtFinType1     37  0.025377\n",
       "MasVnrArea        8  0.005487\n",
       "MasVnrType        8  0.005487\n",
       "Electrical        1  0.000686\n",
       "Utilities         0  0.000000"
      ],
      "text/html": "<div>\n<style scoped>\n    .dataframe tbody tr th:only-of-type {\n        vertical-align: middle;\n    }\n\n    .dataframe tbody tr th {\n        vertical-align: top;\n    }\n\n    .dataframe thead th {\n        text-align: right;\n    }\n</style>\n<table border=\"1\" class=\"dataframe\">\n  <thead>\n    <tr style=\"text-align: right;\">\n      <th></th>\n      <th>Total</th>\n      <th>Percent</th>\n    </tr>\n  </thead>\n  <tbody>\n    <tr>\n      <th>PoolQC</th>\n      <td>1452</td>\n      <td>0.995885</td>\n    </tr>\n    <tr>\n      <th>MiscFeature</th>\n      <td>1404</td>\n      <td>0.962963</td>\n    </tr>\n    <tr>\n      <th>Alley</th>\n      <td>1367</td>\n      <td>0.937586</td>\n    </tr>\n    <tr>\n      <th>Fence</th>\n      <td>1177</td>\n      <td>0.807270</td>\n    </tr>\n    <tr>\n      <th>FireplaceQu</th>\n      <td>690</td>\n      <td>0.473251</td>\n    </tr>\n    <tr>\n      <th>LotFrontage</th>\n      <td>259</td>\n      <td>0.177641</td>\n    </tr>\n    <tr>\n      <th>GarageCond</th>\n      <td>81</td>\n      <td>0.055556</td>\n    </tr>\n    <tr>\n      <th>GarageType</th>\n      <td>81</td>\n      <td>0.055556</td>\n    </tr>\n    <tr>\n      <th>GarageYrBlt</th>\n      <td>81</td>\n      <td>0.055556</td>\n    </tr>\n    <tr>\n      <th>GarageFinish</th>\n      <td>81</td>\n      <td>0.055556</td>\n    </tr>\n    <tr>\n      <th>GarageQual</th>\n      <td>81</td>\n      <td>0.055556</td>\n    </tr>\n    <tr>\n      <th>BsmtExposure</th>\n      <td>38</td>\n      <td>0.026063</td>\n    </tr>\n    <tr>\n      <th>BsmtFinType2</th>\n      <td>38</td>\n      <td>0.026063</td>\n    </tr>\n    <tr>\n      <th>BsmtCond</th>\n      <td>37</td>\n      <td>0.025377</td>\n    </tr>\n    <tr>\n      <th>BsmtQual</th>\n      <td>37</td>\n      <td>0.025377</td>\n    </tr>\n    <tr>\n      <th>BsmtFinType1</th>\n      <td>37</td>\n      <td>0.025377</td>\n    </tr>\n    <tr>\n      <th>MasVnrArea</th>\n      <td>8</td>\n      <td>0.005487</td>\n    </tr>\n    <tr>\n      <th>MasVnrType</th>\n      <td>8</td>\n      <td>0.005487</td>\n    </tr>\n    <tr>\n      <th>Electrical</th>\n      <td>1</td>\n      <td>0.000686</td>\n    </tr>\n    <tr>\n      <th>Utilities</th>\n      <td>0</td>\n      <td>0.000000</td>\n    </tr>\n  </tbody>\n</table>\n</div>"
     },
     "metadata": {},
     "execution_count": 11
    }
   ],
   "source": [
    "#3.1 data cleaning: no correct answer\n",
    "# how many % of data are missing\n",
    "total = X.isnull().sum().sort_values(ascending=False)\n",
    "percent = (X.isnull().sum()/X.isnull().count()).sort_values(ascending=False)\n",
    "missing_data = pd.concat([total, percent], axis=1, keys=['Total', 'Percent'])\n",
    "missing_data.head(20)\n",
    "# No missing checked"
   ]
  },
  {
   "cell_type": "code",
   "execution_count": 12,
   "metadata": {},
   "outputs": [
    {
     "output_type": "stream",
     "name": "stdout",
     "text": [
      "(1458, 80)\n"
     ]
    }
   ],
   "source": [
    "X=train_data.loc[\"train_part\"] # 这样就是runnable了\n",
    "print(X.shape) #是这样吗！！！！！"
   ]
  },
  {
   "cell_type": "code",
   "execution_count": 13,
   "metadata": {},
   "outputs": [],
   "source": [
    "train_data=train_data.drop([\"Id\"],axis=1)# combine test & train\n"
   ]
  },
  {
   "cell_type": "code",
   "execution_count": 14,
   "metadata": {},
   "outputs": [],
   "source": [
    "# numerical -> categorical\n",
    "train_data = train_data.replace({\"MSSubClass\" : {20 : \"SC20\", 30 : \"SC30\", 40 : \"SC40\", 45 : \"SC45\",50 : \"SC50\", 60 : \"SC60\", 70 : \"SC70\", 75 : \"SC75\", 80 : \"SC80\", 85 : \"SC85\", 90 : \"SC90\", 120 : \"SC120\", 150 : \"SC150\", 160 : \"SC160\", 180 : \"SC180\", 190 : \"SC190\"},\"MoSold\" : {1 : \"Jan\", 2 : \"Feb\", 3 : \"Mar\", 4 : \"Apr\", 5 : \"May\", 6 : \"Jun\",7 : \"Jul\", 8 : \"Aug\", 9 : \"Sep\", 10 : \"Oct\", 11 : \"Nov\", 12 : \"Dec\"}})                        "
   ]
  },
  {
   "cell_type": "code",
   "execution_count": 15,
   "metadata": {},
   "outputs": [],
   "source": [
    "train_data['YrSold'] = train_data['YrSold'].astype(str)# numerical -> categorical\n",
    "train_data['MoSold'] = train_data['MoSold'].astype(str)# numerical -> categorical"
   ]
  },
  {
   "source": [
    "# Missing Data Handling Begin"
   ],
   "cell_type": "markdown",
   "metadata": {}
  },
  {
   "cell_type": "code",
   "execution_count": 16,
   "metadata": {},
   "outputs": [],
   "source": [
    "train_data['Functional'] = train_data['Functional'].fillna('Typ') #Home functionality (Assume typical unless deductions are warranted)\n",
    "train_data['Exterior1st'] = train_data['Exterior1st'].fillna(train_data['Exterior1st'].mode()[0]) #Exterior covering on house\n",
    "train_data['Exterior2nd'] = train_data['Exterior2nd'].fillna(train_data['Exterior2nd'].mode()[0])\n",
    "# Exterior covering on house\n",
    "train_data['SaleType'] = train_data['SaleType'].fillna(train_data['SaleType'].mode()[0])"
   ]
  },
  {
   "cell_type": "code",
   "execution_count": 17,
   "metadata": {},
   "outputs": [],
   "source": [
    "#GarageYrBlt是因为没有车库还是缺失？\n",
    "for col in ('GarageYrBlt', 'GarageArea', 'GarageCars'):\n",
    "    train_data[col] = train_data[col].fillna(0)\n",
    "for col in ['GarageType', 'GarageFinish', 'GarageQual', 'GarageCond']:\n",
    "    train_data[col] = train_data[col].fillna('None')\n",
    "for col in ('BsmtQual', 'BsmtCond', 'BsmtExposure', 'BsmtFinType1', 'BsmtFinType2'):\n",
    "    train_data[col] = train_data[col].fillna('None')"
   ]
  },
  {
   "cell_type": "code",
   "execution_count": 18,
   "metadata": {},
   "outputs": [],
   "source": [
    "# MSSubClass: Identifies the type of dwelling involved in the sale.\t\n",
    "# 将MSZoning和MSSubClass相关联\n",
    "train_data['MSZoning'] = train_data.groupby('MSSubClass')['MSZoning'].transform(lambda x: x.fillna(x.mode()[0]))"
   ]
  },
  {
   "cell_type": "code",
   "execution_count": 19,
   "metadata": {},
   "outputs": [
    {
     "output_type": "execute_result",
     "data": {
      "text/plain": [
       "              Total   Percent\n",
       "PoolQC         2908  0.996915\n",
       "MiscFeature    2812  0.964004\n",
       "Alley          2719  0.932122\n",
       "Fence          2346  0.804251\n",
       "FireplaceQu    1420  0.486802\n",
       "LotFrontage     486  0.166610\n",
       "MasVnrType       24  0.008228\n",
       "MasVnrArea       23  0.007885\n",
       "BsmtFullBath      2  0.000686\n",
       "Utilities         2  0.000686\n",
       "BsmtHalfBath      2  0.000686\n",
       "BsmtUnfSF         1  0.000343\n",
       "BsmtFinSF2        1  0.000343\n",
       "TotalBsmtSF       1  0.000343\n",
       "KitchenQual       1  0.000343\n",
       "Electrical        1  0.000343\n",
       "BsmtFinSF1        1  0.000343\n",
       "Exterior1st       0  0.000000\n",
       "Exterior2nd       0  0.000000\n",
       "BsmtQual          0  0.000000"
      ],
      "text/html": "<div>\n<style scoped>\n    .dataframe tbody tr th:only-of-type {\n        vertical-align: middle;\n    }\n\n    .dataframe tbody tr th {\n        vertical-align: top;\n    }\n\n    .dataframe thead th {\n        text-align: right;\n    }\n</style>\n<table border=\"1\" class=\"dataframe\">\n  <thead>\n    <tr style=\"text-align: right;\">\n      <th></th>\n      <th>Total</th>\n      <th>Percent</th>\n    </tr>\n  </thead>\n  <tbody>\n    <tr>\n      <th>PoolQC</th>\n      <td>2908</td>\n      <td>0.996915</td>\n    </tr>\n    <tr>\n      <th>MiscFeature</th>\n      <td>2812</td>\n      <td>0.964004</td>\n    </tr>\n    <tr>\n      <th>Alley</th>\n      <td>2719</td>\n      <td>0.932122</td>\n    </tr>\n    <tr>\n      <th>Fence</th>\n      <td>2346</td>\n      <td>0.804251</td>\n    </tr>\n    <tr>\n      <th>FireplaceQu</th>\n      <td>1420</td>\n      <td>0.486802</td>\n    </tr>\n    <tr>\n      <th>LotFrontage</th>\n      <td>486</td>\n      <td>0.166610</td>\n    </tr>\n    <tr>\n      <th>MasVnrType</th>\n      <td>24</td>\n      <td>0.008228</td>\n    </tr>\n    <tr>\n      <th>MasVnrArea</th>\n      <td>23</td>\n      <td>0.007885</td>\n    </tr>\n    <tr>\n      <th>BsmtFullBath</th>\n      <td>2</td>\n      <td>0.000686</td>\n    </tr>\n    <tr>\n      <th>Utilities</th>\n      <td>2</td>\n      <td>0.000686</td>\n    </tr>\n    <tr>\n      <th>BsmtHalfBath</th>\n      <td>2</td>\n      <td>0.000686</td>\n    </tr>\n    <tr>\n      <th>BsmtUnfSF</th>\n      <td>1</td>\n      <td>0.000343</td>\n    </tr>\n    <tr>\n      <th>BsmtFinSF2</th>\n      <td>1</td>\n      <td>0.000343</td>\n    </tr>\n    <tr>\n      <th>TotalBsmtSF</th>\n      <td>1</td>\n      <td>0.000343</td>\n    </tr>\n    <tr>\n      <th>KitchenQual</th>\n      <td>1</td>\n      <td>0.000343</td>\n    </tr>\n    <tr>\n      <th>Electrical</th>\n      <td>1</td>\n      <td>0.000343</td>\n    </tr>\n    <tr>\n      <th>BsmtFinSF1</th>\n      <td>1</td>\n      <td>0.000343</td>\n    </tr>\n    <tr>\n      <th>Exterior1st</th>\n      <td>0</td>\n      <td>0.000000</td>\n    </tr>\n    <tr>\n      <th>Exterior2nd</th>\n      <td>0</td>\n      <td>0.000000</td>\n    </tr>\n    <tr>\n      <th>BsmtQual</th>\n      <td>0</td>\n      <td>0.000000</td>\n    </tr>\n  </tbody>\n</table>\n</div>"
     },
     "metadata": {},
     "execution_count": 19
    }
   ],
   "source": [
    "#3.1 data cleaning: no correct answer\n",
    "# how many % of data are missing\n",
    "total = train_data.isnull().sum().sort_values(ascending=False)\n",
    "percent = (train_data.isnull().sum()/train_data.isnull().count()).sort_values(ascending=False)\n",
    "missing_data = pd.concat([total, percent], axis=1, keys=['Total', 'Percent'])\n",
    "missing_data.head(20)"
   ]
  },
  {
   "cell_type": "code",
   "execution_count": 20,
   "metadata": {},
   "outputs": [],
   "source": [
    "objects = []\n",
    "for i in train_data.columns:\n",
    "    if train_data[i].dtype == object:\n",
    "        objects.append(i)\n",
    "train_data.update(train_data[objects].fillna('None'))\n",
    "#LotFrontage: Linear feet of street connected to property\n",
    "train_data['LotFrontage'] = train_data.groupby('Neighborhood')['LotFrontage'].transform(lambda x: x.fillna(x.median()))\n",
    "\n",
    "numeric_dtypes = ['int16', 'int32', 'int64', 'float16', 'float32', 'float64']\n",
    "numerics = []\n",
    "for i in train_data.columns:\n",
    "    if train_data[i].dtype in numeric_dtypes:\n",
    "        numerics.append(i)\n",
    "train_data.update(train_data[numerics].fillna(0))"
   ]
  },
  {
   "cell_type": "code",
   "execution_count": 21,
   "metadata": {},
   "outputs": [
    {
     "output_type": "execute_result",
     "data": {
      "text/plain": [
       "               Total  Percent\n",
       "SaleCondition      0      0.0\n",
       "Foundation         0      0.0\n",
       "RoofMatl           0      0.0\n",
       "Exterior1st        0      0.0\n",
       "Exterior2nd        0      0.0\n",
       "MasVnrType         0      0.0\n",
       "MasVnrArea         0      0.0\n",
       "ExterQual          0      0.0\n",
       "ExterCond          0      0.0\n",
       "BsmtQual           0      0.0\n",
       "YearRemodAdd       0      0.0\n",
       "BsmtCond           0      0.0\n",
       "BsmtExposure       0      0.0\n",
       "BsmtFinType1       0      0.0\n",
       "BsmtFinSF1         0      0.0\n",
       "BsmtFinType2       0      0.0\n",
       "BsmtFinSF2         0      0.0\n",
       "BsmtUnfSF          0      0.0\n",
       "RoofStyle          0      0.0\n",
       "YearBuilt          0      0.0"
      ],
      "text/html": "<div>\n<style scoped>\n    .dataframe tbody tr th:only-of-type {\n        vertical-align: middle;\n    }\n\n    .dataframe tbody tr th {\n        vertical-align: top;\n    }\n\n    .dataframe thead th {\n        text-align: right;\n    }\n</style>\n<table border=\"1\" class=\"dataframe\">\n  <thead>\n    <tr style=\"text-align: right;\">\n      <th></th>\n      <th>Total</th>\n      <th>Percent</th>\n    </tr>\n  </thead>\n  <tbody>\n    <tr>\n      <th>SaleCondition</th>\n      <td>0</td>\n      <td>0.0</td>\n    </tr>\n    <tr>\n      <th>Foundation</th>\n      <td>0</td>\n      <td>0.0</td>\n    </tr>\n    <tr>\n      <th>RoofMatl</th>\n      <td>0</td>\n      <td>0.0</td>\n    </tr>\n    <tr>\n      <th>Exterior1st</th>\n      <td>0</td>\n      <td>0.0</td>\n    </tr>\n    <tr>\n      <th>Exterior2nd</th>\n      <td>0</td>\n      <td>0.0</td>\n    </tr>\n    <tr>\n      <th>MasVnrType</th>\n      <td>0</td>\n      <td>0.0</td>\n    </tr>\n    <tr>\n      <th>MasVnrArea</th>\n      <td>0</td>\n      <td>0.0</td>\n    </tr>\n    <tr>\n      <th>ExterQual</th>\n      <td>0</td>\n      <td>0.0</td>\n    </tr>\n    <tr>\n      <th>ExterCond</th>\n      <td>0</td>\n      <td>0.0</td>\n    </tr>\n    <tr>\n      <th>BsmtQual</th>\n      <td>0</td>\n      <td>0.0</td>\n    </tr>\n    <tr>\n      <th>YearRemodAdd</th>\n      <td>0</td>\n      <td>0.0</td>\n    </tr>\n    <tr>\n      <th>BsmtCond</th>\n      <td>0</td>\n      <td>0.0</td>\n    </tr>\n    <tr>\n      <th>BsmtExposure</th>\n      <td>0</td>\n      <td>0.0</td>\n    </tr>\n    <tr>\n      <th>BsmtFinType1</th>\n      <td>0</td>\n      <td>0.0</td>\n    </tr>\n    <tr>\n      <th>BsmtFinSF1</th>\n      <td>0</td>\n      <td>0.0</td>\n    </tr>\n    <tr>\n      <th>BsmtFinType2</th>\n      <td>0</td>\n      <td>0.0</td>\n    </tr>\n    <tr>\n      <th>BsmtFinSF2</th>\n      <td>0</td>\n      <td>0.0</td>\n    </tr>\n    <tr>\n      <th>BsmtUnfSF</th>\n      <td>0</td>\n      <td>0.0</td>\n    </tr>\n    <tr>\n      <th>RoofStyle</th>\n      <td>0</td>\n      <td>0.0</td>\n    </tr>\n    <tr>\n      <th>YearBuilt</th>\n      <td>0</td>\n      <td>0.0</td>\n    </tr>\n  </tbody>\n</table>\n</div>"
     },
     "metadata": {},
     "execution_count": 21
    }
   ],
   "source": [
    "#3.1 data cleaning: no correct answer\n",
    "# how many % of data are missing\n",
    "total = train_data.isnull().sum().sort_values(ascending=False)\n",
    "percent = (train_data.isnull().sum()/train_data.isnull().count()).sort_values(ascending=False)\n",
    "missing_data = pd.concat([total, percent], axis=1, keys=['Total', 'Percent'])\n",
    "missing_data.head(20)\n",
    "# No missing checked"
   ]
  },
  {
   "cell_type": "code",
   "execution_count": 22,
   "metadata": {},
   "outputs": [
    {
     "output_type": "execute_result",
     "data": {
      "text/plain": [
       "(2917, 79)"
      ]
     },
     "metadata": {},
     "execution_count": 22
    }
   ],
   "source": [
    "train_data.shape # 缺失值填补是没有行数变换的"
   ]
  },
  {
   "source": [
    "# Missing Data Handling End\n",
    "# Skewness Data Handling Begin"
   ],
   "cell_type": "markdown",
   "metadata": {}
  },
  {
   "cell_type": "code",
   "execution_count": 23,
   "metadata": {},
   "outputs": [
    {
     "output_type": "stream",
     "name": "stdout",
     "text": [
      "79\n"
     ]
    }
   ],
   "source": [
    "num_col=train_data._get_numeric_data().columns.tolist()\n",
    "cat_col=set(train_data.columns)-set(num_col)\n",
    "print(len(num_col)+len(cat_col)) #未dummy前时刻check和是79"
   ]
  },
  {
   "cell_type": "code",
   "execution_count": 24,
   "metadata": {},
   "outputs": [],
   "source": [
    "train_cat = train_data[cat_col]\n",
    "pct=[]\n",
    "for ix in train_cat.columns:\n",
    "    temp=train_cat[ix].describe()\n",
    "    # print(temp.describe)\n",
    "    # break\n",
    "    pct.append(temp[\"freq\"]/temp[\"count\"])\n",
    "skewData=pd.DataFrame(pct,index=train_cat.columns,columns=[\"skewness\"])\n",
    "skewData=skewData.sort_values(by=\"skewness\",ascending=False)\n",
    "# print (skewData)"
   ]
  },
  {
   "cell_type": "code",
   "execution_count": 25,
   "metadata": {},
   "outputs": [],
   "source": [
    "train_data = train_data.drop((skewData[skewData['skewness'] >= 0.95]).index,1) # 行不变 只是列变了 drop掉了一些features。"
   ]
  },
  {
   "cell_type": "code",
   "execution_count": 26,
   "metadata": {},
   "outputs": [
    {
     "output_type": "execute_result",
     "data": {
      "text/plain": [
       "(2917, 71)"
      ]
     },
     "metadata": {},
     "execution_count": 26
    }
   ],
   "source": [
    "train_data.shape # 这里因为skewness行变了我怎么再找到test呢？"
   ]
  },
  {
   "cell_type": "code",
   "execution_count": 27,
   "metadata": {},
   "outputs": [],
   "source": [
    "#2.2: some categorical features when there is information in the order\n",
    "#Alley: Type of alley access to property\n",
    "train_data=train_data.replace({\"Alley\":{\"Grvl\" : 1, \"Pave\" : 2}})\n",
    "#BsmtCond: Evaluates the general condition of the basement\n",
    "train_data=train_data.replace({\"BsmtCond\" : {\"No\" : 0, \"Po\" : 1, \"Fa\" : 2, \"TA\" : 3, \"Gd\" : 4, \"Ex\" : 5}})\n",
    "#BsmtExposure: Refers to walkout or garden level walls\n",
    "train_data=train_data.replace({\"BsmtExposure\" : {\"No\" : 0, \"Mn\" : 1, \"Av\": 2, \"Gd\" : 3}})\n",
    "#BsmtFinType1: Rating of basement finished area\n",
    "train_data=train_data.replace({\"BsmtFinType1\" : {\"No\" : 0, \"Unf\" : 1, \"LwQ\": 2, \"Rec\" : 3, \"BLQ\" : 4, \"ALQ\" : 5, \"GLQ\" : 6}})\n",
    "#BsmtFinType2: Rating of basement finished area (if multiple types)\n",
    "train_data=train_data.replace({\"BsmtFinType2\" : {\"No\" : 0, \"Unf\" : 1, \"LwQ\": 2, \"Rec\" : 3, \"BLQ\" : 4, \"ALQ\" : 5, \"GLQ\" : 6}})\n",
    "#BsmtQual: Evaluates the height of the basement\n",
    "train_data=train_data.replace({\"BsmtQual\" : {\"No\" : 0, \"Po\" : 1, \"Fa\" : 2, \"TA\": 3, \"Gd\" : 4, \"Ex\" : 5}})\n",
    "#ExterCond: Evaluates the present condition of the material on the exterior\n",
    "train_data=train_data.replace({\"ExterCond\" : {\"Po\" : 1, \"Fa\" : 2, \"TA\": 3, \"Gd\": 4, \"Ex\" : 5}})\n",
    "#ExterQual: Evaluates the quality of the material on the exterior \n",
    "train_data=train_data.replace({\"ExterQual\" : {\"Po\" : 1, \"Fa\" : 2, \"TA\": 3, \"Gd\": 4, \"Ex\" : 5}})\n",
    "#FireplaceQu: Fireplace quality\n",
    "train_data=train_data.replace({\"FireplaceQu\" : {\"No\" : 0, \"Po\" : 1, \"Fa\" : 2, \"TA\" : 3, \"Gd\" : 4, \"Ex\" : 5}})\n",
    "#Functional: Home functionality (Assume typical unless deductions are warranted)\n",
    "train_data=train_data.replace({\"Functional\" : {\"Sal\" : 1, \"Sev\" : 2, \"Maj2\" : 3, \"Maj1\" : 4, \"Mod\": 5,\"Min2\" : 6, \"Min1\" : 7, \"Typ\" : 8}})\n",
    "#HeatingQC: Heating quality and condition\n",
    "train_data=train_data.replace({\"HeatingQC\" : {\"Po\" : 1, \"Fa\" : 2, \"TA\" : 3, \"Gd\" : 4, \"Ex\" : 5}})\n",
    "#KitchenQual: Kitchen quality\n",
    "train_data=train_data.replace({\"KitchenQual\" : {\"Po\" : 1, \"Fa\" : 2, \"TA\" : 3, \"Gd\" : 4, \"Ex\" : 5}})\n",
    "#LandSlope: Slope of property\n",
    "train_data=train_data.replace({\"LandSlope\" : {\"Sev\" : 1, \"Mod\" : 2, \"Gtl\" : 3}})\n",
    "#LotShape: General shape of property\n",
    "train_data=train_data.replace({\"LotShape\" : {\"IR3\" : 1, \"IR2\" : 2, \"IR1\" : 3, \"Reg\" : 4}})\n",
    "#PavedDrive: Paved driveway\n",
    "train_data=train_data.replace({\"PavedDrive\" : {\"N\" : 0, \"P\" : 1, \"Y\" : 2}})\n",
    "\n",
    "#2.3: Simplifications of existing categorical \n",
    "train_data[\"Condition1\"] = train_data.Condition1.replace({\"RRNe\" : \"Other\",  \"RRNn\" : \"Other\",\"PosA\" : \"Other\", \"RRAe\" : \"Other\"\n",
    "})\n",
    "train_data[\"Electrical\"] = train_data.Electrical.replace({\"Mix\" : \"Other\", \"FuseP\" : \"Other\"})\n",
    "train_data[\"Exterior1st\"] = train_data.Exterior1st.replace({\"AsphShn\" : \"Other\",\"CBlock\" : \"Other\",\"ImStucc\" : \"Other\",  \"BrkComm\" : \"Other\",\"Stone\" : \"Other\"})\n",
    "train_data[\"Exterior2nd\"] = train_data.Exterior2nd.replace({\"CBlock\" : \"Other\", \"AsphShn\" : \"Other\",\"Stone\" : \"Other\", \"Brk Cmn\" : \"Other\",\"ImStucc\" : \"Other\"})\n",
    "train_data[\"Foundation\"] = train_data.Foundation.replace({\"Wood\" : \"Other\", \"Stone\" : \"Other\" })\n",
    "train_data[\"HouseStyle\"] = train_data.HouseStyle.replace({\"2.5Fin\" : \"Other\", \"2.5Unf\" : \"Other\", \"1.5Unf\" : \"Other\"})\n",
    "train_data[\"LotConfig\"] = train_data.LotConfig.replace({\"FR3\" : \"FR2\" })\n",
    "train_data[\"MSSubClass\"] = train_data.MSSubClass.replace({\"SC40\" : \"Other\",  \"SC180\" : \"Other\", \"SC45\" : \"Other\", \"SC75\" : \"Other\"})\n",
    "train_data[\"MSZoning\"] = train_data.MSZoning.replace({\"C (all)\" : \"Other\",                               \"RH\" : \"Other\"})\n",
    "train_data[\"Neighborhood\"] = train_data.Neighborhood.replace({\"Blueste\" : \"Other\",\"NPkVill\" : \"Other\", \"Veenker\" : \"Other\"  })\n",
    "train_data[\"RoofStyle\"] = train_data.RoofStyle.replace({\"Shed\" : \"Other\",   \"Mansard\" : \"Other\",\"Gambrel\" : \"Other\",\"Flat\" : \"Other\"})\n",
    "train_data[\"SaleCondition\"] = train_data.SaleCondition.replace({\"AdjLand\" : \"Other\", \"Alloca\" : \"Other\"})\n",
    "train_data[\"SaleType\"] = train_data.SaleType.replace({\"Con\" : \"Other\", \"Oth\" : \"Other\",\"CWD\" : \"Other\", \"ConLI\" : \"Other\",  \"ConLw\" : \"Other\",\"ConLD\" : \"Other\"  })"
   ]
  },
  {
   "cell_type": "code",
   "execution_count": 28,
   "metadata": {},
   "outputs": [
    {
     "output_type": "execute_result",
     "data": {
      "text/plain": [
       "                MSSubClass MSZoning  LotFrontage  LotArea Alley  LotShape  \\\n",
       "train_part 0          SC60       RL         65.0     8450  None         4   \n",
       "           1          SC20       RL         80.0     9600  None         4   \n",
       "           2          SC60       RL         68.0    11250  None         3   \n",
       "           3          SC70       RL         60.0     9550  None         3   \n",
       "           4          SC60       RL         84.0    14260  None         3   \n",
       "...                    ...      ...          ...      ...   ...       ...   \n",
       "test_part  1454      SC160       RM         21.0     1936  None         4   \n",
       "           1455      SC160       RM         21.0     1894  None         4   \n",
       "           1456       SC20       RL        160.0    20000  None         4   \n",
       "           1457       SC85       RL         62.0    10441  None         4   \n",
       "           1458       SC60       RL         74.0     9627  None         4   \n",
       "\n",
       "                LandContour LotConfig Neighborhood Condition1  ... YrSold  \\\n",
       "train_part 0            Lvl    Inside      CollgCr       Norm  ...   2008   \n",
       "           1            Lvl       FR2        Other      Feedr  ...   2007   \n",
       "           2            Lvl    Inside      CollgCr       Norm  ...   2008   \n",
       "           3            Lvl    Corner      Crawfor       Norm  ...   2006   \n",
       "           4            Lvl       FR2      NoRidge       Norm  ...   2008   \n",
       "...                     ...       ...          ...        ...  ...    ...   \n",
       "test_part  1454         Lvl    Inside      MeadowV       Norm  ...   2006   \n",
       "           1455         Lvl    Inside      MeadowV       Norm  ...   2006   \n",
       "           1456         Lvl    Inside      Mitchel       Norm  ...   2006   \n",
       "           1457         Lvl    Inside      Mitchel       Norm  ...   2006   \n",
       "           1458         Lvl    Inside      Mitchel       Norm  ...   2006   \n",
       "\n",
       "                SaleType  SaleCondition  OverallGrade  ExterGrade  \\\n",
       "train_part 0          WD         Normal            35          12   \n",
       "           1          WD         Normal            48           9   \n",
       "           2          WD         Normal            35          12   \n",
       "           3          WD        Abnorml            35           9   \n",
       "           4          WD         Normal            40          12   \n",
       "...                  ...            ...           ...         ...   \n",
       "test_part  1454       WD         Normal            28           9   \n",
       "           1455       WD        Abnorml            20           9   \n",
       "           1456       WD        Abnorml            35           9   \n",
       "           1457       WD         Normal            25           9   \n",
       "           1458       WD         Normal            35           9   \n",
       "\n",
       "                 KitchenScore TotalBath   AllSF AllFlrsSF AllPorchSF  \n",
       "train_part 0                4       3.5  2566.0      1710         61  \n",
       "           1                3       2.5  2524.0      1262          0  \n",
       "           2                4       3.5  2706.0      1786         42  \n",
       "           3                4       2.0  2473.0      1717        307  \n",
       "           4                4       3.5  3343.0      2198         84  \n",
       "...                       ...       ...     ...       ...        ...  \n",
       "test_part  1454             3       1.5  1638.0      1092          0  \n",
       "           1455             3       1.5  1638.0      1092         24  \n",
       "           1456             3       2.0  2448.0      1224          0  \n",
       "           1457             3       1.5  1882.0       970         32  \n",
       "           1458             3       2.5  2996.0      2000         48  \n",
       "\n",
       "[2917 rows x 74 columns]"
      ],
      "text/html": "<div>\n<style scoped>\n    .dataframe tbody tr th:only-of-type {\n        vertical-align: middle;\n    }\n\n    .dataframe tbody tr th {\n        vertical-align: top;\n    }\n\n    .dataframe thead th {\n        text-align: right;\n    }\n</style>\n<table border=\"1\" class=\"dataframe\">\n  <thead>\n    <tr style=\"text-align: right;\">\n      <th></th>\n      <th></th>\n      <th>MSSubClass</th>\n      <th>MSZoning</th>\n      <th>LotFrontage</th>\n      <th>LotArea</th>\n      <th>Alley</th>\n      <th>LotShape</th>\n      <th>LandContour</th>\n      <th>LotConfig</th>\n      <th>Neighborhood</th>\n      <th>Condition1</th>\n      <th>...</th>\n      <th>YrSold</th>\n      <th>SaleType</th>\n      <th>SaleCondition</th>\n      <th>OverallGrade</th>\n      <th>ExterGrade</th>\n      <th>KitchenScore</th>\n      <th>TotalBath</th>\n      <th>AllSF</th>\n      <th>AllFlrsSF</th>\n      <th>AllPorchSF</th>\n    </tr>\n  </thead>\n  <tbody>\n    <tr>\n      <th rowspan=\"5\" valign=\"top\">train_part</th>\n      <th>0</th>\n      <td>SC60</td>\n      <td>RL</td>\n      <td>65.0</td>\n      <td>8450</td>\n      <td>None</td>\n      <td>4</td>\n      <td>Lvl</td>\n      <td>Inside</td>\n      <td>CollgCr</td>\n      <td>Norm</td>\n      <td>...</td>\n      <td>2008</td>\n      <td>WD</td>\n      <td>Normal</td>\n      <td>35</td>\n      <td>12</td>\n      <td>4</td>\n      <td>3.5</td>\n      <td>2566.0</td>\n      <td>1710</td>\n      <td>61</td>\n    </tr>\n    <tr>\n      <th>1</th>\n      <td>SC20</td>\n      <td>RL</td>\n      <td>80.0</td>\n      <td>9600</td>\n      <td>None</td>\n      <td>4</td>\n      <td>Lvl</td>\n      <td>FR2</td>\n      <td>Other</td>\n      <td>Feedr</td>\n      <td>...</td>\n      <td>2007</td>\n      <td>WD</td>\n      <td>Normal</td>\n      <td>48</td>\n      <td>9</td>\n      <td>3</td>\n      <td>2.5</td>\n      <td>2524.0</td>\n      <td>1262</td>\n      <td>0</td>\n    </tr>\n    <tr>\n      <th>2</th>\n      <td>SC60</td>\n      <td>RL</td>\n      <td>68.0</td>\n      <td>11250</td>\n      <td>None</td>\n      <td>3</td>\n      <td>Lvl</td>\n      <td>Inside</td>\n      <td>CollgCr</td>\n      <td>Norm</td>\n      <td>...</td>\n      <td>2008</td>\n      <td>WD</td>\n      <td>Normal</td>\n      <td>35</td>\n      <td>12</td>\n      <td>4</td>\n      <td>3.5</td>\n      <td>2706.0</td>\n      <td>1786</td>\n      <td>42</td>\n    </tr>\n    <tr>\n      <th>3</th>\n      <td>SC70</td>\n      <td>RL</td>\n      <td>60.0</td>\n      <td>9550</td>\n      <td>None</td>\n      <td>3</td>\n      <td>Lvl</td>\n      <td>Corner</td>\n      <td>Crawfor</td>\n      <td>Norm</td>\n      <td>...</td>\n      <td>2006</td>\n      <td>WD</td>\n      <td>Abnorml</td>\n      <td>35</td>\n      <td>9</td>\n      <td>4</td>\n      <td>2.0</td>\n      <td>2473.0</td>\n      <td>1717</td>\n      <td>307</td>\n    </tr>\n    <tr>\n      <th>4</th>\n      <td>SC60</td>\n      <td>RL</td>\n      <td>84.0</td>\n      <td>14260</td>\n      <td>None</td>\n      <td>3</td>\n      <td>Lvl</td>\n      <td>FR2</td>\n      <td>NoRidge</td>\n      <td>Norm</td>\n      <td>...</td>\n      <td>2008</td>\n      <td>WD</td>\n      <td>Normal</td>\n      <td>40</td>\n      <td>12</td>\n      <td>4</td>\n      <td>3.5</td>\n      <td>3343.0</td>\n      <td>2198</td>\n      <td>84</td>\n    </tr>\n    <tr>\n      <th>...</th>\n      <th>...</th>\n      <td>...</td>\n      <td>...</td>\n      <td>...</td>\n      <td>...</td>\n      <td>...</td>\n      <td>...</td>\n      <td>...</td>\n      <td>...</td>\n      <td>...</td>\n      <td>...</td>\n      <td>...</td>\n      <td>...</td>\n      <td>...</td>\n      <td>...</td>\n      <td>...</td>\n      <td>...</td>\n      <td>...</td>\n      <td>...</td>\n      <td>...</td>\n      <td>...</td>\n      <td>...</td>\n    </tr>\n    <tr>\n      <th rowspan=\"5\" valign=\"top\">test_part</th>\n      <th>1454</th>\n      <td>SC160</td>\n      <td>RM</td>\n      <td>21.0</td>\n      <td>1936</td>\n      <td>None</td>\n      <td>4</td>\n      <td>Lvl</td>\n      <td>Inside</td>\n      <td>MeadowV</td>\n      <td>Norm</td>\n      <td>...</td>\n      <td>2006</td>\n      <td>WD</td>\n      <td>Normal</td>\n      <td>28</td>\n      <td>9</td>\n      <td>3</td>\n      <td>1.5</td>\n      <td>1638.0</td>\n      <td>1092</td>\n      <td>0</td>\n    </tr>\n    <tr>\n      <th>1455</th>\n      <td>SC160</td>\n      <td>RM</td>\n      <td>21.0</td>\n      <td>1894</td>\n      <td>None</td>\n      <td>4</td>\n      <td>Lvl</td>\n      <td>Inside</td>\n      <td>MeadowV</td>\n      <td>Norm</td>\n      <td>...</td>\n      <td>2006</td>\n      <td>WD</td>\n      <td>Abnorml</td>\n      <td>20</td>\n      <td>9</td>\n      <td>3</td>\n      <td>1.5</td>\n      <td>1638.0</td>\n      <td>1092</td>\n      <td>24</td>\n    </tr>\n    <tr>\n      <th>1456</th>\n      <td>SC20</td>\n      <td>RL</td>\n      <td>160.0</td>\n      <td>20000</td>\n      <td>None</td>\n      <td>4</td>\n      <td>Lvl</td>\n      <td>Inside</td>\n      <td>Mitchel</td>\n      <td>Norm</td>\n      <td>...</td>\n      <td>2006</td>\n      <td>WD</td>\n      <td>Abnorml</td>\n      <td>35</td>\n      <td>9</td>\n      <td>3</td>\n      <td>2.0</td>\n      <td>2448.0</td>\n      <td>1224</td>\n      <td>0</td>\n    </tr>\n    <tr>\n      <th>1457</th>\n      <td>SC85</td>\n      <td>RL</td>\n      <td>62.0</td>\n      <td>10441</td>\n      <td>None</td>\n      <td>4</td>\n      <td>Lvl</td>\n      <td>Inside</td>\n      <td>Mitchel</td>\n      <td>Norm</td>\n      <td>...</td>\n      <td>2006</td>\n      <td>WD</td>\n      <td>Normal</td>\n      <td>25</td>\n      <td>9</td>\n      <td>3</td>\n      <td>1.5</td>\n      <td>1882.0</td>\n      <td>970</td>\n      <td>32</td>\n    </tr>\n    <tr>\n      <th>1458</th>\n      <td>SC60</td>\n      <td>RL</td>\n      <td>74.0</td>\n      <td>9627</td>\n      <td>None</td>\n      <td>4</td>\n      <td>Lvl</td>\n      <td>Inside</td>\n      <td>Mitchel</td>\n      <td>Norm</td>\n      <td>...</td>\n      <td>2006</td>\n      <td>WD</td>\n      <td>Normal</td>\n      <td>35</td>\n      <td>9</td>\n      <td>3</td>\n      <td>2.5</td>\n      <td>2996.0</td>\n      <td>2000</td>\n      <td>48</td>\n    </tr>\n  </tbody>\n</table>\n<p>2917 rows × 74 columns</p>\n</div>"
     },
     "metadata": {},
     "execution_count": 28
    }
   ],
   "source": [
    "#2.4 Combinations of existing features\n",
    "# Overall quality of the house\n",
    "train_data[\"OverallGrade\"] = train_data[\"OverallQual\"] * train_data[\"OverallCond\"]\n",
    "# Overall quality of the exterior\n",
    "train_data[\"ExterGrade\"] = train_data[\"ExterQual\"] * train_data[\"ExterCond\"]\n",
    "# Overall kitchen score\n",
    "train_data[\"KitchenScore\"] = train_data[\"KitchenAbvGr\"] * train_data[\"KitchenQual\"]\n",
    "# Total number of bathrooms\n",
    "train_data[\"TotalBath\"] = train_data[\"BsmtFullBath\"] + (0.5 * train_data[\"BsmtHalfBath\"]) + \\\n",
    "train_data[\"FullBath\"] + (0.5 * train_data[\"HalfBath\"])\n",
    "train_data.drop([\"BsmtFullBath\",\"BsmtHalfBath\",\"FullBath\",\"HalfBath\"],axis=1)\n",
    "# Total SF for house (incl. basement)\n",
    "train_data[\"AllSF\"] = train_data[\"GrLivArea\"] + train_data[\"TotalBsmtSF\"]\n",
    "train_data.drop([\"GrLivArea\",\"TotalBsmtSF\"],axis=1)\n",
    "# Total SF for 1st + 2nd floors\n",
    "train_data[\"AllFlrsSF\"] = train_data[\"1stFlrSF\"] + train_data[\"2ndFlrSF\"]\n",
    "train_data.drop([\"1stFlrSF\",\"2ndFlrSF\"],axis=1)\n",
    "# Total SF for porch\n",
    "train_data[\"AllPorchSF\"] = train_data[\"OpenPorchSF\"] + train_data[\"EnclosedPorch\"] + \\\n",
    "train_data[\"3SsnPorch\"] + train_data[\"ScreenPorch\"]\n",
    "train_data.drop([\"OpenPorchSF\",\"EnclosedPorch\",\"3SsnPorch\",\"ScreenPorch\"],axis=1)"
   ]
  },
  {
   "cell_type": "code",
   "execution_count": 29,
   "metadata": {},
   "outputs": [],
   "source": [
    "train_data[\"OverallQual-s2\"] = train_data[\"OverallQual\"] ** 2\n",
    "train_data[\"AllSF-2\"] = train_data[\"AllSF\"] ** 2\n",
    "train_data[\"AllFlrsSF-2\"] = train_data[\"AllFlrsSF\"] ** 2\n",
    "train_data[\"GrLivArea-2\"] = train_data[\"GrLivArea\"] ** 2"
   ]
  },
  {
   "cell_type": "code",
   "execution_count": 30,
   "metadata": {},
   "outputs": [
    {
     "output_type": "stream",
     "name": "stdout",
     "text": [
      "Numerical features : 49\nCategorical features : 33\nNAs for numerical features in train : 0\nRemaining NAs for numerical features in train : 0\n"
     ]
    }
   ],
   "source": [
    "# Differentiate numerical features and categorical features\n",
    "categorical_features = train_data.select_dtypes(include = [\"object\"]).columns\n",
    "numerical_features = train_data.select_dtypes(exclude = [\"object\"]).columns\n",
    "print(\"Numerical features : \" + str(len(numerical_features)))\n",
    "print(\"Categorical features : \" + str(len(categorical_features)))\n",
    "train_num = train_data[numerical_features]\n",
    "train_cat = train_data[categorical_features]\n",
    "print(\"NAs for numerical features in train : \" + str(train_num.isnull().values.sum()))\n",
    "train_num = train_num.fillna(train_num.median())\n",
    "print(\"Remaining NAs for numerical features in train : \" + str(train_num.isnull().values.sum()))"
   ]
  },
  {
   "cell_type": "code",
   "execution_count": 31,
   "metadata": {},
   "outputs": [
    {
     "output_type": "execute_result",
     "data": {
      "text/plain": [
       "(2917, 82)"
      ]
     },
     "metadata": {},
     "execution_count": 31
    }
   ],
   "source": [
    "train_data.shape"
   ]
  },
  {
   "cell_type": "code",
   "execution_count": 32,
   "metadata": {},
   "outputs": [
    {
     "output_type": "stream",
     "name": "stdout",
     "text": [
      "NAs for categorical features in train : 0\nRemaining NAs for categorical features in train : 0\n"
     ]
    }
   ],
   "source": [
    "#2.6 turn category features to dummy\n",
    "print(\"NAs for categorical features in train : \" + str(train_cat.isnull().values.sum()))\n",
    "train_cat = pd.get_dummies(train_cat, drop_first=True)\n",
    "print(\"Remaining NAs for categorical features in train : \" + str(train_cat.isnull().values.sum()))"
   ]
  },
  {
   "cell_type": "code",
   "execution_count": 33,
   "metadata": {},
   "outputs": [
    {
     "output_type": "stream",
     "name": "stdout",
     "text": [
      "New number of features : 228\n"
     ]
    }
   ],
   "source": [
    "#2.7 join categorical and numerical features \n",
    "train_Data_New = pd.concat([train_num, train_cat], axis = 1)\n",
    "print(\"New number of features : \" + str(train_Data_New.shape[1]))"
   ]
  },
  {
   "cell_type": "code",
   "execution_count": 34,
   "metadata": {},
   "outputs": [
    {
     "output_type": "execute_result",
     "data": {
      "text/plain": [
       "(2917, 228)"
      ]
     },
     "metadata": {},
     "execution_count": 34
    }
   ],
   "source": [
    "train_Data_New.shape"
   ]
  },
  {
   "cell_type": "code",
   "execution_count": 35,
   "metadata": {},
   "outputs": [],
   "source": [
    "#2.8 remove collinear columns\n",
    "# Create correlation matrix\n",
    "corr_matrix = train_Data_New.corr().abs()\n",
    "# Select upper triangle of correlation matrix\n",
    "upper = corr_matrix.where(np.triu(np.ones(corr_matrix.shape), k=1).astype(np.bool))\n",
    "# Find features with correlation greater than 0.95\n",
    "to_drop = [column for column in upper.columns if any(upper[column] > 0.95)]\n",
    "# Drop features \n",
    "train_Data_New.drop(to_drop, axis=1, inplace=True)"
   ]
  },
  {
   "cell_type": "code",
   "execution_count": 36,
   "metadata": {},
   "outputs": [
    {
     "output_type": "execute_result",
     "data": {
      "text/plain": [
       "(2917, 205)"
      ]
     },
     "metadata": {},
     "execution_count": 36
    }
   ],
   "source": [
    "train_Data_New.shape"
   ]
  },
  {
   "cell_type": "code",
   "execution_count": 37,
   "metadata": {},
   "outputs": [],
   "source": [
    "# 日哦 使用loc函数，索引的是字符串，前后都要取，是属于“前闭后闭”的情况\n",
    "# iloc函数索引的数据是int整型，因此是Python默认的前闭后开\n",
    "# Python默认的前闭后开"
   ]
  },
  {
   "cell_type": "code",
   "execution_count": 38,
   "metadata": {},
   "outputs": [],
   "source": [
    "# Train_data=train_Data_New.iloc[:1458]#这里这个index的索引好奇怪 取前1458行\n",
    "# Test_data=train_Data_New.iloc[1458:]"
   ]
  },
  {
   "cell_type": "code",
   "execution_count": 39,
   "metadata": {},
   "outputs": [],
   "source": [
    "Train_data=train_Data_New.loc[\"train_part\"] \n",
    "Test_data=train_Data_New.loc[\"test_part\"]"
   ]
  },
  {
   "cell_type": "code",
   "execution_count": 40,
   "metadata": {},
   "outputs": [
    {
     "output_type": "execute_result",
     "data": {
      "text/plain": [
       "(1458, 205)"
      ]
     },
     "metadata": {},
     "execution_count": 40
    }
   ],
   "source": [
    "Train_data.shape"
   ]
  },
  {
   "cell_type": "code",
   "execution_count": 41,
   "metadata": {},
   "outputs": [
    {
     "output_type": "execute_result",
     "data": {
      "text/plain": [
       "(1458, 205)"
      ]
     },
     "metadata": {},
     "execution_count": 41
    }
   ],
   "source": [
    "Train_data.shape"
   ]
  },
  {
   "cell_type": "code",
   "execution_count": 42,
   "metadata": {},
   "outputs": [
    {
     "output_type": "execute_result",
     "data": {
      "text/plain": [
       "(1459, 205)"
      ]
     },
     "metadata": {},
     "execution_count": 42
    }
   ],
   "source": [
    "Test_data.shape"
   ]
  },
  {
   "cell_type": "code",
   "execution_count": 43,
   "metadata": {},
   "outputs": [
    {
     "output_type": "execute_result",
     "data": {
      "text/plain": [
       "(1458,)"
      ]
     },
     "metadata": {},
     "execution_count": 43
    }
   ],
   "source": [
    "Sale_Price.shape"
   ]
  },
  {
   "cell_type": "code",
   "execution_count": 44,
   "metadata": {},
   "outputs": [
    {
     "output_type": "execute_result",
     "data": {
      "text/plain": [
       "(1458, 206)"
      ]
     },
     "metadata": {},
     "execution_count": 44
    }
   ],
   "source": [
    "Train_data.insert(0,column=\"SalePrice\",value=Sale_Price)\n",
    "Train_data.shape"
   ]
  },
  {
   "cell_type": "code",
   "execution_count": 45,
   "metadata": {},
   "outputs": [
    {
     "output_type": "stream",
     "name": "stderr",
     "text": [
      "/usr/local/lib/python3.8/site-packages/pandas/core/frame.py:4162: SettingWithCopyWarning: \nA value is trying to be set on a copy of a slice from a DataFrame\n\nSee the caveats in the documentation: https://pandas.pydata.org/pandas-docs/stable/user_guide/indexing.html#returning-a-view-versus-a-copy\n  return super().drop(\n"
     ]
    },
    {
     "output_type": "execute_result",
     "data": {
      "text/plain": [
       "(1458, 205)"
      ]
     },
     "metadata": {},
     "execution_count": 45
    }
   ],
   "source": [
    "dependentV=Train_data[\"SalePrice\"]\n",
    "Train_data.drop([\"SalePrice\"],axis=1, inplace=True)# \n",
    "Train_data.shape"
   ]
  },
  {
   "cell_type": "code",
   "execution_count": 46,
   "metadata": {},
   "outputs": [
    {
     "output_type": "stream",
     "name": "stdout",
     "text": [
      "X_train : (1020, 205)\nX_test : (438, 205)\ny_train : (1020,)\ny_test : (438,)\n"
     ]
    }
   ],
   "source": [
    "X_train, X_test, y_train, y_test = train_test_split(Train_data, dependentV, test_size = 0.3, random_state = 0)\n",
    "print(\"X_train : \" + str(X_train.shape))\n",
    "print(\"X_test : \" + str(X_test.shape))\n",
    "print(\"y_train : \" + str(y_train.shape))\n",
    "print(\"y_test : \" + str(y_test.shape))"
   ]
  },
  {
   "cell_type": "code",
   "execution_count": 47,
   "metadata": {},
   "outputs": [],
   "source": [
    "import pandas as pd\n",
    "from sklearn.linear_model import LinearRegression\n",
    "from sklearn.metrics import r2_score\n",
    "from sklearn.model_selection import train_test_split\n",
    "from Help_functions_v2 import sklearn_Pvalue, sklearn_adjR2, RMSE\n",
    "import numpy as np"
   ]
  },
  {
   "cell_type": "code",
   "execution_count": 48,
   "metadata": {},
   "outputs": [
    {
     "output_type": "stream",
     "name": "stdout",
     "text": [
      "r-squared of in-sample is\nadjusted r-squared of in-sample is\n0.925100087902679\nRMSE of in-sample is\n19098.022413377636\n"
     ]
    }
   ],
   "source": [
    "#3.1 build multi linear regression \n",
    "lr=LinearRegression()\n",
    "lr.fit(X_train, y_train)\n",
    "y_trainPred=lr.predict(X_train)\n",
    "#look at r_squared, adjusted r_squared\n",
    "print(\"r-squared of in-sample is\")\n",
    "r2_score(y_train, y_trainPred)\n",
    "adj_r2=sklearn_adjR2(X_train, y_train)\n",
    "print(\"adjusted r-squared of in-sample is\")\n",
    "print(adj_r2)\n",
    "print(\"RMSE of in-sample is\")\n",
    "print(RMSE(y_trainPred,y_train))"
   ]
  },
  {
   "cell_type": "code",
   "execution_count": 49,
   "metadata": {},
   "outputs": [
    {
     "output_type": "stream",
     "name": "stdout",
     "text": [
      "r-squared of out-of-sample is\n",
      "adjusted r-squared of out-of-sample is\n",
      "RMSE of out-of-sample is\n",
      "25818.99667779577\n"
     ]
    }
   ],
   "source": [
    "# 3.2 out of sample\n",
    "y_testPred=lr.predict(X_test)\n",
    "#look at  r_squared, adjusted r_squared\n",
    "print(\"r-squared of out-of-sample is\")\n",
    "r2_score(y_test, y_testPred)\n",
    "print(\"adjusted r-squared of out-of-sample is\")\n",
    "adj_r2=sklearn_adjR2(X_test, y_test)\n",
    "print(\"RMSE of out-of-sample is\")\n",
    "print(RMSE(y_testPred, y_test))\n"
   ]
  },
  {
   "cell_type": "code",
   "execution_count": 50,
   "metadata": {},
   "outputs": [],
   "source": [
    "import pandas as pd\n",
    "from sklearn.linear_model import LinearRegression, Ridge, Lasso\n",
    "from sklearn.metrics import r2_score\n",
    "from sklearn.model_selection import train_test_split\n",
    "from sklearn.feature_selection import f_regression, SelectKBest\n",
    "import numpy as np\n",
    "from Help_functions_v2 import sklearn_Pvalue, sklearn_adjR2, RMSE"
   ]
  },
  {
   "cell_type": "code",
   "execution_count": 51,
   "metadata": {},
   "outputs": [
    {
     "output_type": "stream",
     "name": "stdout",
     "text": [
      "in-sample r-squared is\n",
      "0.938715299195137\n",
      "RMSE is of in-sample\n",
      "19340.40654756993\n",
      "out-of-sample r-squared is\n",
      "0.9040136188447268\n",
      "RMSE is out-of-sample\n",
      "25562.152443381507\n",
      "0.9040136188447268\n"
     ]
    }
   ],
   "source": [
    "#3 feature selection with regularization\n",
    "#3.1 Ridge Regularization\n",
    "ridge_model=Ridge(alpha=1)\n",
    "ridge_model.fit(X_train, y_train)\n",
    "y_trainPred=ridge_model.predict(X_train)\n",
    "#in sample\n",
    "print(\"in-sample r-squared is\")\n",
    "print(r2_score(y_train, y_trainPred))\n",
    "print (\"RMSE is of in-sample\")\n",
    "print(RMSE(y_trainPred,y_train))\n",
    "#out of sample\n",
    "y_testPred=ridge_model.predict(X_test)\n",
    "print(\"out-of-sample r-squared is\")\n",
    "print(r2_score(y_test, y_testPred))\n",
    "print (\"RMSE is out-of-sample\")\n",
    "print(RMSE(y_testPred,y_test))\n",
    "print(ridge_model.score(X_test,y_test))"
   ]
  },
  {
   "cell_type": "code",
   "execution_count": 52,
   "metadata": {},
   "outputs": [
    {
     "output_type": "stream",
     "name": "stdout",
     "text": [
      "lasso in-sample r-squared is\n",
      "0.9401940547011193\n",
      "Lasso RMSE of in-sample is \n",
      "19105.6467432301\n",
      "Lasso out-of-sample r-squared is\n",
      "0.9024946529304917\n",
      "Lasso RMSE out-of-sample is\n",
      "25763.61659792456\n",
      "0.9024946529304917\n",
      "/usr/local/lib/python3.8/site-packages/sklearn/linear_model/_coordinate_descent.py:529: ConvergenceWarning: Objective did not converge. You might want to increase the number of iterations. Duality gap: 187554299825.78192, tolerance: 622557256.4164598\n",
      "  model = cd_fast.enet_coordinate_descent(\n"
     ]
    }
   ],
   "source": [
    "#3.2 Lasso Regularization\n",
    "lasso_model=Lasso(alpha=1)\n",
    "lasso_model.fit(X_train, y_train)\n",
    "y_trainPred=lasso_model.predict(X_train)\n",
    "\n",
    "#in sample\n",
    "print(\"lasso in-sample r-squared is\")\n",
    "print(r2_score(y_train, y_trainPred))\n",
    "print (\"Lasso RMSE of in-sample is \")\n",
    "print(RMSE(y_trainPred,y_train))\n",
    "#out of sample\n",
    "y_testPred=lasso_model.predict(X_test)\n",
    "print(\"Lasso out-of-sample r-squared is\")\n",
    "print(r2_score(y_test, y_testPred))\n",
    "print (\"Lasso RMSE out-of-sample is\")\n",
    "print(RMSE(y_testPred,y_test))\n",
    "print(lasso_model.score(X_test,y_test)) #沃日？\n",
    "#lasso could not converge"
   ]
  },
  {
   "cell_type": "code",
   "execution_count": 53,
   "metadata": {},
   "outputs": [
    {
     "output_type": "stream",
     "name": "stdout",
     "text": [
      "0.9167099786564366\n"
     ]
    }
   ],
   "source": [
    "rfr=RandomForestRegressor(n_estimators = 50,random_state=40,min_impurity_decrease=0.002,min_weight_fraction_leaf=0.001,min_samples_split=5)\n",
    "rfr.fit(X_train, y_train)\n",
    "y_predictrfc = rfr.predict(X_test)\n",
    "#here we can check our model score\n",
    "print(rfr.score(X_test,y_test)) #沃日？"
   ]
  },
  {
   "cell_type": "code",
   "execution_count": 54,
   "metadata": {},
   "outputs": [
    {
     "output_type": "stream",
     "name": "stdout",
     "text": [
      "mear squares error : 23811.628487000555\n"
     ]
    }
   ],
   "source": [
    "rmse = math.sqrt(mean_squared_error(y_test, rfr.predict(X_test)))\n",
    "print(\"mear squares error :\",rmse)"
   ]
  },
  {
   "cell_type": "code",
   "execution_count": 55,
   "metadata": {},
   "outputs": [
    {
     "output_type": "stream",
     "name": "stdout",
     "text": [
      "0.9235231179825951\n"
     ]
    }
   ],
   "source": [
    "GBoost= GradientBoostingRegressor(n_estimators=3000, learning_rate=0.05, max_depth=4, max_features='sqrt',min_samples_leaf=15, min_samples_split=10,loss='huber', random_state =42)\n",
    "                                   #RMSE estimated through the partition of the train set\n",
    "GBoost.fit(X_train, y_train)\n",
    "# y_predictrfc = rfr.predict(X_test)\n",
    "#here we can check our model score\n",
    "print(GBoost.score(X_test,y_test)) #沃日？ GBoost反倒没有randomForest高？"
   ]
  },
  {
   "cell_type": "code",
   "execution_count": 56,
   "metadata": {},
   "outputs": [
    {
     "output_type": "stream",
     "name": "stdout",
     "text": [
      "[12:15:16] WARNING: /Users/travis/build/dmlc/xgboost/src/objective/regression_obj.cu:171: reg:linear is now deprecated in favor of reg:squarederror.\n",
      "0.9344686575631225\n",
      "/usr/local/lib/python3.8/site-packages/xgboost/data.py:112: UserWarning: Use subset (sliced data) of np.ndarray is not recommended because it will generate extra copies and increase memory consumption\n",
      "  warnings.warn(\n"
     ]
    }
   ],
   "source": [
    "xgboost = XGBRegressor(learning_rate=0.01, n_estimators=3460, max_depth=3, min_child_weight=0,\n",
    "gamma=0, subsample=0.7,colsample_bytree=0.7,objective='reg:linear', nthread=-1,scale_pos_weight=1, seed=27, reg_alpha=0.00006)\n",
    "xgboost.fit(X_train,y_train) \n",
    "print(xgboost.score(X_test,y_test))                            "
   ]
  },
  {
   "cell_type": "code",
   "execution_count": 57,
   "metadata": {},
   "outputs": [
    {
     "output_type": "stream",
     "name": "stdout",
     "text": [
      "[LightGBM] [Warning] bagging_freq is set=5, subsample_freq=0 will be ignored. Current value: bagging_freq=5\n",
      "[LightGBM] [Warning] feature_fraction is set=0.2, colsample_bytree=1.0 will be ignored. Current value: feature_fraction=0.2\n",
      "[LightGBM] [Warning] bagging_fraction is set=0.75, subsample=1.0 will be ignored. Current value: bagging_fraction=0.75\n",
      "0.9227558791821846\n"
     ]
    }
   ],
   "source": [
    "lightgbm = LGBMRegressor(objective='regression',num_leaves=4, learning_rate=0.01, \n",
    "n_estimators=5000, max_bin=200, bagging_fraction=0.75,bagging_freq=5,  bagging_seed=7, feature_fraction=0.2,\n",
    "                                       feature_fraction_seed=7,\n",
    "                                       verbose=-1,\n",
    "                                       #min_data_in_leaf=2,\n",
    "                                       #min_sum_hessian_in_leaf=11\n",
    "                                       )\n",
    "lightgbm.fit(X_train,y_train)\n",
    "print(lightgbm.score(X_test,y_test))"
   ]
  },
  {
   "cell_type": "code",
   "execution_count": 58,
   "metadata": {},
   "outputs": [],
   "source": [
    "# y_model_prerfc=ridge_model.predict(Test_data)\n",
    "# y_model_prerfc=np.around(y_model_prerfc,0)\n",
    "# prediction=np.array(y_model_prerfc).tolist()\n",
    "# 0.15 "
   ]
  },
  {
   "cell_type": "code",
   "execution_count": 59,
   "metadata": {},
   "outputs": [],
   "source": [
    "# rfr\n",
    "# y_model_prerfc=rfr.predict(Test_data)\n",
    "# y_model_prerfc=np.around(y_model_prerfc,0)\n",
    "# prediction=np.array(y_model_prerfc).tolist()\n",
    "# 0.14"
   ]
  },
  {
   "cell_type": "code",
   "execution_count": 60,
   "metadata": {},
   "outputs": [],
   "source": [
    "# y_model_prerfc=lr.predict(Test_data)\n",
    "# y_model_prerfc=np.around(y_model_prerfc,0)\n",
    "# prediction=np.array(y_model_prerfc).tolist()\n",
    "# 0.16"
   ]
  },
  {
   "cell_type": "code",
   "execution_count": 61,
   "metadata": {},
   "outputs": [],
   "source": [
    "# y_model_prerfc=GBoost.predict(Test_data)\n",
    "# y_model_prerfc=np.around(y_model_prerfc,0)\n",
    "# prediction=np.array(y_model_prerfc).tolist()\n",
    "# 0.13"
   ]
  },
  {
   "cell_type": "code",
   "execution_count": 62,
   "metadata": {},
   "outputs": [
    {
     "output_type": "stream",
     "name": "stderr",
     "text": [
      "/usr/local/lib/python3.8/site-packages/xgboost/data.py:112: UserWarning: Use subset (sliced data) of np.ndarray is not recommended because it will generate extra copies and increase memory consumption\n  warnings.warn(\n"
     ]
    }
   ],
   "source": [
    "# xgboost\n",
    "y_model_prerfc=xgboost.predict(Test_data)\n",
    "y_model_prerfc=np.around(y_model_prerfc,0)\n",
    "prediction=np.array(y_model_prerfc).tolist()"
   ]
  },
  {
   "cell_type": "code",
   "execution_count": 63,
   "metadata": {},
   "outputs": [
    {
     "output_type": "execute_result",
     "data": {
      "text/plain": [
       "     Id  MSSubClass MSZoning  LotFrontage  LotArea Street Alley LotShape  \\\n",
       "0  1461          20       RH         80.0    11622   Pave   NaN      Reg   \n",
       "1  1462          20       RL         81.0    14267   Pave   NaN      IR1   \n",
       "2  1463          60       RL         74.0    13830   Pave   NaN      IR1   \n",
       "3  1464          60       RL         78.0     9978   Pave   NaN      IR1   \n",
       "4  1465         120       RL         43.0     5005   Pave   NaN      IR1   \n",
       "\n",
       "  LandContour Utilities  ... ScreenPorch PoolArea PoolQC  Fence MiscFeature  \\\n",
       "0         Lvl    AllPub  ...         120        0    NaN  MnPrv         NaN   \n",
       "1         Lvl    AllPub  ...           0        0    NaN    NaN        Gar2   \n",
       "2         Lvl    AllPub  ...           0        0    NaN  MnPrv         NaN   \n",
       "3         Lvl    AllPub  ...           0        0    NaN    NaN         NaN   \n",
       "4         HLS    AllPub  ...         144        0    NaN    NaN         NaN   \n",
       "\n",
       "  MiscVal MoSold  YrSold  SaleType  SaleCondition  \n",
       "0       0      6    2010        WD         Normal  \n",
       "1   12500      6    2010        WD         Normal  \n",
       "2       0      3    2010        WD         Normal  \n",
       "3       0      6    2010        WD         Normal  \n",
       "4       0      1    2010        WD         Normal  \n",
       "\n",
       "[5 rows x 80 columns]"
      ],
      "text/html": "<div>\n<style scoped>\n    .dataframe tbody tr th:only-of-type {\n        vertical-align: middle;\n    }\n\n    .dataframe tbody tr th {\n        vertical-align: top;\n    }\n\n    .dataframe thead th {\n        text-align: right;\n    }\n</style>\n<table border=\"1\" class=\"dataframe\">\n  <thead>\n    <tr style=\"text-align: right;\">\n      <th></th>\n      <th>Id</th>\n      <th>MSSubClass</th>\n      <th>MSZoning</th>\n      <th>LotFrontage</th>\n      <th>LotArea</th>\n      <th>Street</th>\n      <th>Alley</th>\n      <th>LotShape</th>\n      <th>LandContour</th>\n      <th>Utilities</th>\n      <th>...</th>\n      <th>ScreenPorch</th>\n      <th>PoolArea</th>\n      <th>PoolQC</th>\n      <th>Fence</th>\n      <th>MiscFeature</th>\n      <th>MiscVal</th>\n      <th>MoSold</th>\n      <th>YrSold</th>\n      <th>SaleType</th>\n      <th>SaleCondition</th>\n    </tr>\n  </thead>\n  <tbody>\n    <tr>\n      <th>0</th>\n      <td>1461</td>\n      <td>20</td>\n      <td>RH</td>\n      <td>80.0</td>\n      <td>11622</td>\n      <td>Pave</td>\n      <td>NaN</td>\n      <td>Reg</td>\n      <td>Lvl</td>\n      <td>AllPub</td>\n      <td>...</td>\n      <td>120</td>\n      <td>0</td>\n      <td>NaN</td>\n      <td>MnPrv</td>\n      <td>NaN</td>\n      <td>0</td>\n      <td>6</td>\n      <td>2010</td>\n      <td>WD</td>\n      <td>Normal</td>\n    </tr>\n    <tr>\n      <th>1</th>\n      <td>1462</td>\n      <td>20</td>\n      <td>RL</td>\n      <td>81.0</td>\n      <td>14267</td>\n      <td>Pave</td>\n      <td>NaN</td>\n      <td>IR1</td>\n      <td>Lvl</td>\n      <td>AllPub</td>\n      <td>...</td>\n      <td>0</td>\n      <td>0</td>\n      <td>NaN</td>\n      <td>NaN</td>\n      <td>Gar2</td>\n      <td>12500</td>\n      <td>6</td>\n      <td>2010</td>\n      <td>WD</td>\n      <td>Normal</td>\n    </tr>\n    <tr>\n      <th>2</th>\n      <td>1463</td>\n      <td>60</td>\n      <td>RL</td>\n      <td>74.0</td>\n      <td>13830</td>\n      <td>Pave</td>\n      <td>NaN</td>\n      <td>IR1</td>\n      <td>Lvl</td>\n      <td>AllPub</td>\n      <td>...</td>\n      <td>0</td>\n      <td>0</td>\n      <td>NaN</td>\n      <td>MnPrv</td>\n      <td>NaN</td>\n      <td>0</td>\n      <td>3</td>\n      <td>2010</td>\n      <td>WD</td>\n      <td>Normal</td>\n    </tr>\n    <tr>\n      <th>3</th>\n      <td>1464</td>\n      <td>60</td>\n      <td>RL</td>\n      <td>78.0</td>\n      <td>9978</td>\n      <td>Pave</td>\n      <td>NaN</td>\n      <td>IR1</td>\n      <td>Lvl</td>\n      <td>AllPub</td>\n      <td>...</td>\n      <td>0</td>\n      <td>0</td>\n      <td>NaN</td>\n      <td>NaN</td>\n      <td>NaN</td>\n      <td>0</td>\n      <td>6</td>\n      <td>2010</td>\n      <td>WD</td>\n      <td>Normal</td>\n    </tr>\n    <tr>\n      <th>4</th>\n      <td>1465</td>\n      <td>120</td>\n      <td>RL</td>\n      <td>43.0</td>\n      <td>5005</td>\n      <td>Pave</td>\n      <td>NaN</td>\n      <td>IR1</td>\n      <td>HLS</td>\n      <td>AllPub</td>\n      <td>...</td>\n      <td>144</td>\n      <td>0</td>\n      <td>NaN</td>\n      <td>NaN</td>\n      <td>NaN</td>\n      <td>0</td>\n      <td>1</td>\n      <td>2010</td>\n      <td>WD</td>\n      <td>Normal</td>\n    </tr>\n  </tbody>\n</table>\n<p>5 rows × 80 columns</p>\n</div>"
     },
     "metadata": {},
     "execution_count": 63
    }
   ],
   "source": [
    "test_dataSet.head()"
   ]
  },
  {
   "cell_type": "code",
   "execution_count": 64,
   "metadata": {},
   "outputs": [
    {
     "output_type": "stream",
     "name": "stdout",
     "text": [
      "before inserting:  (1459, 80)\nAfter inserting:  (1459, 81)\n"
     ]
    }
   ],
   "source": [
    "print(\"before inserting: \",test_dataSet.shape)\n",
    "test_dataSet.insert(1,column=\"SalePrice\",value=prediction)\n",
    "print(\"After inserting: \",test_dataSet.shape)"
   ]
  },
  {
   "cell_type": "code",
   "execution_count": 65,
   "metadata": {},
   "outputs": [
    {
     "output_type": "execute_result",
     "data": {
      "text/plain": [
       "     Id  SalePrice\n",
       "0  1461   120583.0\n",
       "1  1462   161356.0\n",
       "2  1463   188057.0\n",
       "3  1464   191204.0\n",
       "4  1465   194520.0"
      ],
      "text/html": "<div>\n<style scoped>\n    .dataframe tbody tr th:only-of-type {\n        vertical-align: middle;\n    }\n\n    .dataframe tbody tr th {\n        vertical-align: top;\n    }\n\n    .dataframe thead th {\n        text-align: right;\n    }\n</style>\n<table border=\"1\" class=\"dataframe\">\n  <thead>\n    <tr style=\"text-align: right;\">\n      <th></th>\n      <th>Id</th>\n      <th>SalePrice</th>\n    </tr>\n  </thead>\n  <tbody>\n    <tr>\n      <th>0</th>\n      <td>1461</td>\n      <td>120583.0</td>\n    </tr>\n    <tr>\n      <th>1</th>\n      <td>1462</td>\n      <td>161356.0</td>\n    </tr>\n    <tr>\n      <th>2</th>\n      <td>1463</td>\n      <td>188057.0</td>\n    </tr>\n    <tr>\n      <th>3</th>\n      <td>1464</td>\n      <td>191204.0</td>\n    </tr>\n    <tr>\n      <th>4</th>\n      <td>1465</td>\n      <td>194520.0</td>\n    </tr>\n  </tbody>\n</table>\n</div>"
     },
     "metadata": {},
     "execution_count": 65
    }
   ],
   "source": [
    "predict_sub=test_dataSet.drop(test_dataSet.iloc[:,2:],axis=1)\n",
    "predict_sub.head()"
   ]
  },
  {
   "cell_type": "code",
   "execution_count": 67,
   "metadata": {},
   "outputs": [],
   "source": [
    "predict_sub.to_csv('Home_predictionsXGboost.csv',index=False)\n"
   ]
  },
  {
   "cell_type": "code",
   "execution_count": null,
   "metadata": {},
   "outputs": [],
   "source": []
  }
 ]
}