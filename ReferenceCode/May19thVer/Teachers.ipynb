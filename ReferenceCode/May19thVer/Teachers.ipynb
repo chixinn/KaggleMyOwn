{
 "metadata": {
  "language_info": {
   "codemirror_mode": {
    "name": "ipython",
    "version": 3
   },
   "file_extension": ".py",
   "mimetype": "text/x-python",
   "name": "python",
   "nbconvert_exporter": "python",
   "pygments_lexer": "ipython3",
   "version": "3.8.6"
  },
  "orig_nbformat": 2,
  "kernelspec": {
   "name": "python386jvsc74a57bd00adcc2737ebf6a4a119f135174df96668767fca1ef1112612db5ecadf2b6d608",
   "display_name": "Python 3.8.6 64-bit"
  },
  "metadata": {
   "interpreter": {
    "hash": "0adcc2737ebf6a4a119f135174df96668767fca1ef1112612db5ecadf2b6d608"
   }
  }
 },
 "nbformat": 4,
 "nbformat_minor": 2,
 "cells": [
  {
   "cell_type": "code",
   "execution_count": 1,
   "metadata": {},
   "outputs": [],
   "source": [
    "import pandas as pd\n",
    "import seaborn as sns\n",
    "import matplotlib.pyplot as plt\n",
    "import numpy as np\n",
    "from sklearn.preprocessing import StandardScaler\n",
    "from scipy.stats import norm\n",
    "from scipy import stats\n",
    "import sys"
   ]
  },
  {
   "cell_type": "code",
   "execution_count": 2,
   "metadata": {},
   "outputs": [
    {
     "output_type": "execute_result",
     "data": {
      "text/plain": [
       "(1460,)"
      ]
     },
     "metadata": {},
     "execution_count": 2
    }
   ],
   "source": [
    "train_data=pd.read_csv(\"/Users/chixinning/Desktop/kaggle/KaggleMyOwn/ReferenceCode/house-prices-advanced-regression-techniques/train.csv\")\n",
    "test=pd.read_csv(\"/Users/chixinning/Desktop/kaggle/KaggleMyOwn/ReferenceCode/house-prices-advanced-regression-techniques/test.csv\")\n",
    "Sale_Price=train_data.iloc[:,80]\n",
    "Sale_Price.shape"
   ]
  },
  {
   "cell_type": "code",
   "execution_count": 3,
   "metadata": {},
   "outputs": [],
   "source": [
    "train=train_data.drop([\"SalePrice\"],axis=1)"
   ]
  },
  {
   "cell_type": "code",
   "execution_count": 4,
   "metadata": {},
   "outputs": [
    {
     "output_type": "execute_result",
     "data": {
      "text/plain": [
       "(2919, 80)"
      ]
     },
     "metadata": {},
     "execution_count": 4
    }
   ],
   "source": [
    "data= pd.concat([train,test], keys=['x', 'y'])#here X is training data and Y testing data\n",
    "# data=data.drop([\"Id\"],axis=1)\n",
    "data.shape"
   ]
  },
  {
   "cell_type": "code",
   "execution_count": 5,
   "metadata": {},
   "outputs": [],
   "source": [
    "data =data.replace({\"MSSubClass\" : {20 : \"SC20\", 30 : \"SC30\", 40 : \"SC40\", 45 : \"SC45\", \n",
    "                                       50 : \"SC50\", 60 : \"SC60\", 70 : \"SC70\", 75 : \"SC75\", \n",
    "                                       80 : \"SC80\", 85 : \"SC85\", 90 : \"SC90\", 120 : \"SC120\", \n",
    "                                       150 : \"SC150\", 160 : \"SC160\", 180 : \"SC180\", 190 : \"SC190\"},\n",
    "                       \"MoSold\" : {1 : \"Jan\", 2 : \"Feb\", 3 : \"Mar\", 4 : \"Apr\", 5 : \"May\", 6 : \"Jun\",\n",
    "                                   7 : \"Jul\", 8 : \"Aug\", 9 : \"Sep\", 10 : \"Oct\", 11 : \"Nov\", 12 : \"Dec\"}\n",
    "                      })"
   ]
  },
  {
   "cell_type": "code",
   "execution_count": 6,
   "metadata": {},
   "outputs": [],
   "source": [
    "categorical_features = data.select_dtypes(include = [\"object\"]).columns\n",
    "train_cat = data[categorical_features]\n"
   ]
  },
  {
   "cell_type": "code",
   "execution_count": 7,
   "metadata": {},
   "outputs": [
    {
     "output_type": "execute_result",
     "data": {
      "text/plain": [
       "(2919, 73)"
      ]
     },
     "metadata": {},
     "execution_count": 7
    }
   ],
   "source": [
    "#delete highly skew category data\n",
    "pct=[]\n",
    "for ix in train_cat.columns:\n",
    "    temp=train_cat[ix].describe()\n",
    "    pct.append(temp[\"freq\"]/temp[\"count\"])\n",
    "skewData=pd.DataFrame(pct,index=train_cat.columns,columns=[\"skewness\"])\n",
    "skewData=skewData.sort_values(by=\"skewness\",ascending=False)\n",
    "# print (skewData)\n",
    "data = data.drop((skewData[skewData['skewness'] >= 0.95]).index,1) \n",
    "data.shape"
   ]
  },
  {
   "cell_type": "code",
   "execution_count": 8,
   "metadata": {},
   "outputs": [],
   "source": [
    "train_data=data"
   ]
  },
  {
   "cell_type": "code",
   "execution_count": 9,
   "metadata": {},
   "outputs": [],
   "source": [
    "#2.2: some categorical features when there is information in the order\n",
    "#Alley: Type of alley access to property\n",
    "train_data=train_data.replace({\"Alley\":{\"Grvl\" : 1, \"Pave\" : 2}})\n",
    "#BsmtCond: Evaluates the general condition of the basement\n",
    "train_data=train_data.replace({\"BsmtCond\" : {\"No\" : 0, \"Po\" : 1, \"Fa\" : 2, \"TA\" : 3, \"Gd\" : 4, \"Ex\" : 5}})\n",
    "#BsmtExposure: Refers to walkout or garden level walls\n",
    "train_data=train_data.replace({\"BsmtExposure\" : {\"No\" : 0, \"Mn\" : 1, \"Av\": 2, \"Gd\" : 3}})\n",
    "#BsmtFinType1: Rating of basement finished area\n",
    "train_data=train_data.replace({\"BsmtFinType1\" : {\"No\" : 0, \"Unf\" : 1, \"LwQ\": 2, \"Rec\" : 3, \"BLQ\" : 4, \n",
    "                                         \"ALQ\" : 5, \"GLQ\" : 6}})\n",
    "#BsmtFinType2: Rating of basement finished area (if multiple types)\n",
    "train_data=train_data.replace({\"BsmtFinType2\" : {\"No\" : 0, \"Unf\" : 1, \"LwQ\": 2, \"Rec\" : 3, \"BLQ\" : 4, \n",
    "                                         \"ALQ\" : 5, \"GLQ\" : 6}})\n",
    "#BsmtQual: Evaluates the height of the basement\n",
    "train_data=train_data.replace({\"BsmtQual\" : {\"No\" : 0, \"Po\" : 1, \"Fa\" : 2, \"TA\": 3, \"Gd\" : 4, \"Ex\" : 5}})\n",
    "#ExterCond: Evaluates the present condition of the material on the exterior\n",
    "train_data=train_data.replace({\"ExterCond\" : {\"Po\" : 1, \"Fa\" : 2, \"TA\": 3, \"Gd\": 4, \"Ex\" : 5}})\n",
    "#ExterQual: Evaluates the quality of the material on the exterior \n",
    "train_data=train_data.replace({\"ExterQual\" : {\"Po\" : 1, \"Fa\" : 2, \"TA\": 3, \"Gd\": 4, \"Ex\" : 5}})\n",
    "#FireplaceQu: Fireplace quality\n",
    "train_data=train_data.replace({\"FireplaceQu\" : {\"No\" : 0, \"Po\" : 1, \"Fa\" : 2, \"TA\" : 3, \"Gd\" : 4, \"Ex\" : 5}})\n",
    "#Functional: Home functionality (Assume typical unless deductions are warranted)\n",
    "train_data=train_data.replace({\"Functional\" : {\"Sal\" : 1, \"Sev\" : 2, \"Maj2\" : 3, \"Maj1\" : 4, \"Mod\": 5, \n",
    "                                       \"Min2\" : 6, \"Min1\" : 7, \"Typ\" : 8}})\n",
    "#HeatingQC: Heating quality and condition\n",
    "train_data=train_data.replace({\"HeatingQC\" : {\"Po\" : 1, \"Fa\" : 2, \"TA\" : 3, \"Gd\" : 4, \"Ex\" : 5}})\n",
    "#KitchenQual: Kitchen quality\n",
    "train_data=train_data.replace({\"KitchenQual\" : {\"Po\" : 1, \"Fa\" : 2, \"TA\" : 3, \"Gd\" : 4, \"Ex\" : 5}})\n",
    "#LandSlope: Slope of property\n",
    "train_data=train_data.replace({\"LandSlope\" : {\"Sev\" : 1, \"Mod\" : 2, \"Gtl\" : 3}})\n",
    "#LotShape: General shape of property\n",
    "train_data=train_data.replace({\"LotShape\" : {\"IR3\" : 1, \"IR2\" : 2, \"IR1\" : 3, \"Reg\" : 4}})\n",
    "#PavedDrive: Paved driveway\n",
    "train_data=train_data.replace({\"PavedDrive\" : {\"N\" : 0, \"P\" : 1, \"Y\" : 2}})\n",
    "\n",
    "#2.3: Simplifications of existing categorical \n",
    "train_data[\"Condition1\"] = train_data.Condition1.replace({\"RRNe\" : \"Other\", \n",
    "                                                  \"RRNn\" : \"Other\",\"PosA\" : \"Other\", \n",
    "                                                   \"RRAe\" : \"Other\"\n",
    "                                                  })\n",
    "train_data[\"Electrical\"] = train_data.Electrical.replace({\"Mix\" : \"Other\", \n",
    "                                                  \"FuseP\" : \"Other\"\n",
    "                                                  })\n",
    "train_data[\"Exterior1st\"] = train_data.Exterior1st.replace({\"AsphShn\" : \"Other\", \n",
    "                                                  \"CBlock\" : \"Other\",\"ImStucc\" : \"Other\", \n",
    "                                                   \"BrkComm\" : \"Other\",\"Stone\" : \"Other\"\n",
    "                                                  })\n",
    "train_data[\"Exterior2nd\"] = train_data.Exterior2nd.replace({\"CBlock\" : \"Other\", \n",
    "                                                  \"AsphShn\" : \"Other\",\"Stone\" : \"Other\", \n",
    "                                                   \"Brk Cmn\" : \"Other\",\"ImStucc\" : \"Other\"\n",
    "                                                  })\n",
    "train_data[\"Foundation\"] = train_data.Foundation.replace({\"Wood\" : \"Other\", \n",
    "                                                  \"Stone\" : \"Other\"\n",
    "                                                  })\n",
    "# train_data[\"GarageType\"] = train_data.GarageType.replace({\"2Types\" : \"Other\", \n",
    "#                                                   \"CarPort\" : \"Other\"\n",
    "#                                                   })\n",
    "train_data[\"HouseStyle\"] = train_data.HouseStyle.replace({\"2.5Fin\" : \"Other\", \n",
    "                                                  \"2.5Unf\" : \"Other\",\n",
    "                                                  \"1.5Unf\" : \"Other\"\n",
    "                                                  })\n",
    "train_data[\"LotConfig\"] = train_data.LotConfig.replace({\"FR3\" : \"FR2\"\n",
    "                                                  })\n",
    "train_data[\"MSSubClass\"] = train_data.MSSubClass.replace({\"SC40\" : \"Other\", \n",
    "                                                  \"SC180\" : \"Other\",\n",
    "                                                  \"SC45\" : \"Other\",\n",
    "                                                  \"SC75\" : \"Other\"\n",
    "                                                  })\n",
    "train_data[\"MSZoning\"] = train_data.MSZoning.replace({\"C (all)\" : \"Other\", \n",
    "                                                  \"RH\" : \"Other\"\n",
    "                                                  })\n",
    "train_data[\"Neighborhood\"] = train_data.Neighborhood.replace({\"Blueste\" : \"Other\", \n",
    "                                                  \"NPkVill\" : \"Other\",\n",
    "                                                  \"Veenker\" : \"Other\"\n",
    "                                                  })\n",
    "train_data[\"RoofStyle\"] = train_data.RoofStyle.replace({\"Shed\" : \"Other\", \n",
    "                                                  \"Mansard\" : \"Other\",\n",
    "                                                  \"Gambrel\" : \"Other\",\n",
    "                                                  \"Flat\" : \"Other\"\n",
    "                                                  })\n",
    "train_data[\"SaleCondition\"] = train_data.SaleCondition.replace({\"AdjLand\" : \"Other\", \n",
    "                                                  \"Alloca\" : \"Other\"\n",
    "                                                  })\n",
    "train_data[\"SaleType\"] = train_data.SaleType.replace({\"Con\" : \"Other\", \n",
    "                                                  \"Oth\" : \"Other\",\n",
    "                                                  \"CWD\" : \"Other\", \"ConLI\" : \"Other\",\n",
    "                                                  \"ConLw\" : \"Other\",\"ConLD\" : \"Other\"\n",
    "                                                  })\n",
    "\n",
    "#2.4 Combinations of existing features\n",
    "# Overall quality of the house\n",
    "train_data[\"OverallGrade\"] = train_data[\"OverallQual\"] * train_data[\"OverallCond\"]\n",
    "# Overall quality of the exterior\n",
    "train_data[\"ExterGrade\"] = train_data[\"ExterQual\"] * train_data[\"ExterCond\"]\n",
    "# Overall kitchen score\n",
    "train_data[\"KitchenScore\"] = train_data[\"KitchenAbvGr\"] * train_data[\"KitchenQual\"]\n",
    "# Total number of bathrooms\n",
    "train_data[\"TotalBath\"] = train_data[\"BsmtFullBath\"] + (0.5 * train_data[\"BsmtHalfBath\"]) + \\\n",
    "train_data[\"FullBath\"] + (0.5 * train_data[\"HalfBath\"])\n",
    "train_data.drop([\"BsmtFullBath\",\"BsmtHalfBath\",\"FullBath\",\"HalfBath\"],axis=1)\n",
    "# Total SF for house (incl. basement)\n",
    "train_data[\"AllSF\"] = train_data[\"GrLivArea\"] + train_data[\"TotalBsmtSF\"]\n",
    "train_data.drop([\"GrLivArea\",\"TotalBsmtSF\"],axis=1)\n",
    "# Total SF for 1st + 2nd floors\n",
    "train_data[\"AllFlrsSF\"] = train_data[\"1stFlrSF\"] + train_data[\"2ndFlrSF\"]\n",
    "train_data.drop([\"1stFlrSF\",\"2ndFlrSF\"],axis=1)\n",
    "# Total SF for porch\n",
    "train_data[\"AllPorchSF\"] = train_data[\"OpenPorchSF\"] + train_data[\"EnclosedPorch\"] + \\\n",
    "train_data[\"3SsnPorch\"] + train_data[\"ScreenPorch\"]\n",
    "train_data.drop([\"OpenPorchSF\",\"EnclosedPorch\",\"3SsnPorch\",\"ScreenPorch\"],axis=1)\n",
    "# House completed before sale or not\n",
    "train_data[\"BoughtOffPlan\"] = train_data.SaleCondition.replace({\"Abnorml\" : 0, \"Alloca\" : 0, \"AdjLand\" : 0, \n",
    "                                                      \"Family\" : 0, \"Normal\" : 0, \"Partial\" : 1})"
   ]
  },
  {
   "cell_type": "code",
   "execution_count": 10,
   "metadata": {},
   "outputs": [],
   "source": [
    "# data=train_data"
   ]
  },
  {
   "cell_type": "code",
   "execution_count": 11,
   "metadata": {},
   "outputs": [],
   "source": [
    "# train_data[\"OverallQual-s2\"] = train_data[\"OverallQual\"] ** 2\n",
    "# train_data[\"AllSF-2\"] = train_data[\"AllSF\"] ** 2\n",
    "# train_data[\"AllFlrsSF-2\"] = train_data[\"AllFlrsSF\"] ** 2\n",
    "# train_data[\"GrLivArea-2\"] = train_data[\"GrLivArea\"] ** 2\n",
    "# # train_data[\"SimplOverallQual-s2\"] = train_data[\"SimplOverallQual\"] ** 2\n",
    "# train_data[\"ExterQual-2\"] = train_data[\"ExterQual\"] ** 2\n",
    "# train_data[\"GarageCars-2\"] = train_data[\"GarageCars\"] ** 2\n",
    "# train_data[\"TotalBath-2\"] = train_data[\"TotalBath\"] ** 2\n",
    "# train_data[\"KitchenQual-2\"] = train_data[\"KitchenQual\"] ** 2"
   ]
  },
  {
   "cell_type": "code",
   "execution_count": 12,
   "metadata": {},
   "outputs": [
    {
     "output_type": "execute_result",
     "data": {
      "text/plain": [
       "     Id MSSubClass MSZoning  LotFrontage  LotArea  Alley  LotShape  \\\n",
       "x 0   1       SC60       RL         65.0     8450    NaN         4   \n",
       "  1   2       SC20       RL         80.0     9600    NaN         4   \n",
       "  2   3       SC60       RL         68.0    11250    NaN         3   \n",
       "  3   4       SC70       RL         60.0     9550    NaN         3   \n",
       "  4   5       SC60       RL         84.0    14260    NaN         3   \n",
       "\n",
       "    LandContour LotConfig Neighborhood  ... SaleType SaleCondition  \\\n",
       "x 0         Lvl    Inside      CollgCr  ...       WD        Normal   \n",
       "  1         Lvl       FR2        Other  ...       WD        Normal   \n",
       "  2         Lvl    Inside      CollgCr  ...       WD        Normal   \n",
       "  3         Lvl    Corner      Crawfor  ...       WD       Abnorml   \n",
       "  4         Lvl       FR2      NoRidge  ...       WD        Normal   \n",
       "\n",
       "    OverallGrade  ExterGrade  KitchenScore  TotalBath   AllSF AllFlrsSF  \\\n",
       "x 0           35          12           4.0        3.5  2566.0      1710   \n",
       "  1           48           9           3.0        2.5  2524.0      1262   \n",
       "  2           35          12           4.0        3.5  2706.0      1786   \n",
       "  3           35           9           4.0        2.0  2473.0      1717   \n",
       "  4           40          12           4.0        3.5  3343.0      2198   \n",
       "\n",
       "    AllPorchSF BoughtOffPlan  \n",
       "x 0         61             0  \n",
       "  1          0             0  \n",
       "  2         42             0  \n",
       "  3        307             0  \n",
       "  4         84             0  \n",
       "\n",
       "[5 rows x 81 columns]"
      ],
      "text/html": "<div>\n<style scoped>\n    .dataframe tbody tr th:only-of-type {\n        vertical-align: middle;\n    }\n\n    .dataframe tbody tr th {\n        vertical-align: top;\n    }\n\n    .dataframe thead th {\n        text-align: right;\n    }\n</style>\n<table border=\"1\" class=\"dataframe\">\n  <thead>\n    <tr style=\"text-align: right;\">\n      <th></th>\n      <th></th>\n      <th>Id</th>\n      <th>MSSubClass</th>\n      <th>MSZoning</th>\n      <th>LotFrontage</th>\n      <th>LotArea</th>\n      <th>Alley</th>\n      <th>LotShape</th>\n      <th>LandContour</th>\n      <th>LotConfig</th>\n      <th>Neighborhood</th>\n      <th>...</th>\n      <th>SaleType</th>\n      <th>SaleCondition</th>\n      <th>OverallGrade</th>\n      <th>ExterGrade</th>\n      <th>KitchenScore</th>\n      <th>TotalBath</th>\n      <th>AllSF</th>\n      <th>AllFlrsSF</th>\n      <th>AllPorchSF</th>\n      <th>BoughtOffPlan</th>\n    </tr>\n  </thead>\n  <tbody>\n    <tr>\n      <th rowspan=\"5\" valign=\"top\">x</th>\n      <th>0</th>\n      <td>1</td>\n      <td>SC60</td>\n      <td>RL</td>\n      <td>65.0</td>\n      <td>8450</td>\n      <td>NaN</td>\n      <td>4</td>\n      <td>Lvl</td>\n      <td>Inside</td>\n      <td>CollgCr</td>\n      <td>...</td>\n      <td>WD</td>\n      <td>Normal</td>\n      <td>35</td>\n      <td>12</td>\n      <td>4.0</td>\n      <td>3.5</td>\n      <td>2566.0</td>\n      <td>1710</td>\n      <td>61</td>\n      <td>0</td>\n    </tr>\n    <tr>\n      <th>1</th>\n      <td>2</td>\n      <td>SC20</td>\n      <td>RL</td>\n      <td>80.0</td>\n      <td>9600</td>\n      <td>NaN</td>\n      <td>4</td>\n      <td>Lvl</td>\n      <td>FR2</td>\n      <td>Other</td>\n      <td>...</td>\n      <td>WD</td>\n      <td>Normal</td>\n      <td>48</td>\n      <td>9</td>\n      <td>3.0</td>\n      <td>2.5</td>\n      <td>2524.0</td>\n      <td>1262</td>\n      <td>0</td>\n      <td>0</td>\n    </tr>\n    <tr>\n      <th>2</th>\n      <td>3</td>\n      <td>SC60</td>\n      <td>RL</td>\n      <td>68.0</td>\n      <td>11250</td>\n      <td>NaN</td>\n      <td>3</td>\n      <td>Lvl</td>\n      <td>Inside</td>\n      <td>CollgCr</td>\n      <td>...</td>\n      <td>WD</td>\n      <td>Normal</td>\n      <td>35</td>\n      <td>12</td>\n      <td>4.0</td>\n      <td>3.5</td>\n      <td>2706.0</td>\n      <td>1786</td>\n      <td>42</td>\n      <td>0</td>\n    </tr>\n    <tr>\n      <th>3</th>\n      <td>4</td>\n      <td>SC70</td>\n      <td>RL</td>\n      <td>60.0</td>\n      <td>9550</td>\n      <td>NaN</td>\n      <td>3</td>\n      <td>Lvl</td>\n      <td>Corner</td>\n      <td>Crawfor</td>\n      <td>...</td>\n      <td>WD</td>\n      <td>Abnorml</td>\n      <td>35</td>\n      <td>9</td>\n      <td>4.0</td>\n      <td>2.0</td>\n      <td>2473.0</td>\n      <td>1717</td>\n      <td>307</td>\n      <td>0</td>\n    </tr>\n    <tr>\n      <th>4</th>\n      <td>5</td>\n      <td>SC60</td>\n      <td>RL</td>\n      <td>84.0</td>\n      <td>14260</td>\n      <td>NaN</td>\n      <td>3</td>\n      <td>Lvl</td>\n      <td>FR2</td>\n      <td>NoRidge</td>\n      <td>...</td>\n      <td>WD</td>\n      <td>Normal</td>\n      <td>40</td>\n      <td>12</td>\n      <td>4.0</td>\n      <td>3.5</td>\n      <td>3343.0</td>\n      <td>2198</td>\n      <td>84</td>\n      <td>0</td>\n    </tr>\n  </tbody>\n</table>\n<p>5 rows × 81 columns</p>\n</div>"
     },
     "metadata": {},
     "execution_count": 12
    }
   ],
   "source": [
    "train_data.head()"
   ]
  },
  {
   "cell_type": "code",
   "execution_count": 13,
   "metadata": {},
   "outputs": [
    {
     "output_type": "stream",
     "name": "stdout",
     "text": [
      "Numerical features : 56\nCategorical features : 25\nNAs for numerical features in train : 5230\nRemaining NAs for numerical features in train : 0\n"
     ]
    }
   ],
   "source": [
    "# Differentiate numerical features and categorical features\n",
    "categorical_features = train_data.select_dtypes(include = [\"object\"]).columns\n",
    "numerical_features = train_data.select_dtypes(exclude = [\"object\"]).columns\n",
    "print(\"Numerical features : \" + str(len(numerical_features)))\n",
    "print(\"Categorical features : \" + str(len(categorical_features)))\n",
    "train_num = train_data[numerical_features]\n",
    "train_cat = train_data[categorical_features]\n",
    "print(\"NAs for numerical features in train : \" + str(train_num.isnull().values.sum()))\n",
    "train_num = train_num.fillna(train_num.median())\n",
    "print(\"Remaining NAs for numerical features in train : \" + str(train_num.isnull().values.sum()))"
   ]
  },
  {
   "cell_type": "code",
   "execution_count": 14,
   "metadata": {},
   "outputs": [
    {
     "output_type": "stream",
     "name": "stdout",
     "text": [
      "NAs for categorical features in train : 8578\nRemaining NAs for categorical features in train : 0\n"
     ]
    }
   ],
   "source": [
    "#2.6 turn category features to dummy\n",
    "print(\"NAs for categorical features in train : \" + str(train_cat.isnull().values.sum()))\n",
    "train_cat = pd.get_dummies(train_cat, drop_first=True)\n",
    "print(\"Remaining NAs for categorical features in train : \" + str(train_cat.isnull().values.sum()))\n"
   ]
  },
  {
   "cell_type": "code",
   "execution_count": 15,
   "metadata": {},
   "outputs": [
    {
     "output_type": "stream",
     "name": "stdout",
     "text": [
      "New number of features : 185\n"
     ]
    }
   ],
   "source": [
    "#2.7 join categorical and numerical features \n",
    "train_Data_New = pd.concat([train_num, train_cat], axis = 1)\n",
    "print(\"New number of features : \" + str(train_Data_New.shape[1]))"
   ]
  },
  {
   "cell_type": "code",
   "execution_count": 16,
   "metadata": {},
   "outputs": [],
   "source": [
    "#2.8 remove collinear columns\n",
    "# Create correlation matrix\n",
    "corr_matrix = train_Data_New.corr().abs()\n",
    "# Select upper triangle of correlation matrix\n",
    "upper = corr_matrix.where(np.triu(np.ones(corr_matrix.shape), k=1).astype(np.bool))\n",
    "# Find features with correlation greater than 0.95\n",
    "to_drop = [column for column in upper.columns if any(upper[column] > 0.95)]\n",
    "# Drop features \n",
    "train_Data_New.drop(to_drop, axis=1, inplace=True)"
   ]
  },
  {
   "cell_type": "code",
   "execution_count": 17,
   "metadata": {},
   "outputs": [],
   "source": [
    "#3.split in-sample data to training and validation sets\n",
    "train_Data_New.index=train_Data_New[\"Id\"]\n",
    "train_Data_New.drop(\"Id\", axis=1, inplace=True)\n",
    "train_data.index=train_data[\"Id\"]"
   ]
  },
  {
   "cell_type": "code",
   "execution_count": 18,
   "metadata": {},
   "outputs": [
    {
     "output_type": "execute_result",
     "data": {
      "text/plain": [
       "(2919, 174)"
      ]
     },
     "metadata": {},
     "execution_count": 18
    }
   ],
   "source": [
    "train_Data_New.shape"
   ]
  },
  {
   "cell_type": "code",
   "execution_count": 19,
   "metadata": {},
   "outputs": [
    {
     "output_type": "execute_result",
     "data": {
      "text/plain": [
       "    LotFrontage  LotArea  Alley  LotShape  OverallQual  OverallCond  \\\n",
       "Id                                                                    \n",
       "1          65.0     8450    1.0         4            7            5   \n",
       "2          80.0     9600    1.0         4            6            8   \n",
       "3          68.0    11250    1.0         3            7            5   \n",
       "4          60.0     9550    1.0         3            7            5   \n",
       "5          84.0    14260    1.0         3            8            5   \n",
       "\n",
       "    YearBuilt  YearRemodAdd  MasVnrArea  ExterQual  ...  MoSold_May  \\\n",
       "Id                                                  ...               \n",
       "1        2003          2003       196.0          4  ...           0   \n",
       "2        1976          1976         0.0          3  ...           1   \n",
       "3        2001          2002       162.0          4  ...           0   \n",
       "4        1915          1970         0.0          3  ...           0   \n",
       "5        2000          2000       350.0          4  ...           0   \n",
       "\n",
       "    MoSold_Nov  MoSold_Oct  MoSold_Sep  SaleType_New  SaleType_Other  \\\n",
       "Id                                                                     \n",
       "1            0           0           0             0               0   \n",
       "2            0           0           0             0               0   \n",
       "3            0           0           1             0               0   \n",
       "4            0           0           0             0               0   \n",
       "5            0           0           0             0               0   \n",
       "\n",
       "    SaleType_WD  SaleCondition_Family  SaleCondition_Normal  \\\n",
       "Id                                                            \n",
       "1             1                     0                     1   \n",
       "2             1                     0                     1   \n",
       "3             1                     0                     1   \n",
       "4             1                     0                     0   \n",
       "5             1                     0                     1   \n",
       "\n",
       "    SaleCondition_Other  \n",
       "Id                       \n",
       "1                     0  \n",
       "2                     0  \n",
       "3                     0  \n",
       "4                     0  \n",
       "5                     0  \n",
       "\n",
       "[5 rows x 174 columns]"
      ],
      "text/html": "<div>\n<style scoped>\n    .dataframe tbody tr th:only-of-type {\n        vertical-align: middle;\n    }\n\n    .dataframe tbody tr th {\n        vertical-align: top;\n    }\n\n    .dataframe thead th {\n        text-align: right;\n    }\n</style>\n<table border=\"1\" class=\"dataframe\">\n  <thead>\n    <tr style=\"text-align: right;\">\n      <th></th>\n      <th>LotFrontage</th>\n      <th>LotArea</th>\n      <th>Alley</th>\n      <th>LotShape</th>\n      <th>OverallQual</th>\n      <th>OverallCond</th>\n      <th>YearBuilt</th>\n      <th>YearRemodAdd</th>\n      <th>MasVnrArea</th>\n      <th>ExterQual</th>\n      <th>...</th>\n      <th>MoSold_May</th>\n      <th>MoSold_Nov</th>\n      <th>MoSold_Oct</th>\n      <th>MoSold_Sep</th>\n      <th>SaleType_New</th>\n      <th>SaleType_Other</th>\n      <th>SaleType_WD</th>\n      <th>SaleCondition_Family</th>\n      <th>SaleCondition_Normal</th>\n      <th>SaleCondition_Other</th>\n    </tr>\n    <tr>\n      <th>Id</th>\n      <th></th>\n      <th></th>\n      <th></th>\n      <th></th>\n      <th></th>\n      <th></th>\n      <th></th>\n      <th></th>\n      <th></th>\n      <th></th>\n      <th></th>\n      <th></th>\n      <th></th>\n      <th></th>\n      <th></th>\n      <th></th>\n      <th></th>\n      <th></th>\n      <th></th>\n      <th></th>\n      <th></th>\n    </tr>\n  </thead>\n  <tbody>\n    <tr>\n      <th>1</th>\n      <td>65.0</td>\n      <td>8450</td>\n      <td>1.0</td>\n      <td>4</td>\n      <td>7</td>\n      <td>5</td>\n      <td>2003</td>\n      <td>2003</td>\n      <td>196.0</td>\n      <td>4</td>\n      <td>...</td>\n      <td>0</td>\n      <td>0</td>\n      <td>0</td>\n      <td>0</td>\n      <td>0</td>\n      <td>0</td>\n      <td>1</td>\n      <td>0</td>\n      <td>1</td>\n      <td>0</td>\n    </tr>\n    <tr>\n      <th>2</th>\n      <td>80.0</td>\n      <td>9600</td>\n      <td>1.0</td>\n      <td>4</td>\n      <td>6</td>\n      <td>8</td>\n      <td>1976</td>\n      <td>1976</td>\n      <td>0.0</td>\n      <td>3</td>\n      <td>...</td>\n      <td>1</td>\n      <td>0</td>\n      <td>0</td>\n      <td>0</td>\n      <td>0</td>\n      <td>0</td>\n      <td>1</td>\n      <td>0</td>\n      <td>1</td>\n      <td>0</td>\n    </tr>\n    <tr>\n      <th>3</th>\n      <td>68.0</td>\n      <td>11250</td>\n      <td>1.0</td>\n      <td>3</td>\n      <td>7</td>\n      <td>5</td>\n      <td>2001</td>\n      <td>2002</td>\n      <td>162.0</td>\n      <td>4</td>\n      <td>...</td>\n      <td>0</td>\n      <td>0</td>\n      <td>0</td>\n      <td>1</td>\n      <td>0</td>\n      <td>0</td>\n      <td>1</td>\n      <td>0</td>\n      <td>1</td>\n      <td>0</td>\n    </tr>\n    <tr>\n      <th>4</th>\n      <td>60.0</td>\n      <td>9550</td>\n      <td>1.0</td>\n      <td>3</td>\n      <td>7</td>\n      <td>5</td>\n      <td>1915</td>\n      <td>1970</td>\n      <td>0.0</td>\n      <td>3</td>\n      <td>...</td>\n      <td>0</td>\n      <td>0</td>\n      <td>0</td>\n      <td>0</td>\n      <td>0</td>\n      <td>0</td>\n      <td>1</td>\n      <td>0</td>\n      <td>0</td>\n      <td>0</td>\n    </tr>\n    <tr>\n      <th>5</th>\n      <td>84.0</td>\n      <td>14260</td>\n      <td>1.0</td>\n      <td>3</td>\n      <td>8</td>\n      <td>5</td>\n      <td>2000</td>\n      <td>2000</td>\n      <td>350.0</td>\n      <td>4</td>\n      <td>...</td>\n      <td>0</td>\n      <td>0</td>\n      <td>0</td>\n      <td>0</td>\n      <td>0</td>\n      <td>0</td>\n      <td>1</td>\n      <td>0</td>\n      <td>1</td>\n      <td>0</td>\n    </tr>\n  </tbody>\n</table>\n<p>5 rows × 174 columns</p>\n</div>"
     },
     "metadata": {},
     "execution_count": 19
    }
   ],
   "source": [
    "train_Data_New.head()"
   ]
  },
  {
   "cell_type": "code",
   "execution_count": 20,
   "metadata": {},
   "outputs": [],
   "source": [
    "Train_data=train_Data_New[:1460]\n",
    "Test_data=train_Data_New[1460:]"
   ]
  },
  {
   "cell_type": "code",
   "execution_count": 21,
   "metadata": {},
   "outputs": [
    {
     "output_type": "execute_result",
     "data": {
      "text/plain": [
       "(1460, 174)"
      ]
     },
     "metadata": {},
     "execution_count": 21
    }
   ],
   "source": [
    "Train_data.shape"
   ]
  },
  {
   "cell_type": "code",
   "execution_count": 22,
   "metadata": {},
   "outputs": [],
   "source": [
    "Train_data.insert(2,column=\"SalePrice\",value=Sale_Price)"
   ]
  },
  {
   "cell_type": "code",
   "execution_count": 23,
   "metadata": {},
   "outputs": [
    {
     "output_type": "execute_result",
     "data": {
      "text/plain": [
       "(1460, 175)"
      ]
     },
     "metadata": {},
     "execution_count": 23
    }
   ],
   "source": [
    "Train_data.shape"
   ]
  },
  {
   "cell_type": "code",
   "execution_count": 24,
   "metadata": {},
   "outputs": [
    {
     "output_type": "execute_result",
     "data": {
      "text/plain": [
       "(1459, 174)"
      ]
     },
     "metadata": {},
     "execution_count": 24
    }
   ],
   "source": [
    "Test_data.shape"
   ]
  },
  {
   "cell_type": "code",
   "execution_count": 25,
   "metadata": {},
   "outputs": [
    {
     "output_type": "stream",
     "name": "stderr",
     "text": [
      "/usr/local/lib/python3.8/site-packages/pandas/core/frame.py:4162: SettingWithCopyWarning: \nA value is trying to be set on a copy of a slice from a DataFrame\n\nSee the caveats in the documentation: https://pandas.pydata.org/pandas-docs/stable/user_guide/indexing.html#returning-a-view-versus-a-copy\n  return super().drop(\n"
     ]
    }
   ],
   "source": [
    "dependentV=Train_data[\"SalePrice\"]\n",
    "Train_data.drop(\"SalePrice\", axis=1, inplace=True)"
   ]
  },
  {
   "cell_type": "code",
   "execution_count": 26,
   "metadata": {},
   "outputs": [],
   "source": [
    "import pandas as pd\n",
    "from sklearn.linear_model import LinearRegression, Ridge, Lasso\n",
    "from sklearn.metrics import r2_score\n",
    "from sklearn.model_selection import train_test_split\n",
    "from sklearn.feature_selection import f_regression, SelectKBest\n",
    "import numpy as np\n",
    "from Help_functions_v2 import sklearn_Pvalue, sklearn_adjR2, RMSE"
   ]
  },
  {
   "cell_type": "code",
   "execution_count": 27,
   "metadata": {},
   "outputs": [
    {
     "output_type": "execute_result",
     "data": {
      "text/plain": [
       "    LotFrontage  LotArea  Alley  LotShape  OverallQual  OverallCond  \\\n",
       "Id                                                                    \n",
       "1          65.0     8450    1.0         4            7            5   \n",
       "2          80.0     9600    1.0         4            6            8   \n",
       "3          68.0    11250    1.0         3            7            5   \n",
       "4          60.0     9550    1.0         3            7            5   \n",
       "5          84.0    14260    1.0         3            8            5   \n",
       "\n",
       "    YearBuilt  YearRemodAdd  MasVnrArea  ExterQual  ...  MoSold_May  \\\n",
       "Id                                                  ...               \n",
       "1        2003          2003       196.0          4  ...           0   \n",
       "2        1976          1976         0.0          3  ...           1   \n",
       "3        2001          2002       162.0          4  ...           0   \n",
       "4        1915          1970         0.0          3  ...           0   \n",
       "5        2000          2000       350.0          4  ...           0   \n",
       "\n",
       "    MoSold_Nov  MoSold_Oct  MoSold_Sep  SaleType_New  SaleType_Other  \\\n",
       "Id                                                                     \n",
       "1            0           0           0             0               0   \n",
       "2            0           0           0             0               0   \n",
       "3            0           0           1             0               0   \n",
       "4            0           0           0             0               0   \n",
       "5            0           0           0             0               0   \n",
       "\n",
       "    SaleType_WD  SaleCondition_Family  SaleCondition_Normal  \\\n",
       "Id                                                            \n",
       "1             1                     0                     1   \n",
       "2             1                     0                     1   \n",
       "3             1                     0                     1   \n",
       "4             1                     0                     0   \n",
       "5             1                     0                     1   \n",
       "\n",
       "    SaleCondition_Other  \n",
       "Id                       \n",
       "1                     0  \n",
       "2                     0  \n",
       "3                     0  \n",
       "4                     0  \n",
       "5                     0  \n",
       "\n",
       "[5 rows x 174 columns]"
      ],
      "text/html": "<div>\n<style scoped>\n    .dataframe tbody tr th:only-of-type {\n        vertical-align: middle;\n    }\n\n    .dataframe tbody tr th {\n        vertical-align: top;\n    }\n\n    .dataframe thead th {\n        text-align: right;\n    }\n</style>\n<table border=\"1\" class=\"dataframe\">\n  <thead>\n    <tr style=\"text-align: right;\">\n      <th></th>\n      <th>LotFrontage</th>\n      <th>LotArea</th>\n      <th>Alley</th>\n      <th>LotShape</th>\n      <th>OverallQual</th>\n      <th>OverallCond</th>\n      <th>YearBuilt</th>\n      <th>YearRemodAdd</th>\n      <th>MasVnrArea</th>\n      <th>ExterQual</th>\n      <th>...</th>\n      <th>MoSold_May</th>\n      <th>MoSold_Nov</th>\n      <th>MoSold_Oct</th>\n      <th>MoSold_Sep</th>\n      <th>SaleType_New</th>\n      <th>SaleType_Other</th>\n      <th>SaleType_WD</th>\n      <th>SaleCondition_Family</th>\n      <th>SaleCondition_Normal</th>\n      <th>SaleCondition_Other</th>\n    </tr>\n    <tr>\n      <th>Id</th>\n      <th></th>\n      <th></th>\n      <th></th>\n      <th></th>\n      <th></th>\n      <th></th>\n      <th></th>\n      <th></th>\n      <th></th>\n      <th></th>\n      <th></th>\n      <th></th>\n      <th></th>\n      <th></th>\n      <th></th>\n      <th></th>\n      <th></th>\n      <th></th>\n      <th></th>\n      <th></th>\n      <th></th>\n    </tr>\n  </thead>\n  <tbody>\n    <tr>\n      <th>1</th>\n      <td>65.0</td>\n      <td>8450</td>\n      <td>1.0</td>\n      <td>4</td>\n      <td>7</td>\n      <td>5</td>\n      <td>2003</td>\n      <td>2003</td>\n      <td>196.0</td>\n      <td>4</td>\n      <td>...</td>\n      <td>0</td>\n      <td>0</td>\n      <td>0</td>\n      <td>0</td>\n      <td>0</td>\n      <td>0</td>\n      <td>1</td>\n      <td>0</td>\n      <td>1</td>\n      <td>0</td>\n    </tr>\n    <tr>\n      <th>2</th>\n      <td>80.0</td>\n      <td>9600</td>\n      <td>1.0</td>\n      <td>4</td>\n      <td>6</td>\n      <td>8</td>\n      <td>1976</td>\n      <td>1976</td>\n      <td>0.0</td>\n      <td>3</td>\n      <td>...</td>\n      <td>1</td>\n      <td>0</td>\n      <td>0</td>\n      <td>0</td>\n      <td>0</td>\n      <td>0</td>\n      <td>1</td>\n      <td>0</td>\n      <td>1</td>\n      <td>0</td>\n    </tr>\n    <tr>\n      <th>3</th>\n      <td>68.0</td>\n      <td>11250</td>\n      <td>1.0</td>\n      <td>3</td>\n      <td>7</td>\n      <td>5</td>\n      <td>2001</td>\n      <td>2002</td>\n      <td>162.0</td>\n      <td>4</td>\n      <td>...</td>\n      <td>0</td>\n      <td>0</td>\n      <td>0</td>\n      <td>1</td>\n      <td>0</td>\n      <td>0</td>\n      <td>1</td>\n      <td>0</td>\n      <td>1</td>\n      <td>0</td>\n    </tr>\n    <tr>\n      <th>4</th>\n      <td>60.0</td>\n      <td>9550</td>\n      <td>1.0</td>\n      <td>3</td>\n      <td>7</td>\n      <td>5</td>\n      <td>1915</td>\n      <td>1970</td>\n      <td>0.0</td>\n      <td>3</td>\n      <td>...</td>\n      <td>0</td>\n      <td>0</td>\n      <td>0</td>\n      <td>0</td>\n      <td>0</td>\n      <td>0</td>\n      <td>1</td>\n      <td>0</td>\n      <td>0</td>\n      <td>0</td>\n    </tr>\n    <tr>\n      <th>5</th>\n      <td>84.0</td>\n      <td>14260</td>\n      <td>1.0</td>\n      <td>3</td>\n      <td>8</td>\n      <td>5</td>\n      <td>2000</td>\n      <td>2000</td>\n      <td>350.0</td>\n      <td>4</td>\n      <td>...</td>\n      <td>0</td>\n      <td>0</td>\n      <td>0</td>\n      <td>0</td>\n      <td>0</td>\n      <td>0</td>\n      <td>1</td>\n      <td>0</td>\n      <td>1</td>\n      <td>0</td>\n    </tr>\n  </tbody>\n</table>\n<p>5 rows × 174 columns</p>\n</div>"
     },
     "metadata": {},
     "execution_count": 27
    }
   ],
   "source": [
    "Train_data.head()"
   ]
  },
  {
   "cell_type": "code",
   "execution_count": 28,
   "metadata": {},
   "outputs": [
    {
     "output_type": "stream",
     "name": "stdout",
     "text": [
      "LotFrontage             True\n",
      "LotArea                 True\n",
      "Alley                   True\n",
      "LotShape                True\n",
      "OverallQual             True\n",
      "                        ... \n",
      "SaleType_Other          True\n",
      "SaleType_WD             True\n",
      "SaleCondition_Family    True\n",
      "SaleCondition_Normal    True\n",
      "SaleCondition_Other     True\n",
      "Length: 174, dtype: bool\n",
      "LotFrontage             False\n",
      "LotArea                 False\n",
      "Alley                   False\n",
      "LotShape                False\n",
      "OverallQual             False\n",
      "                        ...  \n",
      "SaleType_Other          False\n",
      "SaleType_WD             False\n",
      "SaleCondition_Family    False\n",
      "SaleCondition_Normal    False\n",
      "SaleCondition_Other     False\n",
      "Length: 174, dtype: bool\n",
      "<ipython-input-28-f92436254c9c>:11: SettingWithCopyWarning: \n",
      "A value is trying to be set on a copy of a slice from a DataFrame.\n",
      "Try using .loc[row_indexer,col_indexer] = value instead\n",
      "\n",
      "See the caveats in the documentation: https://pandas.pydata.org/pandas-docs/stable/user_guide/indexing.html#returning-a-view-versus-a-copy\n",
      "  Train_data[train_inf] = 0\n",
      "/usr/local/lib/python3.8/site-packages/pandas/core/frame.py:3089: SettingWithCopyWarning: \n",
      "A value is trying to be set on a copy of a slice from a DataFrame\n",
      "\n",
      "See the caveats in the documentation: https://pandas.pydata.org/pandas-docs/stable/user_guide/indexing.html#returning-a-view-versus-a-copy\n",
      "  self._where(-key, value, inplace=True)\n"
     ]
    }
   ],
   "source": [
    "#检查是否包含无穷数据\n",
    "#False:包含\n",
    "#True:不包含\n",
    "print(np.isfinite(Train_data).all())\n",
    "#False:不包含\n",
    "#True:包含\n",
    "print(np.isinf(Train_data).all())\n",
    " \n",
    "#数据处理\n",
    "train_inf = np.isinf(Train_data)\n",
    "Train_data[train_inf] = 0"
   ]
  },
  {
   "cell_type": "code",
   "execution_count": 29,
   "metadata": {},
   "outputs": [
    {
     "output_type": "stream",
     "name": "stdout",
     "text": [
      "LotFrontage             False\nLotArea                 False\nAlley                   False\nLotShape                False\nOverallQual             False\n                        ...  \nSaleType_Other          False\nSaleType_WD             False\nSaleCondition_Family    False\nSaleCondition_Normal    False\nSaleCondition_Other     False\nLength: 174, dtype: bool\nLotFrontage             False\nLotArea                 False\nAlley                   False\nLotShape                False\nOverallQual             False\n                        ...  \nSaleType_Other          False\nSaleType_WD             False\nSaleCondition_Family    False\nSaleCondition_Normal    False\nSaleCondition_Other     False\nLength: 174, dtype: bool\n"
     ]
    }
   ],
   "source": [
    "# 检查数据中是否有缺失值，以下两种方式均可\n",
    "#Flase:对应特征的特征值中无缺失值\n",
    "#True：有缺失值\n",
    "print(Train_data.isnull().any())\n",
    "print(np.isnan(Train_data).any())\n"
   ]
  },
  {
   "cell_type": "code",
   "execution_count": 30,
   "metadata": {},
   "outputs": [
    {
     "output_type": "stream",
     "name": "stdout",
     "text": [
      "X_train : (1022, 174)\nX_test : (438, 174)\ny_train : (1022,)\ny_test : (438,)\n"
     ]
    }
   ],
   "source": [
    "X_train, X_test, y_train, y_test = train_test_split(Train_data, dependentV, test_size = 0.3, random_state = 0)\n",
    "print(\"X_train : \" + str(X_train.shape))\n",
    "print(\"X_test : \" + str(X_test.shape))\n",
    "print(\"y_train : \" + str(y_train.shape))\n",
    "print(\"y_test : \" + str(y_test.shape))"
   ]
  },
  {
   "cell_type": "code",
   "execution_count": 31,
   "metadata": {},
   "outputs": [
    {
     "output_type": "execute_result",
     "data": {
      "text/plain": [
       "                     Total  Percent\n",
       "SaleCondition_Other      0      0.0\n",
       "MSSubClass_SC120         0      0.0\n",
       "MSSubClass_SC70          0      0.0\n",
       "MSSubClass_SC60          0      0.0\n",
       "MSSubClass_SC50          0      0.0\n",
       "MSSubClass_SC30          0      0.0\n",
       "MSSubClass_SC20          0      0.0\n",
       "MSSubClass_SC190         0      0.0\n",
       "MSSubClass_SC160         0      0.0\n",
       "MSSubClass_SC150         0      0.0\n",
       "AllPorchSF               0      0.0\n",
       "MSSubClass_SC85          0      0.0\n",
       "AllSF                    0      0.0\n",
       "TotalBath                0      0.0\n",
       "KitchenScore             0      0.0\n",
       "ExterGrade               0      0.0\n",
       "OverallGrade             0      0.0\n",
       "YrSold                   0      0.0\n",
       "MiscVal                  0      0.0\n",
       "PoolArea                 0      0.0"
      ],
      "text/html": "<div>\n<style scoped>\n    .dataframe tbody tr th:only-of-type {\n        vertical-align: middle;\n    }\n\n    .dataframe tbody tr th {\n        vertical-align: top;\n    }\n\n    .dataframe thead th {\n        text-align: right;\n    }\n</style>\n<table border=\"1\" class=\"dataframe\">\n  <thead>\n    <tr style=\"text-align: right;\">\n      <th></th>\n      <th>Total</th>\n      <th>Percent</th>\n    </tr>\n  </thead>\n  <tbody>\n    <tr>\n      <th>SaleCondition_Other</th>\n      <td>0</td>\n      <td>0.0</td>\n    </tr>\n    <tr>\n      <th>MSSubClass_SC120</th>\n      <td>0</td>\n      <td>0.0</td>\n    </tr>\n    <tr>\n      <th>MSSubClass_SC70</th>\n      <td>0</td>\n      <td>0.0</td>\n    </tr>\n    <tr>\n      <th>MSSubClass_SC60</th>\n      <td>0</td>\n      <td>0.0</td>\n    </tr>\n    <tr>\n      <th>MSSubClass_SC50</th>\n      <td>0</td>\n      <td>0.0</td>\n    </tr>\n    <tr>\n      <th>MSSubClass_SC30</th>\n      <td>0</td>\n      <td>0.0</td>\n    </tr>\n    <tr>\n      <th>MSSubClass_SC20</th>\n      <td>0</td>\n      <td>0.0</td>\n    </tr>\n    <tr>\n      <th>MSSubClass_SC190</th>\n      <td>0</td>\n      <td>0.0</td>\n    </tr>\n    <tr>\n      <th>MSSubClass_SC160</th>\n      <td>0</td>\n      <td>0.0</td>\n    </tr>\n    <tr>\n      <th>MSSubClass_SC150</th>\n      <td>0</td>\n      <td>0.0</td>\n    </tr>\n    <tr>\n      <th>AllPorchSF</th>\n      <td>0</td>\n      <td>0.0</td>\n    </tr>\n    <tr>\n      <th>MSSubClass_SC85</th>\n      <td>0</td>\n      <td>0.0</td>\n    </tr>\n    <tr>\n      <th>AllSF</th>\n      <td>0</td>\n      <td>0.0</td>\n    </tr>\n    <tr>\n      <th>TotalBath</th>\n      <td>0</td>\n      <td>0.0</td>\n    </tr>\n    <tr>\n      <th>KitchenScore</th>\n      <td>0</td>\n      <td>0.0</td>\n    </tr>\n    <tr>\n      <th>ExterGrade</th>\n      <td>0</td>\n      <td>0.0</td>\n    </tr>\n    <tr>\n      <th>OverallGrade</th>\n      <td>0</td>\n      <td>0.0</td>\n    </tr>\n    <tr>\n      <th>YrSold</th>\n      <td>0</td>\n      <td>0.0</td>\n    </tr>\n    <tr>\n      <th>MiscVal</th>\n      <td>0</td>\n      <td>0.0</td>\n    </tr>\n    <tr>\n      <th>PoolArea</th>\n      <td>0</td>\n      <td>0.0</td>\n    </tr>\n  </tbody>\n</table>\n</div>"
     },
     "metadata": {},
     "execution_count": 31
    }
   ],
   "source": [
    "# how many % of data are missing\n",
    "total = Train_data.isnull().sum().sort_values(ascending=False)\n",
    "percent = (Train_data.isnull().sum()/Train_data.isnull().count()).sort_values(ascending=False)\n",
    "missing_data = pd.concat([total, percent], axis=1, keys=['Total', 'Percent'])\n",
    "missing_data.head(20)"
   ]
  },
  {
   "cell_type": "code",
   "execution_count": 32,
   "metadata": {},
   "outputs": [
    {
     "output_type": "stream",
     "name": "stdout",
     "text": [
      "LotFrontage             True\n",
      "LotArea                 True\n",
      "Alley                   True\n",
      "LotShape                True\n",
      "OverallQual             True\n",
      "                        ... \n",
      "SaleType_Other          True\n",
      "SaleType_WD             True\n",
      "SaleCondition_Family    True\n",
      "SaleCondition_Normal    True\n",
      "SaleCondition_Other     True\n",
      "Length: 174, dtype: bool\n",
      "LotFrontage             False\n",
      "LotArea                 False\n",
      "Alley                   False\n",
      "LotShape                False\n",
      "OverallQual             False\n",
      "                        ...  \n",
      "SaleType_Other          False\n",
      "SaleType_WD             False\n",
      "SaleCondition_Family    False\n",
      "SaleCondition_Normal    False\n",
      "SaleCondition_Other     False\n",
      "Length: 174, dtype: bool\n",
      "<ipython-input-32-f92436254c9c>:11: SettingWithCopyWarning: \n",
      "A value is trying to be set on a copy of a slice from a DataFrame.\n",
      "Try using .loc[row_indexer,col_indexer] = value instead\n",
      "\n",
      "See the caveats in the documentation: https://pandas.pydata.org/pandas-docs/stable/user_guide/indexing.html#returning-a-view-versus-a-copy\n",
      "  Train_data[train_inf] = 0\n",
      "/usr/local/lib/python3.8/site-packages/pandas/core/frame.py:3089: SettingWithCopyWarning: \n",
      "A value is trying to be set on a copy of a slice from a DataFrame\n",
      "\n",
      "See the caveats in the documentation: https://pandas.pydata.org/pandas-docs/stable/user_guide/indexing.html#returning-a-view-versus-a-copy\n",
      "  self._where(-key, value, inplace=True)\n"
     ]
    }
   ],
   "source": [
    "#检查是否包含无穷数据\n",
    "#False:包含\n",
    "#True:不包含\n",
    "print(np.isfinite(Train_data).all())\n",
    "#False:不包含\n",
    "#True:包含\n",
    "print(np.isinf(Train_data).all())\n",
    "#数据处理\n",
    "train_inf = np.isinf(Train_data)\n",
    "Train_data[train_inf] = 0"
   ]
  },
  {
   "cell_type": "code",
   "execution_count": 33,
   "metadata": {},
   "outputs": [
    {
     "output_type": "error",
     "ename": "ValueError",
     "evalue": "Input contains NaN, infinity or a value too large for dtype('float64').",
     "traceback": [
      "\u001b[0;31m---------------------------------------------------------------------------\u001b[0m",
      "\u001b[0;31mValueError\u001b[0m                                Traceback (most recent call last)",
      "\u001b[0;32m<ipython-input-33-e62c7f58e5a9>\u001b[0m in \u001b[0;36m<module>\u001b[0;34m\u001b[0m\n\u001b[1;32m      2\u001b[0m \u001b[0;31m#3.1 Ridge Regularization\u001b[0m\u001b[0;34m\u001b[0m\u001b[0;34m\u001b[0m\u001b[0;34m\u001b[0m\u001b[0m\n\u001b[1;32m      3\u001b[0m \u001b[0mridge_model\u001b[0m\u001b[0;34m=\u001b[0m\u001b[0mRidge\u001b[0m\u001b[0;34m(\u001b[0m\u001b[0malpha\u001b[0m\u001b[0;34m=\u001b[0m\u001b[0;36m1\u001b[0m\u001b[0;34m)\u001b[0m\u001b[0;34m\u001b[0m\u001b[0;34m\u001b[0m\u001b[0m\n\u001b[0;32m----> 4\u001b[0;31m \u001b[0mridge_model\u001b[0m\u001b[0;34m.\u001b[0m\u001b[0mfit\u001b[0m\u001b[0;34m(\u001b[0m\u001b[0mX_train\u001b[0m\u001b[0;34m,\u001b[0m \u001b[0my_train\u001b[0m\u001b[0;34m)\u001b[0m\u001b[0;34m\u001b[0m\u001b[0;34m\u001b[0m\u001b[0m\n\u001b[0m\u001b[1;32m      5\u001b[0m \u001b[0my_trainPred\u001b[0m\u001b[0;34m=\u001b[0m\u001b[0mridge_model\u001b[0m\u001b[0;34m.\u001b[0m\u001b[0mpredict\u001b[0m\u001b[0;34m(\u001b[0m\u001b[0mX_train\u001b[0m\u001b[0;34m)\u001b[0m\u001b[0;34m\u001b[0m\u001b[0;34m\u001b[0m\u001b[0m\n\u001b[1;32m      6\u001b[0m \u001b[0;31m#in sample\u001b[0m\u001b[0;34m\u001b[0m\u001b[0;34m\u001b[0m\u001b[0;34m\u001b[0m\u001b[0m\n",
      "\u001b[0;32m/usr/local/lib/python3.8/site-packages/sklearn/linear_model/_ridge.py\u001b[0m in \u001b[0;36mfit\u001b[0;34m(self, X, y, sample_weight)\u001b[0m\n\u001b[1;32m    760\u001b[0m         \u001b[0mself\u001b[0m \u001b[0;34m:\u001b[0m \u001b[0mreturns\u001b[0m \u001b[0man\u001b[0m \u001b[0minstance\u001b[0m \u001b[0mof\u001b[0m \u001b[0mself\u001b[0m\u001b[0;34m.\u001b[0m\u001b[0;34m\u001b[0m\u001b[0;34m\u001b[0m\u001b[0m\n\u001b[1;32m    761\u001b[0m         \"\"\"\n\u001b[0;32m--> 762\u001b[0;31m         \u001b[0;32mreturn\u001b[0m \u001b[0msuper\u001b[0m\u001b[0;34m(\u001b[0m\u001b[0;34m)\u001b[0m\u001b[0;34m.\u001b[0m\u001b[0mfit\u001b[0m\u001b[0;34m(\u001b[0m\u001b[0mX\u001b[0m\u001b[0;34m,\u001b[0m \u001b[0my\u001b[0m\u001b[0;34m,\u001b[0m \u001b[0msample_weight\u001b[0m\u001b[0;34m=\u001b[0m\u001b[0msample_weight\u001b[0m\u001b[0;34m)\u001b[0m\u001b[0;34m\u001b[0m\u001b[0;34m\u001b[0m\u001b[0m\n\u001b[0m\u001b[1;32m    763\u001b[0m \u001b[0;34m\u001b[0m\u001b[0m\n\u001b[1;32m    764\u001b[0m \u001b[0;34m\u001b[0m\u001b[0m\n",
      "\u001b[0;32m/usr/local/lib/python3.8/site-packages/sklearn/linear_model/_ridge.py\u001b[0m in \u001b[0;36mfit\u001b[0;34m(self, X, y, sample_weight)\u001b[0m\n\u001b[1;32m    540\u001b[0m         _accept_sparse = _get_valid_accept_sparse(sparse.issparse(X),\n\u001b[1;32m    541\u001b[0m                                                   self.solver)\n\u001b[0;32m--> 542\u001b[0;31m         X, y = self._validate_data(X, y,\n\u001b[0m\u001b[1;32m    543\u001b[0m                                    \u001b[0maccept_sparse\u001b[0m\u001b[0;34m=\u001b[0m\u001b[0m_accept_sparse\u001b[0m\u001b[0;34m,\u001b[0m\u001b[0;34m\u001b[0m\u001b[0;34m\u001b[0m\u001b[0m\n\u001b[1;32m    544\u001b[0m                                    \u001b[0mdtype\u001b[0m\u001b[0;34m=\u001b[0m\u001b[0m_dtype\u001b[0m\u001b[0;34m,\u001b[0m\u001b[0;34m\u001b[0m\u001b[0;34m\u001b[0m\u001b[0m\n",
      "\u001b[0;32m/usr/local/lib/python3.8/site-packages/sklearn/base.py\u001b[0m in \u001b[0;36m_validate_data\u001b[0;34m(self, X, y, reset, validate_separately, **check_params)\u001b[0m\n\u001b[1;32m    430\u001b[0m                 \u001b[0my\u001b[0m \u001b[0;34m=\u001b[0m \u001b[0mcheck_array\u001b[0m\u001b[0;34m(\u001b[0m\u001b[0my\u001b[0m\u001b[0;34m,\u001b[0m \u001b[0;34m**\u001b[0m\u001b[0mcheck_y_params\u001b[0m\u001b[0;34m)\u001b[0m\u001b[0;34m\u001b[0m\u001b[0;34m\u001b[0m\u001b[0m\n\u001b[1;32m    431\u001b[0m             \u001b[0;32melse\u001b[0m\u001b[0;34m:\u001b[0m\u001b[0;34m\u001b[0m\u001b[0;34m\u001b[0m\u001b[0m\n\u001b[0;32m--> 432\u001b[0;31m                 \u001b[0mX\u001b[0m\u001b[0;34m,\u001b[0m \u001b[0my\u001b[0m \u001b[0;34m=\u001b[0m \u001b[0mcheck_X_y\u001b[0m\u001b[0;34m(\u001b[0m\u001b[0mX\u001b[0m\u001b[0;34m,\u001b[0m \u001b[0my\u001b[0m\u001b[0;34m,\u001b[0m \u001b[0;34m**\u001b[0m\u001b[0mcheck_params\u001b[0m\u001b[0;34m)\u001b[0m\u001b[0;34m\u001b[0m\u001b[0;34m\u001b[0m\u001b[0m\n\u001b[0m\u001b[1;32m    433\u001b[0m             \u001b[0mout\u001b[0m \u001b[0;34m=\u001b[0m \u001b[0mX\u001b[0m\u001b[0;34m,\u001b[0m \u001b[0my\u001b[0m\u001b[0;34m\u001b[0m\u001b[0;34m\u001b[0m\u001b[0m\n\u001b[1;32m    434\u001b[0m \u001b[0;34m\u001b[0m\u001b[0m\n",
      "\u001b[0;32m/usr/local/lib/python3.8/site-packages/sklearn/utils/validation.py\u001b[0m in \u001b[0;36minner_f\u001b[0;34m(*args, **kwargs)\u001b[0m\n\u001b[1;32m     70\u001b[0m                           FutureWarning)\n\u001b[1;32m     71\u001b[0m         \u001b[0mkwargs\u001b[0m\u001b[0;34m.\u001b[0m\u001b[0mupdate\u001b[0m\u001b[0;34m(\u001b[0m\u001b[0;34m{\u001b[0m\u001b[0mk\u001b[0m\u001b[0;34m:\u001b[0m \u001b[0marg\u001b[0m \u001b[0;32mfor\u001b[0m \u001b[0mk\u001b[0m\u001b[0;34m,\u001b[0m \u001b[0marg\u001b[0m \u001b[0;32min\u001b[0m \u001b[0mzip\u001b[0m\u001b[0;34m(\u001b[0m\u001b[0msig\u001b[0m\u001b[0;34m.\u001b[0m\u001b[0mparameters\u001b[0m\u001b[0;34m,\u001b[0m \u001b[0margs\u001b[0m\u001b[0;34m)\u001b[0m\u001b[0;34m}\u001b[0m\u001b[0;34m)\u001b[0m\u001b[0;34m\u001b[0m\u001b[0;34m\u001b[0m\u001b[0m\n\u001b[0;32m---> 72\u001b[0;31m         \u001b[0;32mreturn\u001b[0m \u001b[0mf\u001b[0m\u001b[0;34m(\u001b[0m\u001b[0;34m**\u001b[0m\u001b[0mkwargs\u001b[0m\u001b[0;34m)\u001b[0m\u001b[0;34m\u001b[0m\u001b[0;34m\u001b[0m\u001b[0m\n\u001b[0m\u001b[1;32m     73\u001b[0m     \u001b[0;32mreturn\u001b[0m \u001b[0minner_f\u001b[0m\u001b[0;34m\u001b[0m\u001b[0;34m\u001b[0m\u001b[0m\n\u001b[1;32m     74\u001b[0m \u001b[0;34m\u001b[0m\u001b[0m\n",
      "\u001b[0;32m/usr/local/lib/python3.8/site-packages/sklearn/utils/validation.py\u001b[0m in \u001b[0;36mcheck_X_y\u001b[0;34m(X, y, accept_sparse, accept_large_sparse, dtype, order, copy, force_all_finite, ensure_2d, allow_nd, multi_output, ensure_min_samples, ensure_min_features, y_numeric, estimator)\u001b[0m\n\u001b[1;32m    802\u001b[0m                     estimator=estimator)\n\u001b[1;32m    803\u001b[0m     \u001b[0;32mif\u001b[0m \u001b[0mmulti_output\u001b[0m\u001b[0;34m:\u001b[0m\u001b[0;34m\u001b[0m\u001b[0;34m\u001b[0m\u001b[0m\n\u001b[0;32m--> 804\u001b[0;31m         y = check_array(y, accept_sparse='csr', force_all_finite=True,\n\u001b[0m\u001b[1;32m    805\u001b[0m                         ensure_2d=False, dtype=None)\n\u001b[1;32m    806\u001b[0m     \u001b[0;32melse\u001b[0m\u001b[0;34m:\u001b[0m\u001b[0;34m\u001b[0m\u001b[0;34m\u001b[0m\u001b[0m\n",
      "\u001b[0;32m/usr/local/lib/python3.8/site-packages/sklearn/utils/validation.py\u001b[0m in \u001b[0;36minner_f\u001b[0;34m(*args, **kwargs)\u001b[0m\n\u001b[1;32m     70\u001b[0m                           FutureWarning)\n\u001b[1;32m     71\u001b[0m         \u001b[0mkwargs\u001b[0m\u001b[0;34m.\u001b[0m\u001b[0mupdate\u001b[0m\u001b[0;34m(\u001b[0m\u001b[0;34m{\u001b[0m\u001b[0mk\u001b[0m\u001b[0;34m:\u001b[0m \u001b[0marg\u001b[0m \u001b[0;32mfor\u001b[0m \u001b[0mk\u001b[0m\u001b[0;34m,\u001b[0m \u001b[0marg\u001b[0m \u001b[0;32min\u001b[0m \u001b[0mzip\u001b[0m\u001b[0;34m(\u001b[0m\u001b[0msig\u001b[0m\u001b[0;34m.\u001b[0m\u001b[0mparameters\u001b[0m\u001b[0;34m,\u001b[0m \u001b[0margs\u001b[0m\u001b[0;34m)\u001b[0m\u001b[0;34m}\u001b[0m\u001b[0;34m)\u001b[0m\u001b[0;34m\u001b[0m\u001b[0;34m\u001b[0m\u001b[0m\n\u001b[0;32m---> 72\u001b[0;31m         \u001b[0;32mreturn\u001b[0m \u001b[0mf\u001b[0m\u001b[0;34m(\u001b[0m\u001b[0;34m**\u001b[0m\u001b[0mkwargs\u001b[0m\u001b[0;34m)\u001b[0m\u001b[0;34m\u001b[0m\u001b[0;34m\u001b[0m\u001b[0m\n\u001b[0m\u001b[1;32m     73\u001b[0m     \u001b[0;32mreturn\u001b[0m \u001b[0minner_f\u001b[0m\u001b[0;34m\u001b[0m\u001b[0;34m\u001b[0m\u001b[0m\n\u001b[1;32m     74\u001b[0m \u001b[0;34m\u001b[0m\u001b[0m\n",
      "\u001b[0;32m/usr/local/lib/python3.8/site-packages/sklearn/utils/validation.py\u001b[0m in \u001b[0;36mcheck_array\u001b[0;34m(array, accept_sparse, accept_large_sparse, dtype, order, copy, force_all_finite, ensure_2d, allow_nd, ensure_min_samples, ensure_min_features, estimator)\u001b[0m\n\u001b[1;32m    642\u001b[0m \u001b[0;34m\u001b[0m\u001b[0m\n\u001b[1;32m    643\u001b[0m         \u001b[0;32mif\u001b[0m \u001b[0mforce_all_finite\u001b[0m\u001b[0;34m:\u001b[0m\u001b[0;34m\u001b[0m\u001b[0;34m\u001b[0m\u001b[0m\n\u001b[0;32m--> 644\u001b[0;31m             _assert_all_finite(array,\n\u001b[0m\u001b[1;32m    645\u001b[0m                                allow_nan=force_all_finite == 'allow-nan')\n\u001b[1;32m    646\u001b[0m \u001b[0;34m\u001b[0m\u001b[0m\n",
      "\u001b[0;32m/usr/local/lib/python3.8/site-packages/sklearn/utils/validation.py\u001b[0m in \u001b[0;36m_assert_all_finite\u001b[0;34m(X, allow_nan, msg_dtype)\u001b[0m\n\u001b[1;32m     94\u001b[0m                 not allow_nan and not np.isfinite(X).all()):\n\u001b[1;32m     95\u001b[0m             \u001b[0mtype_err\u001b[0m \u001b[0;34m=\u001b[0m \u001b[0;34m'infinity'\u001b[0m \u001b[0;32mif\u001b[0m \u001b[0mallow_nan\u001b[0m \u001b[0;32melse\u001b[0m \u001b[0;34m'NaN, infinity'\u001b[0m\u001b[0;34m\u001b[0m\u001b[0;34m\u001b[0m\u001b[0m\n\u001b[0;32m---> 96\u001b[0;31m             raise ValueError(\n\u001b[0m\u001b[1;32m     97\u001b[0m                     \u001b[0mmsg_err\u001b[0m\u001b[0;34m.\u001b[0m\u001b[0mformat\u001b[0m\u001b[0;34m\u001b[0m\u001b[0;34m\u001b[0m\u001b[0m\n\u001b[1;32m     98\u001b[0m                     (type_err,\n",
      "\u001b[0;31mValueError\u001b[0m: Input contains NaN, infinity or a value too large for dtype('float64')."
     ]
    }
   ],
   "source": [
    "#3 feature selection with regularization\n",
    "#3.1 Ridge Regularization\n",
    "ridge_model=Ridge(alpha=1)\n",
    "ridge_model.fit(X_train, y_train)\n",
    "y_trainPred=ridge_model.predict(X_train)\n",
    "#in sample\n",
    "print(\"in-sample r-squared is\")\n",
    "print(r2_score(y_train, y_trainPred))\n",
    "print (\"RMSE is of in-sample\")\n",
    "print(RMSE(y_trainPred,y_train))\n",
    "#out of sample\n",
    "y_testPred=ridge_model.predict(X_test)\n",
    "print(\"out-of-sample r-squared is\")\n",
    "print(r2_score(y_test, y_testPred))\n",
    "print (\"RMSE is out-of-sample\")\n",
    "print(RMSE(y_testPred,y_test))"
   ]
  },
  {
   "cell_type": "code",
   "execution_count": null,
   "metadata": {},
   "outputs": [],
   "source": []
  }
 ]
}