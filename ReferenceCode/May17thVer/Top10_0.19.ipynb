{
 "metadata": {
  "language_info": {
   "codemirror_mode": {
    "name": "ipython",
    "version": 3
   },
   "file_extension": ".py",
   "mimetype": "text/x-python",
   "name": "python",
   "nbconvert_exporter": "python",
   "pygments_lexer": "ipython3",
   "version": "3.8.6"
  },
  "orig_nbformat": 2,
  "kernelspec": {
   "name": "python386jvsc74a57bd00adcc2737ebf6a4a119f135174df96668767fca1ef1112612db5ecadf2b6d608",
   "display_name": "Python 3.8.6 64-bit"
  },
  "metadata": {
   "interpreter": {
    "hash": "0adcc2737ebf6a4a119f135174df96668767fca1ef1112612db5ecadf2b6d608"
   }
  }
 },
 "nbformat": 4,
 "nbformat_minor": 2,
 "cells": [
  {
   "cell_type": "code",
   "execution_count": 1,
   "metadata": {},
   "outputs": [],
   "source": [
    "\n",
    "#importing all usefull lib\n",
    "import matplotlib.pyplot as plt\n",
    "import numpy as np\n",
    "from sklearn.preprocessing import MinMaxScaler\n",
    "from sklearn.model_selection import cross_val_score, train_test_split, KFold, cross_val_predict\n",
    "from sklearn.ensemble import RandomForestRegressor,GradientBoostingRegressor\n",
    "import pandas as pd\n",
    "import matplotlib.pyplot as plt\n",
    "import seaborn as sns\n",
    "from scipy.stats import norm\n",
    "%matplotlib inline\n",
    "from sklearn.linear_model import LinearRegression, RidgeCV, Lasso, ElasticNetCV, BayesianRidge, LassoLarsIC\n",
    "from sklearn.metrics import mean_squared_error, make_scorer \n",
    "from sklearn.kernel_ridge import KernelRidge\n",
    "from sklearn.pipeline import make_pipeline\n",
    "from sklearn.base import BaseEstimator, TransformerMixin, RegressorMixin, clone\n",
    "import math"
   ]
  },
  {
   "cell_type": "code",
   "execution_count": 2,
   "metadata": {},
   "outputs": [],
   "source": [
    "train_dataRaw = pd.read_csv(\"/Users/chixinning/Desktop/kaggle/KaggleMyOwn/ReferenceCode/RawDataSets/train.csv\")\n",
    "test = pd.read_csv(\"/Users/chixinning/Desktop/kaggle/KaggleMyOwn/ReferenceCode/RawDataSets/test.csv\")"
   ]
  },
  {
   "cell_type": "code",
   "execution_count": 3,
   "metadata": {},
   "outputs": [
    {
     "output_type": "execute_result",
     "data": {
      "text/plain": [
       "(1460,)"
      ]
     },
     "metadata": {},
     "execution_count": 3
    }
   ],
   "source": [
    "Sale_Price=train_dataRaw.iloc[:,80]\n",
    "Sale_Price.shape"
   ]
  },
  {
   "cell_type": "code",
   "execution_count": 4,
   "metadata": {},
   "outputs": [
    {
     "output_type": "execute_result",
     "data": {
      "text/plain": [
       "   Id  MSSubClass MSZoning  LotFrontage  LotArea Street Alley LotShape  \\\n",
       "0   1          60       RL         65.0     8450   Pave   NaN      Reg   \n",
       "1   2          20       RL         80.0     9600   Pave   NaN      Reg   \n",
       "2   3          60       RL         68.0    11250   Pave   NaN      IR1   \n",
       "3   4          70       RL         60.0     9550   Pave   NaN      IR1   \n",
       "4   5          60       RL         84.0    14260   Pave   NaN      IR1   \n",
       "\n",
       "  LandContour Utilities  ... ScreenPorch PoolArea PoolQC Fence MiscFeature  \\\n",
       "0         Lvl    AllPub  ...           0        0    NaN   NaN         NaN   \n",
       "1         Lvl    AllPub  ...           0        0    NaN   NaN         NaN   \n",
       "2         Lvl    AllPub  ...           0        0    NaN   NaN         NaN   \n",
       "3         Lvl    AllPub  ...           0        0    NaN   NaN         NaN   \n",
       "4         Lvl    AllPub  ...           0        0    NaN   NaN         NaN   \n",
       "\n",
       "  MiscVal MoSold  YrSold  SaleType  SaleCondition  \n",
       "0       0      2    2008        WD         Normal  \n",
       "1       0      5    2007        WD         Normal  \n",
       "2       0      9    2008        WD         Normal  \n",
       "3       0      2    2006        WD        Abnorml  \n",
       "4       0     12    2008        WD         Normal  \n",
       "\n",
       "[5 rows x 80 columns]"
      ],
      "text/html": "<div>\n<style scoped>\n    .dataframe tbody tr th:only-of-type {\n        vertical-align: middle;\n    }\n\n    .dataframe tbody tr th {\n        vertical-align: top;\n    }\n\n    .dataframe thead th {\n        text-align: right;\n    }\n</style>\n<table border=\"1\" class=\"dataframe\">\n  <thead>\n    <tr style=\"text-align: right;\">\n      <th></th>\n      <th>Id</th>\n      <th>MSSubClass</th>\n      <th>MSZoning</th>\n      <th>LotFrontage</th>\n      <th>LotArea</th>\n      <th>Street</th>\n      <th>Alley</th>\n      <th>LotShape</th>\n      <th>LandContour</th>\n      <th>Utilities</th>\n      <th>...</th>\n      <th>ScreenPorch</th>\n      <th>PoolArea</th>\n      <th>PoolQC</th>\n      <th>Fence</th>\n      <th>MiscFeature</th>\n      <th>MiscVal</th>\n      <th>MoSold</th>\n      <th>YrSold</th>\n      <th>SaleType</th>\n      <th>SaleCondition</th>\n    </tr>\n  </thead>\n  <tbody>\n    <tr>\n      <th>0</th>\n      <td>1</td>\n      <td>60</td>\n      <td>RL</td>\n      <td>65.0</td>\n      <td>8450</td>\n      <td>Pave</td>\n      <td>NaN</td>\n      <td>Reg</td>\n      <td>Lvl</td>\n      <td>AllPub</td>\n      <td>...</td>\n      <td>0</td>\n      <td>0</td>\n      <td>NaN</td>\n      <td>NaN</td>\n      <td>NaN</td>\n      <td>0</td>\n      <td>2</td>\n      <td>2008</td>\n      <td>WD</td>\n      <td>Normal</td>\n    </tr>\n    <tr>\n      <th>1</th>\n      <td>2</td>\n      <td>20</td>\n      <td>RL</td>\n      <td>80.0</td>\n      <td>9600</td>\n      <td>Pave</td>\n      <td>NaN</td>\n      <td>Reg</td>\n      <td>Lvl</td>\n      <td>AllPub</td>\n      <td>...</td>\n      <td>0</td>\n      <td>0</td>\n      <td>NaN</td>\n      <td>NaN</td>\n      <td>NaN</td>\n      <td>0</td>\n      <td>5</td>\n      <td>2007</td>\n      <td>WD</td>\n      <td>Normal</td>\n    </tr>\n    <tr>\n      <th>2</th>\n      <td>3</td>\n      <td>60</td>\n      <td>RL</td>\n      <td>68.0</td>\n      <td>11250</td>\n      <td>Pave</td>\n      <td>NaN</td>\n      <td>IR1</td>\n      <td>Lvl</td>\n      <td>AllPub</td>\n      <td>...</td>\n      <td>0</td>\n      <td>0</td>\n      <td>NaN</td>\n      <td>NaN</td>\n      <td>NaN</td>\n      <td>0</td>\n      <td>9</td>\n      <td>2008</td>\n      <td>WD</td>\n      <td>Normal</td>\n    </tr>\n    <tr>\n      <th>3</th>\n      <td>4</td>\n      <td>70</td>\n      <td>RL</td>\n      <td>60.0</td>\n      <td>9550</td>\n      <td>Pave</td>\n      <td>NaN</td>\n      <td>IR1</td>\n      <td>Lvl</td>\n      <td>AllPub</td>\n      <td>...</td>\n      <td>0</td>\n      <td>0</td>\n      <td>NaN</td>\n      <td>NaN</td>\n      <td>NaN</td>\n      <td>0</td>\n      <td>2</td>\n      <td>2006</td>\n      <td>WD</td>\n      <td>Abnorml</td>\n    </tr>\n    <tr>\n      <th>4</th>\n      <td>5</td>\n      <td>60</td>\n      <td>RL</td>\n      <td>84.0</td>\n      <td>14260</td>\n      <td>Pave</td>\n      <td>NaN</td>\n      <td>IR1</td>\n      <td>Lvl</td>\n      <td>AllPub</td>\n      <td>...</td>\n      <td>0</td>\n      <td>0</td>\n      <td>NaN</td>\n      <td>NaN</td>\n      <td>NaN</td>\n      <td>0</td>\n      <td>12</td>\n      <td>2008</td>\n      <td>WD</td>\n      <td>Normal</td>\n    </tr>\n  </tbody>\n</table>\n<p>5 rows × 80 columns</p>\n</div>"
     },
     "metadata": {},
     "execution_count": 4
    }
   ],
   "source": [
    "train=train_dataRaw.drop([\"SalePrice\"],axis=1)\n",
    "train.head()"
   ]
  },
  {
   "cell_type": "code",
   "execution_count": 5,
   "metadata": {},
   "outputs": [
    {
     "output_type": "execute_result",
     "data": {
      "text/plain": [
       "(2919, 79)"
      ]
     },
     "metadata": {},
     "execution_count": 5
    }
   ],
   "source": [
    "data= pd.concat([train,test], keys=['x', 'y'])#here X is training data and Y testing data\n",
    "data=data.drop([\"Id\"],axis=1)\n",
    "data.shape"
   ]
  },
  {
   "cell_type": "code",
   "execution_count": 6,
   "metadata": {},
   "outputs": [],
   "source": [
    "data=data.replace({\"MSSubClass\" : {20 : \"SC20\", 30 : \"SC30\", 40 : \"SC40\", 45 : \"SC45\", \n",
    "                                       50 : \"SC50\", 60 : \"SC60\", 70 : \"SC70\", 75 : \"SC75\", \n",
    "                                       80 : \"SC80\", 85 : \"SC85\", 90 : \"SC90\", 120 : \"SC120\", \n",
    "                                       150 : \"SC150\", 160 : \"SC160\", 180 : \"SC180\", 190 : \"SC190\"},\n",
    "                       \"MoSold\" : {1 : \"Jan\", 2 : \"Feb\", 3 : \"Mar\", 4 : \"Apr\", 5 : \"May\", 6 : \"Jun\",\n",
    "                                   7 : \"Jul\", 8 : \"Aug\", 9 : \"Sep\", 10 : \"Oct\", 11 : \"Nov\", 12 : \"Dec\"}\n",
    "                      })"
   ]
  },
  {
   "source": [
    "# missing_data\n",
    "\n",
    "缺失值处理"
   ],
   "cell_type": "markdown",
   "metadata": {}
  },
  {
   "cell_type": "code",
   "execution_count": 7,
   "metadata": {},
   "outputs": [],
   "source": [
    "total_null = data.isnull().sum().sort_values(ascending=False) #First sum and order all null values for each variable\n",
    "percentage = (data.isnull().sum()/data.isnull().count()).sort_values(ascending=False) #Get the percentage\n",
    "missing_data = pd.concat([total_null, percentage], axis=1, keys=['Total', 'Percentage'])"
   ]
  },
  {
   "cell_type": "code",
   "execution_count": 8,
   "metadata": {},
   "outputs": [],
   "source": [
    "data = data.drop((missing_data[missing_data[\"Percentage\"] > 0.05]).index,1)"
   ]
  },
  {
   "cell_type": "code",
   "execution_count": 9,
   "metadata": {},
   "outputs": [],
   "source": [
    "num_col=data._get_numeric_data().columns.tolist()\n",
    "cat_col=set(data.columns)-set(num_col)"
   ]
  },
  {
   "cell_type": "code",
   "execution_count": 10,
   "metadata": {},
   "outputs": [],
   "source": [
    "for col in num_col:\n",
    "    data[col].fillna(data[col].mean(),inplace=True)"
   ]
  },
  {
   "cell_type": "code",
   "execution_count": 11,
   "metadata": {},
   "outputs": [],
   "source": [
    "for col in cat_col:\n",
    "    data[col].fillna(data[col].mode()[0],inplace=True)"
   ]
  },
  {
   "source": [
    "# Feature Engineering Begins"
   ],
   "cell_type": "markdown",
   "metadata": {}
  },
  {
   "source": [
    "## 删除highly skewed Data"
   ],
   "cell_type": "markdown",
   "metadata": {}
  },
  {
   "cell_type": "code",
   "execution_count": 12,
   "metadata": {},
   "outputs": [
    {
     "output_type": "stream",
     "name": "stdout",
     "text": [
      "<bound method NDFrame.describe of count     2919\nunique       9\ntop         WD\nfreq      2526\nName: SaleType, dtype: object>\n              skewness\nSaleType           NaN\nCondition2         NaN\nBldgType           NaN\nFoundation         NaN\nPavedDrive         NaN\nRoofStyle          NaN\nFunctional         NaN\nStreet             NaN\nCondition1         NaN\nHeatingQC          NaN\nExterior2nd        NaN\nBsmtFinType1       NaN\nLandSlope          NaN\nExterior1st        NaN\nBsmtExposure       NaN\nNeighborhood       NaN\nMSZoning           NaN\nExterQual          NaN\nBsmtQual           NaN\nRoofMatl           NaN\nHouseStyle         NaN\nHeating            NaN\nCentralAir         NaN\nUtilities          NaN\nLotShape           NaN\nLandContour        NaN\nExterCond          NaN\nMasVnrType         NaN\nMSSubClass         NaN\nElectrical         NaN\nSaleCondition      NaN\nLotConfig          NaN\nBsmtCond           NaN\nMoSold             NaN\nBsmtFinType2       NaN\nKitchenQual        NaN\n"
     ]
    },
    {
     "output_type": "execute_result",
     "data": {
      "text/plain": [
       "(2919, 68)"
      ]
     },
     "metadata": {},
     "execution_count": 12
    }
   ],
   "source": [
    "#delete highly skew category data in numerical variables\n",
    "train_cat = data[cat_col]\n",
    "pct=[]\n",
    "for ix in train_cat.columns:\n",
    "    temp=train_cat[ix].describe()\n",
    "    print(temp.describe)\n",
    "    break\n",
    "    pct.append(temp[\"freq\"]/temp[\"count\"])\n",
    "skewData=pd.DataFrame(pct,index=train_cat.columns,columns=[\"skewness\"])\n",
    "skewData=skewData.sort_values(by=\"skewness\",ascending=False)\n",
    "print (skewData)\n",
    "data = data.drop((skewData[skewData['skewness'] >= 0.95]).index,1) \n",
    "data.shape"
   ]
  },
  {
   "cell_type": "code",
   "execution_count": 13,
   "metadata": {},
   "outputs": [],
   "source": [
    "train_data=data"
   ]
  },
  {
   "cell_type": "code",
   "execution_count": 14,
   "metadata": {},
   "outputs": [],
   "source": [
    "\n",
    "#2.2: some categorical features when there is information in the order\n",
    "#Alley: Type of alley access to property\n",
    "train_data=train_data.replace({\"Alley\":{\"Grvl\" : 1, \"Pave\" : 2}})\n",
    "#BsmtCond: Evaluates the general condition of the basement\n",
    "train_data=train_data.replace({\"BsmtCond\" : {\"No\" : 0, \"Po\" : 1, \"Fa\" : 2, \"TA\" : 3, \"Gd\" : 4, \"Ex\" : 5}})\n",
    "#BsmtExposure: Refers to walkout or garden level walls\n",
    "train_data=train_data.replace({\"BsmtExposure\" : {\"No\" : 0, \"Mn\" : 1, \"Av\": 2, \"Gd\" : 3}})\n",
    "#BsmtFinType1: Rating of basement finished area\n",
    "train_data=train_data.replace({\"BsmtFinType1\" : {\"No\" : 0, \"Unf\" : 1, \"LwQ\": 2, \"Rec\" : 3, \"BLQ\" : 4, \n",
    "                                         \"ALQ\" : 5, \"GLQ\" : 6}})\n",
    "#BsmtFinType2: Rating of basement finished area (if multiple types)\n",
    "train_data=train_data.replace({\"BsmtFinType2\" : {\"No\" : 0, \"Unf\" : 1, \"LwQ\": 2, \"Rec\" : 3, \"BLQ\" : 4, \n",
    "                                         \"ALQ\" : 5, \"GLQ\" : 6}})\n",
    "#BsmtQual: Evaluates the height of the basement\n",
    "train_data=train_data.replace({\"BsmtQual\" : {\"No\" : 0, \"Po\" : 1, \"Fa\" : 2, \"TA\": 3, \"Gd\" : 4, \"Ex\" : 5}})\n",
    "#ExterCond: Evaluates the present condition of the material on the exterior\n",
    "train_data=train_data.replace({\"ExterCond\" : {\"Po\" : 1, \"Fa\" : 2, \"TA\": 3, \"Gd\": 4, \"Ex\" : 5}})\n",
    "#ExterQual: Evaluates the quality of the material on the exterior \n",
    "train_data=train_data.replace({\"ExterQual\" : {\"Po\" : 1, \"Fa\" : 2, \"TA\": 3, \"Gd\": 4, \"Ex\" : 5}})\n",
    "#FireplaceQu: Fireplace quality\n",
    "train_data=train_data.replace({\"FireplaceQu\" : {\"No\" : 0, \"Po\" : 1, \"Fa\" : 2, \"TA\" : 3, \"Gd\" : 4, \"Ex\" : 5}})\n",
    "#Functional: Home functionality (Assume typical unless deductions are warranted)\n",
    "train_data=train_data.replace({\"Functional\" : {\"Sal\" : 1, \"Sev\" : 2, \"Maj2\" : 3, \"Maj1\" : 4, \"Mod\": 5, \n",
    "                                       \"Min2\" : 6, \"Min1\" : 7, \"Typ\" : 8}})\n",
    "#HeatingQC: Heating quality and condition\n",
    "train_data=train_data.replace({\"HeatingQC\" : {\"Po\" : 1, \"Fa\" : 2, \"TA\" : 3, \"Gd\" : 4, \"Ex\" : 5}})\n",
    "#KitchenQual: Kitchen quality\n",
    "train_data=train_data.replace({\"KitchenQual\" : {\"Po\" : 1, \"Fa\" : 2, \"TA\" : 3, \"Gd\" : 4, \"Ex\" : 5}})\n",
    "#LandSlope: Slope of property\n",
    "train_data=train_data.replace({\"LandSlope\" : {\"Sev\" : 1, \"Mod\" : 2, \"Gtl\" : 3}})\n",
    "#LotShape: General shape of property\n",
    "train_data=train_data.replace({\"LotShape\" : {\"IR3\" : 1, \"IR2\" : 2, \"IR1\" : 3, \"Reg\" : 4}})\n",
    "#PavedDrive: Paved driveway\n",
    "train_data=train_data.replace({\"PavedDrive\" : {\"N\" : 0, \"P\" : 1, \"Y\" : 2}})\n",
    "\n",
    "#2.3: Simplifications of existing categorical \n",
    "train_data[\"Condition1\"] = train_data.Condition1.replace({\"RRNe\" : \"Other\", \n",
    "                                                  \"RRNn\" : \"Other\",\"PosA\" : \"Other\", \n",
    "                                                   \"RRAe\" : \"Other\"\n",
    "                                                  })\n",
    "train_data[\"Electrical\"] = train_data.Electrical.replace({\"Mix\" : \"Other\", \n",
    "                                                  \"FuseP\" : \"Other\"\n",
    "                                                  })\n",
    "train_data[\"Exterior1st\"] = train_data.Exterior1st.replace({\"AsphShn\" : \"Other\", \n",
    "                                                  \"CBlock\" : \"Other\",\"ImStucc\" : \"Other\", \n",
    "                                                   \"BrkComm\" : \"Other\",\"Stone\" : \"Other\"\n",
    "                                                  })\n",
    "train_data[\"Exterior2nd\"] = train_data.Exterior2nd.replace({\"CBlock\" : \"Other\", \n",
    "                                                  \"AsphShn\" : \"Other\",\"Stone\" : \"Other\", \n",
    "                                                   \"Brk Cmn\" : \"Other\",\"ImStucc\" : \"Other\"\n",
    "                                                  })\n",
    "train_data[\"Foundation\"] = train_data.Foundation.replace({\"Wood\" : \"Other\", \n",
    "                                                  \"Stone\" : \"Other\"\n",
    "                                                  })\n",
    "# train_data[\"GarageType\"] = train_data.GarageType.replace({\"2Types\" : \"Other\", \n",
    "#                                                   \"CarPort\" : \"Other\"\n",
    "#                                                   })\n",
    "train_data[\"HouseStyle\"] = train_data.HouseStyle.replace({\"2.5Fin\" : \"Other\", \n",
    "                                                  \"2.5Unf\" : \"Other\",\n",
    "                                                  \"1.5Unf\" : \"Other\"\n",
    "                                                  })\n",
    "train_data[\"LotConfig\"] = train_data.LotConfig.replace({\"FR3\" : \"FR2\"\n",
    "                                                  })\n",
    "train_data[\"MSSubClass\"] = train_data.MSSubClass.replace({\"SC40\" : \"Other\", \n",
    "                                                  \"SC180\" : \"Other\",\n",
    "                                                  \"SC45\" : \"Other\",\n",
    "                                                  \"SC75\" : \"Other\"\n",
    "                                                  })\n",
    "train_data[\"MSZoning\"] = train_data.MSZoning.replace({\"C (all)\" : \"Other\", \n",
    "                                                  \"RH\" : \"Other\"\n",
    "                                                  })\n",
    "train_data[\"Neighborhood\"] = train_data.Neighborhood.replace({\"Blueste\" : \"Other\", \n",
    "                                                  \"NPkVill\" : \"Other\",\n",
    "                                                  \"Veenker\" : \"Other\"\n",
    "                                                  })\n",
    "train_data[\"RoofStyle\"] = train_data.RoofStyle.replace({\"Shed\" : \"Other\", \n",
    "                                                  \"Mansard\" : \"Other\",\n",
    "                                                  \"Gambrel\" : \"Other\",\n",
    "                                                  \"Flat\" : \"Other\"\n",
    "                                                  })\n",
    "train_data[\"SaleCondition\"] = train_data.SaleCondition.replace({\"AdjLand\" : \"Other\", \n",
    "                                                  \"Alloca\" : \"Other\"\n",
    "                                                  })\n",
    "train_data[\"SaleType\"] = train_data.SaleType.replace({\"Con\" : \"Other\", \n",
    "                                                  \"Oth\" : \"Other\",\n",
    "                                                  \"CWD\" : \"Other\", \"ConLI\" : \"Other\",\n",
    "                                                  \"ConLw\" : \"Other\",\"ConLD\" : \"Other\"\n",
    "                                                  })\n",
    "\n",
    "#2.4 Combinations of existing features\n",
    "# Overall quality of the house\n",
    "train_data[\"OverallGrade\"] = train_data[\"OverallQual\"] * train_data[\"OverallCond\"]\n",
    "# Overall quality of the exterior\n",
    "train_data[\"ExterGrade\"] = train_data[\"ExterQual\"] * train_data[\"ExterCond\"]\n",
    "# Overall kitchen score\n",
    "train_data[\"KitchenScore\"] = train_data[\"KitchenAbvGr\"] * train_data[\"KitchenQual\"]\n",
    "# Total number of bathrooms\n",
    "train_data[\"TotalBath\"] = train_data[\"BsmtFullBath\"] + (0.5 * train_data[\"BsmtHalfBath\"]) + \\\n",
    "train_data[\"FullBath\"] + (0.5 * train_data[\"HalfBath\"])\n",
    "train_data.drop([\"BsmtFullBath\",\"BsmtHalfBath\",\"FullBath\",\"HalfBath\"],axis=1)\n",
    "# Total SF for house (incl. basement)\n",
    "train_data[\"AllSF\"] = train_data[\"GrLivArea\"] + train_data[\"TotalBsmtSF\"]\n",
    "train_data.drop([\"GrLivArea\",\"TotalBsmtSF\"],axis=1)\n",
    "# Total SF for 1st + 2nd floors\n",
    "train_data[\"AllFlrsSF\"] = train_data[\"1stFlrSF\"] + train_data[\"2ndFlrSF\"]\n",
    "train_data.drop([\"1stFlrSF\",\"2ndFlrSF\"],axis=1)\n",
    "# Total SF for porch\n",
    "train_data[\"AllPorchSF\"] = train_data[\"OpenPorchSF\"] + train_data[\"EnclosedPorch\"] + \\\n",
    "train_data[\"3SsnPorch\"] + train_data[\"ScreenPorch\"]\n",
    "train_data.drop([\"OpenPorchSF\",\"EnclosedPorch\",\"3SsnPorch\",\"ScreenPorch\"],axis=1)\n",
    "# House completed before sale or not\n",
    "train_data[\"BoughtOffPlan\"] = train_data.SaleCondition.replace({\"Abnorml\" : 0, \"Alloca\" : 0, \"AdjLand\" : 0, \n",
    "                                                      \"Family\" : 0, \"Normal\" : 0, \"Partial\" : 1})"
   ]
  },
  {
   "cell_type": "code",
   "execution_count": 15,
   "metadata": {},
   "outputs": [],
   "source": [
    "# train_data[\"OverallQual-s2\"] = train_data[\"OverallQual\"] ** 2\n",
    "# train_data[\"AllSF-2\"] = train_data[\"AllSF\"] ** 2\n",
    "# train_data[\"AllFlrsSF-2\"] = train_data[\"AllFlrsSF\"] ** 2\n",
    "# train_data[\"GrLivArea-2\"] = train_data[\"GrLivArea\"] ** 2\n",
    "# # train_data[\"SimplOverallQual-s2\"] = train_data[\"SimplOverallQual\"] ** 2\n",
    "# train_data[\"ExterQual-2\"] = train_data[\"ExterQual\"] ** 2\n",
    "# train_data[\"GarageCars-2\"] = train_data[\"GarageCars\"] ** 2\n",
    "# train_data[\"TotalBath-2\"] = train_data[\"TotalBath\"] ** 2\n",
    "# train_data[\"KitchenQual-2\"] = train_data[\"KitchenQual\"] ** 2"
   ]
  },
  {
   "cell_type": "code",
   "execution_count": 16,
   "metadata": {},
   "outputs": [],
   "source": [
    "# bjadsfk="
   ]
  },
  {
   "source": [
    "## droping some unnecessary cat_features bcoz they have 80% + same value and 20% - defertnt values so they can't effect score【存疑】"
   ],
   "cell_type": "markdown",
   "metadata": {}
  },
  {
   "cell_type": "code",
   "execution_count": 17,
   "metadata": {},
   "outputs": [],
   "source": [
    "data=train_data"
   ]
  },
  {
   "cell_type": "code",
   "execution_count": 18,
   "metadata": {},
   "outputs": [],
   "source": [
    "\n",
    "df=data.drop([\"RoofMatl\",\"Heating\",\"Condition2\",\"BsmtCond\",\"SaleType\",\n",
    "                \"CentralAir\",\"Functional\",\"Electrical\",\"LandSlope\",\"ExterCond\",\"Condition1\",\n",
    "               \"GarageArea\",\"BsmtUnfSF\",\"3SsnPorch\",\"MiscVal\"],axis=1)\n",
    "# new   \n"
   ]
  },
  {
   "cell_type": "code",
   "execution_count": 19,
   "metadata": {},
   "outputs": [],
   "source": [
    "corrmat = train_dataRaw.corr()\n",
    "top_corr_features = corrmat.index[abs(corrmat[\"SalePrice\"])>0.5]"
   ]
  },
  {
   "cell_type": "code",
   "execution_count": 20,
   "metadata": {},
   "outputs": [],
   "source": [
    "df=df.drop([\"BldgType\",\"Exterior1st\",\"Exterior2nd\",\"Foundation\",\"BsmtFinType2\",\"YrSold\",\"SaleCondition\",\"RoofStyle\"],axis=1)"
   ]
  },
  {
   "cell_type": "code",
   "execution_count": 21,
   "metadata": {},
   "outputs": [
    {
     "output_type": "execute_result",
     "data": {
      "text/plain": [
       "(2919, 53)"
      ]
     },
     "metadata": {},
     "execution_count": 21
    }
   ],
   "source": [
    "df.shape"
   ]
  },
  {
   "source": [
    "# END OF FEATURE ENGINEERING"
   ],
   "cell_type": "markdown",
   "metadata": {}
  },
  {
   "cell_type": "code",
   "execution_count": 22,
   "metadata": {},
   "outputs": [
    {
     "output_type": "execute_result",
     "data": {
      "text/plain": [
       "(2919, 119)"
      ]
     },
     "metadata": {},
     "execution_count": 22
    }
   ],
   "source": [
    "X=pd.get_dummies(df)\n",
    "X.shape"
   ]
  },
  {
   "cell_type": "code",
   "execution_count": 23,
   "metadata": {},
   "outputs": [],
   "source": [
    "scalerX = MinMaxScaler(feature_range=(0, 1))\n",
    "X[X.columns] = scalerX.fit_transform(X[X.columns])"
   ]
  },
  {
   "cell_type": "code",
   "execution_count": 24,
   "metadata": {},
   "outputs": [
    {
     "output_type": "execute_result",
     "data": {
      "text/plain": [
       "(1460, 119)"
      ]
     },
     "metadata": {},
     "execution_count": 24
    }
   ],
   "source": [
    "#Training data after preproscing\n",
    "\n",
    "Train_data=X.loc[\"x\"]\n",
    "Train_data.shape"
   ]
  },
  {
   "cell_type": "code",
   "execution_count": 25,
   "metadata": {},
   "outputs": [
    {
     "output_type": "execute_result",
     "data": {
      "text/plain": [
       "(1459, 119)"
      ]
     },
     "metadata": {},
     "execution_count": 25
    }
   ],
   "source": [
    "#Testing data after preproscing\n",
    "Test_data=X.loc[\"y\"]\n",
    "Test_data.shape"
   ]
  },
  {
   "cell_type": "code",
   "execution_count": 26,
   "metadata": {},
   "outputs": [
    {
     "output_type": "execute_result",
     "data": {
      "text/plain": [
       "    LotArea  LotShape  SalePrice  OverallQual  OverallCond  YearBuilt  \\\n",
       "0  0.033420  1.000000     208500     0.666667        0.500   0.949275   \n",
       "1  0.038795  1.000000     181500     0.555556        0.875   0.753623   \n",
       "2  0.046507  0.666667     223500     0.666667        0.500   0.934783   \n",
       "3  0.038561  0.666667     140000     0.666667        0.500   0.311594   \n",
       "4  0.060576  0.666667     250000     0.777778        0.500   0.927536   \n",
       "\n",
       "   YearRemodAdd  MasVnrArea  ExterQual  BsmtQual  ...  MoSold_Jul  MoSold_Jun  \\\n",
       "0      0.883333     0.12250   0.666667  0.666667  ...         0.0         0.0   \n",
       "1      0.433333     0.00000   0.333333  0.666667  ...         0.0         0.0   \n",
       "2      0.866667     0.10125   0.666667  0.666667  ...         0.0         0.0   \n",
       "3      0.333333     0.00000   0.333333  0.333333  ...         0.0         0.0   \n",
       "4      0.833333     0.21875   0.666667  0.666667  ...         0.0         0.0   \n",
       "\n",
       "   MoSold_Mar  MoSold_May  MoSold_Nov  MoSold_Oct  MoSold_Sep  \\\n",
       "0         0.0         0.0         0.0         0.0         0.0   \n",
       "1         0.0         1.0         0.0         0.0         0.0   \n",
       "2         0.0         0.0         0.0         0.0         1.0   \n",
       "3         0.0         0.0         0.0         0.0         0.0   \n",
       "4         0.0         0.0         0.0         0.0         0.0   \n",
       "\n",
       "   BoughtOffPlan_0  BoughtOffPlan_1  BoughtOffPlan_Other  \n",
       "0              1.0              0.0                  0.0  \n",
       "1              1.0              0.0                  0.0  \n",
       "2              1.0              0.0                  0.0  \n",
       "3              1.0              0.0                  0.0  \n",
       "4              1.0              0.0                  0.0  \n",
       "\n",
       "[5 rows x 120 columns]"
      ],
      "text/html": "<div>\n<style scoped>\n    .dataframe tbody tr th:only-of-type {\n        vertical-align: middle;\n    }\n\n    .dataframe tbody tr th {\n        vertical-align: top;\n    }\n\n    .dataframe thead th {\n        text-align: right;\n    }\n</style>\n<table border=\"1\" class=\"dataframe\">\n  <thead>\n    <tr style=\"text-align: right;\">\n      <th></th>\n      <th>LotArea</th>\n      <th>LotShape</th>\n      <th>SalePrice</th>\n      <th>OverallQual</th>\n      <th>OverallCond</th>\n      <th>YearBuilt</th>\n      <th>YearRemodAdd</th>\n      <th>MasVnrArea</th>\n      <th>ExterQual</th>\n      <th>BsmtQual</th>\n      <th>...</th>\n      <th>MoSold_Jul</th>\n      <th>MoSold_Jun</th>\n      <th>MoSold_Mar</th>\n      <th>MoSold_May</th>\n      <th>MoSold_Nov</th>\n      <th>MoSold_Oct</th>\n      <th>MoSold_Sep</th>\n      <th>BoughtOffPlan_0</th>\n      <th>BoughtOffPlan_1</th>\n      <th>BoughtOffPlan_Other</th>\n    </tr>\n  </thead>\n  <tbody>\n    <tr>\n      <th>0</th>\n      <td>0.033420</td>\n      <td>1.000000</td>\n      <td>208500</td>\n      <td>0.666667</td>\n      <td>0.500</td>\n      <td>0.949275</td>\n      <td>0.883333</td>\n      <td>0.12250</td>\n      <td>0.666667</td>\n      <td>0.666667</td>\n      <td>...</td>\n      <td>0.0</td>\n      <td>0.0</td>\n      <td>0.0</td>\n      <td>0.0</td>\n      <td>0.0</td>\n      <td>0.0</td>\n      <td>0.0</td>\n      <td>1.0</td>\n      <td>0.0</td>\n      <td>0.0</td>\n    </tr>\n    <tr>\n      <th>1</th>\n      <td>0.038795</td>\n      <td>1.000000</td>\n      <td>181500</td>\n      <td>0.555556</td>\n      <td>0.875</td>\n      <td>0.753623</td>\n      <td>0.433333</td>\n      <td>0.00000</td>\n      <td>0.333333</td>\n      <td>0.666667</td>\n      <td>...</td>\n      <td>0.0</td>\n      <td>0.0</td>\n      <td>0.0</td>\n      <td>1.0</td>\n      <td>0.0</td>\n      <td>0.0</td>\n      <td>0.0</td>\n      <td>1.0</td>\n      <td>0.0</td>\n      <td>0.0</td>\n    </tr>\n    <tr>\n      <th>2</th>\n      <td>0.046507</td>\n      <td>0.666667</td>\n      <td>223500</td>\n      <td>0.666667</td>\n      <td>0.500</td>\n      <td>0.934783</td>\n      <td>0.866667</td>\n      <td>0.10125</td>\n      <td>0.666667</td>\n      <td>0.666667</td>\n      <td>...</td>\n      <td>0.0</td>\n      <td>0.0</td>\n      <td>0.0</td>\n      <td>0.0</td>\n      <td>0.0</td>\n      <td>0.0</td>\n      <td>1.0</td>\n      <td>1.0</td>\n      <td>0.0</td>\n      <td>0.0</td>\n    </tr>\n    <tr>\n      <th>3</th>\n      <td>0.038561</td>\n      <td>0.666667</td>\n      <td>140000</td>\n      <td>0.666667</td>\n      <td>0.500</td>\n      <td>0.311594</td>\n      <td>0.333333</td>\n      <td>0.00000</td>\n      <td>0.333333</td>\n      <td>0.333333</td>\n      <td>...</td>\n      <td>0.0</td>\n      <td>0.0</td>\n      <td>0.0</td>\n      <td>0.0</td>\n      <td>0.0</td>\n      <td>0.0</td>\n      <td>0.0</td>\n      <td>1.0</td>\n      <td>0.0</td>\n      <td>0.0</td>\n    </tr>\n    <tr>\n      <th>4</th>\n      <td>0.060576</td>\n      <td>0.666667</td>\n      <td>250000</td>\n      <td>0.777778</td>\n      <td>0.500</td>\n      <td>0.927536</td>\n      <td>0.833333</td>\n      <td>0.21875</td>\n      <td>0.666667</td>\n      <td>0.666667</td>\n      <td>...</td>\n      <td>0.0</td>\n      <td>0.0</td>\n      <td>0.0</td>\n      <td>0.0</td>\n      <td>0.0</td>\n      <td>0.0</td>\n      <td>0.0</td>\n      <td>1.0</td>\n      <td>0.0</td>\n      <td>0.0</td>\n    </tr>\n  </tbody>\n</table>\n<p>5 rows × 120 columns</p>\n</div>"
     },
     "metadata": {},
     "execution_count": 26
    }
   ],
   "source": [
    "#here we add salePrice column in traning data\n",
    "\n",
    "Train_data.insert(2,column=\"SalePrice\",value=Sale_Price)\n",
    "Train_data.head()"
   ]
  },
  {
   "cell_type": "code",
   "execution_count": 27,
   "metadata": {},
   "outputs": [],
   "source": [
    "x=Train_data.drop([\"SalePrice\"],axis=True)\n",
    "y=Train_data[\"SalePrice\"]"
   ]
  },
  {
   "cell_type": "code",
   "execution_count": 28,
   "metadata": {},
   "outputs": [],
   "source": [
    "from sklearn.model_selection import train_test_split\n",
    "x_train,x_test,y_train,y_test=train_test_split(x,y,test_size=.30,random_state=40)"
   ]
  },
  {
   "cell_type": "code",
   "execution_count": 29,
   "metadata": {},
   "outputs": [
    {
     "output_type": "stream",
     "name": "stdout",
     "text": [
      "0.8836571851763504\n"
     ]
    }
   ],
   "source": [
    "from sklearn.ensemble import RandomForestRegressor\n",
    "rfr=RandomForestRegressor(n_estimators = 50,random_state=40,\n",
    "                          min_impurity_decrease=0.002,min_weight_fraction_leaf=0.001,min_samples_split=5)\n",
    "rfr.fit(x_train,y_train)\n",
    "y_predictrfc = rfr.predict(x_test)\n",
    "\n",
    "#here we can check our model score\n",
    "print(rfr.score(x_test,y_test))"
   ]
  },
  {
   "cell_type": "code",
   "execution_count": 30,
   "metadata": {},
   "outputs": [
    {
     "output_type": "stream",
     "name": "stdout",
     "text": [
      "mear squares error : 24612.11305682439\n"
     ]
    }
   ],
   "source": [
    "rmse = math.sqrt(mean_squared_error(y_test, rfr.predict(x_test)))\n",
    "\n",
    "print(\"mear squares error :\",rmse)"
   ]
  },
  {
   "cell_type": "code",
   "execution_count": 31,
   "metadata": {},
   "outputs": [
    {
     "output_type": "stream",
     "name": "stdout",
     "text": [
      "0.6483165194454803\n"
     ]
    }
   ],
   "source": [
    "from sklearn.tree import DecisionTreeRegressor\n",
    "dtr=DecisionTreeRegressor(random_state=140,min_samples_split=5,min_impurity_decrease=0.002,min_weight_fraction_leaf=0.001)\n",
    "dtr.fit(x_train,y_train)\n",
    "\n",
    "#u can also use GridSearchCV / random Searchcv for hyperperameter tuning\n",
    "print(dtr.score(x_test,y_test))\n"
   ]
  },
  {
   "cell_type": "code",
   "execution_count": 32,
   "metadata": {},
   "outputs": [
    {
     "output_type": "stream",
     "name": "stdout",
     "text": [
      "RMSE: 42791.26273260494\n"
     ]
    }
   ],
   "source": [
    "rmse = math.sqrt(mean_squared_error(y_test, dtr.predict(x_test)))\n",
    "print(\"RMSE:\",rmse)"
   ]
  },
  {
   "cell_type": "code",
   "execution_count": 33,
   "metadata": {},
   "outputs": [
    {
     "output_type": "stream",
     "name": "stdout",
     "text": [
      "RMSE: 42791.2627\n"
     ]
    }
   ],
   "source": [
    "GBoost = GradientBoostingRegressor(n_estimators=5000, learning_rate=0.05,\n",
    "                                   max_depth=4, max_features='sqrt',\n",
    "                                   min_samples_leaf=15, min_samples_split=10, \n",
    "                                   loss='huber', random_state =5)\n",
    "#RMSE estimated through the partition of the train set\n",
    "GBoost.fit(x_train, y_train)\n",
    "\n",
    "print(\"RMSE: %.4f\" % rmse)"
   ]
  },
  {
   "cell_type": "code",
   "execution_count": 34,
   "metadata": {},
   "outputs": [
    {
     "output_type": "stream",
     "name": "stdout",
     "text": [
      "0.9170522779492055\n"
     ]
    }
   ],
   "source": [
    "print(GBoost.score(x_test,y_test))"
   ]
  },
  {
   "cell_type": "code",
   "execution_count": 35,
   "metadata": {},
   "outputs": [
    {
     "output_type": "execute_result",
     "data": {
      "text/plain": [
       "    LotArea  LotShape  OverallQual  OverallCond  YearBuilt  YearRemodAdd  \\\n",
       "0  0.048246  1.000000     0.444444        0.625   0.644928      0.183333   \n",
       "1  0.060609  0.666667     0.555556        0.625   0.623188      0.133333   \n",
       "2  0.058566  0.666667     0.444444        0.500   0.905797      0.800000   \n",
       "3  0.040562  0.666667     0.555556        0.625   0.913043      0.800000   \n",
       "4  0.017318  0.666667     0.777778        0.500   0.869565      0.700000   \n",
       "\n",
       "   MasVnrArea  ExterQual  BsmtQual  BsmtExposure  ...  MoSold_Jul  MoSold_Jun  \\\n",
       "0      0.0000   0.333333  0.333333           0.0  ...         0.0         1.0   \n",
       "1      0.0675   0.333333  0.333333           0.0  ...         0.0         1.0   \n",
       "2      0.0000   0.333333  0.666667           0.0  ...         0.0         0.0   \n",
       "3      0.0125   0.333333  0.333333           0.0  ...         0.0         1.0   \n",
       "4      0.0000   0.666667  0.666667           0.0  ...         0.0         0.0   \n",
       "\n",
       "   MoSold_Mar  MoSold_May  MoSold_Nov  MoSold_Oct  MoSold_Sep  \\\n",
       "0         0.0         0.0         0.0         0.0         0.0   \n",
       "1         0.0         0.0         0.0         0.0         0.0   \n",
       "2         1.0         0.0         0.0         0.0         0.0   \n",
       "3         0.0         0.0         0.0         0.0         0.0   \n",
       "4         0.0         0.0         0.0         0.0         0.0   \n",
       "\n",
       "   BoughtOffPlan_0  BoughtOffPlan_1  BoughtOffPlan_Other  \n",
       "0              1.0              0.0                  0.0  \n",
       "1              1.0              0.0                  0.0  \n",
       "2              1.0              0.0                  0.0  \n",
       "3              1.0              0.0                  0.0  \n",
       "4              1.0              0.0                  0.0  \n",
       "\n",
       "[5 rows x 119 columns]"
      ],
      "text/html": "<div>\n<style scoped>\n    .dataframe tbody tr th:only-of-type {\n        vertical-align: middle;\n    }\n\n    .dataframe tbody tr th {\n        vertical-align: top;\n    }\n\n    .dataframe thead th {\n        text-align: right;\n    }\n</style>\n<table border=\"1\" class=\"dataframe\">\n  <thead>\n    <tr style=\"text-align: right;\">\n      <th></th>\n      <th>LotArea</th>\n      <th>LotShape</th>\n      <th>OverallQual</th>\n      <th>OverallCond</th>\n      <th>YearBuilt</th>\n      <th>YearRemodAdd</th>\n      <th>MasVnrArea</th>\n      <th>ExterQual</th>\n      <th>BsmtQual</th>\n      <th>BsmtExposure</th>\n      <th>...</th>\n      <th>MoSold_Jul</th>\n      <th>MoSold_Jun</th>\n      <th>MoSold_Mar</th>\n      <th>MoSold_May</th>\n      <th>MoSold_Nov</th>\n      <th>MoSold_Oct</th>\n      <th>MoSold_Sep</th>\n      <th>BoughtOffPlan_0</th>\n      <th>BoughtOffPlan_1</th>\n      <th>BoughtOffPlan_Other</th>\n    </tr>\n  </thead>\n  <tbody>\n    <tr>\n      <th>0</th>\n      <td>0.048246</td>\n      <td>1.000000</td>\n      <td>0.444444</td>\n      <td>0.625</td>\n      <td>0.644928</td>\n      <td>0.183333</td>\n      <td>0.0000</td>\n      <td>0.333333</td>\n      <td>0.333333</td>\n      <td>0.0</td>\n      <td>...</td>\n      <td>0.0</td>\n      <td>1.0</td>\n      <td>0.0</td>\n      <td>0.0</td>\n      <td>0.0</td>\n      <td>0.0</td>\n      <td>0.0</td>\n      <td>1.0</td>\n      <td>0.0</td>\n      <td>0.0</td>\n    </tr>\n    <tr>\n      <th>1</th>\n      <td>0.060609</td>\n      <td>0.666667</td>\n      <td>0.555556</td>\n      <td>0.625</td>\n      <td>0.623188</td>\n      <td>0.133333</td>\n      <td>0.0675</td>\n      <td>0.333333</td>\n      <td>0.333333</td>\n      <td>0.0</td>\n      <td>...</td>\n      <td>0.0</td>\n      <td>1.0</td>\n      <td>0.0</td>\n      <td>0.0</td>\n      <td>0.0</td>\n      <td>0.0</td>\n      <td>0.0</td>\n      <td>1.0</td>\n      <td>0.0</td>\n      <td>0.0</td>\n    </tr>\n    <tr>\n      <th>2</th>\n      <td>0.058566</td>\n      <td>0.666667</td>\n      <td>0.444444</td>\n      <td>0.500</td>\n      <td>0.905797</td>\n      <td>0.800000</td>\n      <td>0.0000</td>\n      <td>0.333333</td>\n      <td>0.666667</td>\n      <td>0.0</td>\n      <td>...</td>\n      <td>0.0</td>\n      <td>0.0</td>\n      <td>1.0</td>\n      <td>0.0</td>\n      <td>0.0</td>\n      <td>0.0</td>\n      <td>0.0</td>\n      <td>1.0</td>\n      <td>0.0</td>\n      <td>0.0</td>\n    </tr>\n    <tr>\n      <th>3</th>\n      <td>0.040562</td>\n      <td>0.666667</td>\n      <td>0.555556</td>\n      <td>0.625</td>\n      <td>0.913043</td>\n      <td>0.800000</td>\n      <td>0.0125</td>\n      <td>0.333333</td>\n      <td>0.333333</td>\n      <td>0.0</td>\n      <td>...</td>\n      <td>0.0</td>\n      <td>1.0</td>\n      <td>0.0</td>\n      <td>0.0</td>\n      <td>0.0</td>\n      <td>0.0</td>\n      <td>0.0</td>\n      <td>1.0</td>\n      <td>0.0</td>\n      <td>0.0</td>\n    </tr>\n    <tr>\n      <th>4</th>\n      <td>0.017318</td>\n      <td>0.666667</td>\n      <td>0.777778</td>\n      <td>0.500</td>\n      <td>0.869565</td>\n      <td>0.700000</td>\n      <td>0.0000</td>\n      <td>0.666667</td>\n      <td>0.666667</td>\n      <td>0.0</td>\n      <td>...</td>\n      <td>0.0</td>\n      <td>0.0</td>\n      <td>0.0</td>\n      <td>0.0</td>\n      <td>0.0</td>\n      <td>0.0</td>\n      <td>0.0</td>\n      <td>1.0</td>\n      <td>0.0</td>\n      <td>0.0</td>\n    </tr>\n  </tbody>\n</table>\n<p>5 rows × 119 columns</p>\n</div>"
     },
     "metadata": {},
     "execution_count": 35
    }
   ],
   "source": [
    "#here we see test data here one column is missing that is Saleprice bcoz that is need to predict\n",
    "Test_data.head()"
   ]
  },
  {
   "cell_type": "code",
   "execution_count": 36,
   "metadata": {},
   "outputs": [
    {
     "output_type": "execute_result",
     "data": {
      "text/plain": [
       "(1459, 119)"
      ]
     },
     "metadata": {},
     "execution_count": 36
    }
   ],
   "source": [
    "Test_data.shape"
   ]
  },
  {
   "cell_type": "code",
   "execution_count": 37,
   "metadata": {},
   "outputs": [],
   "source": [
    "y_model_prerfc = GBoost.predict(Test_data)\n",
    "# y_model_prerfc=dtr.predict(Test_data)"
   ]
  },
  {
   "cell_type": "code",
   "execution_count": 38,
   "metadata": {},
   "outputs": [],
   "source": [
    "y_model_prerfc=np.around(y_model_prerfc,0)"
   ]
  },
  {
   "cell_type": "code",
   "execution_count": 39,
   "metadata": {},
   "outputs": [
    {
     "output_type": "execute_result",
     "data": {
      "text/plain": [
       "     Id  MSSubClass MSZoning  LotFrontage  LotArea Street Alley LotShape  \\\n",
       "0  1461          20       RH         80.0    11622   Pave   NaN      Reg   \n",
       "1  1462          20       RL         81.0    14267   Pave   NaN      IR1   \n",
       "2  1463          60       RL         74.0    13830   Pave   NaN      IR1   \n",
       "3  1464          60       RL         78.0     9978   Pave   NaN      IR1   \n",
       "4  1465         120       RL         43.0     5005   Pave   NaN      IR1   \n",
       "\n",
       "  LandContour Utilities  ... ScreenPorch PoolArea PoolQC  Fence MiscFeature  \\\n",
       "0         Lvl    AllPub  ...         120        0    NaN  MnPrv         NaN   \n",
       "1         Lvl    AllPub  ...           0        0    NaN    NaN        Gar2   \n",
       "2         Lvl    AllPub  ...           0        0    NaN  MnPrv         NaN   \n",
       "3         Lvl    AllPub  ...           0        0    NaN    NaN         NaN   \n",
       "4         HLS    AllPub  ...         144        0    NaN    NaN         NaN   \n",
       "\n",
       "  MiscVal MoSold  YrSold  SaleType  SaleCondition  \n",
       "0       0      6    2010        WD         Normal  \n",
       "1   12500      6    2010        WD         Normal  \n",
       "2       0      3    2010        WD         Normal  \n",
       "3       0      6    2010        WD         Normal  \n",
       "4       0      1    2010        WD         Normal  \n",
       "\n",
       "[5 rows x 80 columns]"
      ],
      "text/html": "<div>\n<style scoped>\n    .dataframe tbody tr th:only-of-type {\n        vertical-align: middle;\n    }\n\n    .dataframe tbody tr th {\n        vertical-align: top;\n    }\n\n    .dataframe thead th {\n        text-align: right;\n    }\n</style>\n<table border=\"1\" class=\"dataframe\">\n  <thead>\n    <tr style=\"text-align: right;\">\n      <th></th>\n      <th>Id</th>\n      <th>MSSubClass</th>\n      <th>MSZoning</th>\n      <th>LotFrontage</th>\n      <th>LotArea</th>\n      <th>Street</th>\n      <th>Alley</th>\n      <th>LotShape</th>\n      <th>LandContour</th>\n      <th>Utilities</th>\n      <th>...</th>\n      <th>ScreenPorch</th>\n      <th>PoolArea</th>\n      <th>PoolQC</th>\n      <th>Fence</th>\n      <th>MiscFeature</th>\n      <th>MiscVal</th>\n      <th>MoSold</th>\n      <th>YrSold</th>\n      <th>SaleType</th>\n      <th>SaleCondition</th>\n    </tr>\n  </thead>\n  <tbody>\n    <tr>\n      <th>0</th>\n      <td>1461</td>\n      <td>20</td>\n      <td>RH</td>\n      <td>80.0</td>\n      <td>11622</td>\n      <td>Pave</td>\n      <td>NaN</td>\n      <td>Reg</td>\n      <td>Lvl</td>\n      <td>AllPub</td>\n      <td>...</td>\n      <td>120</td>\n      <td>0</td>\n      <td>NaN</td>\n      <td>MnPrv</td>\n      <td>NaN</td>\n      <td>0</td>\n      <td>6</td>\n      <td>2010</td>\n      <td>WD</td>\n      <td>Normal</td>\n    </tr>\n    <tr>\n      <th>1</th>\n      <td>1462</td>\n      <td>20</td>\n      <td>RL</td>\n      <td>81.0</td>\n      <td>14267</td>\n      <td>Pave</td>\n      <td>NaN</td>\n      <td>IR1</td>\n      <td>Lvl</td>\n      <td>AllPub</td>\n      <td>...</td>\n      <td>0</td>\n      <td>0</td>\n      <td>NaN</td>\n      <td>NaN</td>\n      <td>Gar2</td>\n      <td>12500</td>\n      <td>6</td>\n      <td>2010</td>\n      <td>WD</td>\n      <td>Normal</td>\n    </tr>\n    <tr>\n      <th>2</th>\n      <td>1463</td>\n      <td>60</td>\n      <td>RL</td>\n      <td>74.0</td>\n      <td>13830</td>\n      <td>Pave</td>\n      <td>NaN</td>\n      <td>IR1</td>\n      <td>Lvl</td>\n      <td>AllPub</td>\n      <td>...</td>\n      <td>0</td>\n      <td>0</td>\n      <td>NaN</td>\n      <td>MnPrv</td>\n      <td>NaN</td>\n      <td>0</td>\n      <td>3</td>\n      <td>2010</td>\n      <td>WD</td>\n      <td>Normal</td>\n    </tr>\n    <tr>\n      <th>3</th>\n      <td>1464</td>\n      <td>60</td>\n      <td>RL</td>\n      <td>78.0</td>\n      <td>9978</td>\n      <td>Pave</td>\n      <td>NaN</td>\n      <td>IR1</td>\n      <td>Lvl</td>\n      <td>AllPub</td>\n      <td>...</td>\n      <td>0</td>\n      <td>0</td>\n      <td>NaN</td>\n      <td>NaN</td>\n      <td>NaN</td>\n      <td>0</td>\n      <td>6</td>\n      <td>2010</td>\n      <td>WD</td>\n      <td>Normal</td>\n    </tr>\n    <tr>\n      <th>4</th>\n      <td>1465</td>\n      <td>120</td>\n      <td>RL</td>\n      <td>43.0</td>\n      <td>5005</td>\n      <td>Pave</td>\n      <td>NaN</td>\n      <td>IR1</td>\n      <td>HLS</td>\n      <td>AllPub</td>\n      <td>...</td>\n      <td>144</td>\n      <td>0</td>\n      <td>NaN</td>\n      <td>NaN</td>\n      <td>NaN</td>\n      <td>0</td>\n      <td>1</td>\n      <td>2010</td>\n      <td>WD</td>\n      <td>Normal</td>\n    </tr>\n  </tbody>\n</table>\n<p>5 rows × 80 columns</p>\n</div>"
     },
     "metadata": {},
     "execution_count": 39
    }
   ],
   "source": [
    "prediction=np.array(y_model_prerfc).tolist()\n",
    "test.head()"
   ]
  },
  {
   "cell_type": "code",
   "execution_count": 40,
   "metadata": {},
   "outputs": [
    {
     "output_type": "execute_result",
     "data": {
      "text/plain": [
       "     Id  SalePrice  MSSubClass MSZoning  LotFrontage  LotArea Street Alley  \\\n",
       "0  1461   114764.0          20       RH         80.0    11622   Pave   NaN   \n",
       "1  1462   164287.0          20       RL         81.0    14267   Pave   NaN   \n",
       "2  1463   180058.0          60       RL         74.0    13830   Pave   NaN   \n",
       "3  1464   199624.0          60       RL         78.0     9978   Pave   NaN   \n",
       "4  1465   181867.0         120       RL         43.0     5005   Pave   NaN   \n",
       "\n",
       "  LotShape LandContour  ... ScreenPorch PoolArea PoolQC  Fence MiscFeature  \\\n",
       "0      Reg         Lvl  ...         120        0    NaN  MnPrv         NaN   \n",
       "1      IR1         Lvl  ...           0        0    NaN    NaN        Gar2   \n",
       "2      IR1         Lvl  ...           0        0    NaN  MnPrv         NaN   \n",
       "3      IR1         Lvl  ...           0        0    NaN    NaN         NaN   \n",
       "4      IR1         HLS  ...         144        0    NaN    NaN         NaN   \n",
       "\n",
       "  MiscVal MoSold YrSold  SaleType  SaleCondition  \n",
       "0       0      6   2010        WD         Normal  \n",
       "1   12500      6   2010        WD         Normal  \n",
       "2       0      3   2010        WD         Normal  \n",
       "3       0      6   2010        WD         Normal  \n",
       "4       0      1   2010        WD         Normal  \n",
       "\n",
       "[5 rows x 81 columns]"
      ],
      "text/html": "<div>\n<style scoped>\n    .dataframe tbody tr th:only-of-type {\n        vertical-align: middle;\n    }\n\n    .dataframe tbody tr th {\n        vertical-align: top;\n    }\n\n    .dataframe thead th {\n        text-align: right;\n    }\n</style>\n<table border=\"1\" class=\"dataframe\">\n  <thead>\n    <tr style=\"text-align: right;\">\n      <th></th>\n      <th>Id</th>\n      <th>SalePrice</th>\n      <th>MSSubClass</th>\n      <th>MSZoning</th>\n      <th>LotFrontage</th>\n      <th>LotArea</th>\n      <th>Street</th>\n      <th>Alley</th>\n      <th>LotShape</th>\n      <th>LandContour</th>\n      <th>...</th>\n      <th>ScreenPorch</th>\n      <th>PoolArea</th>\n      <th>PoolQC</th>\n      <th>Fence</th>\n      <th>MiscFeature</th>\n      <th>MiscVal</th>\n      <th>MoSold</th>\n      <th>YrSold</th>\n      <th>SaleType</th>\n      <th>SaleCondition</th>\n    </tr>\n  </thead>\n  <tbody>\n    <tr>\n      <th>0</th>\n      <td>1461</td>\n      <td>114764.0</td>\n      <td>20</td>\n      <td>RH</td>\n      <td>80.0</td>\n      <td>11622</td>\n      <td>Pave</td>\n      <td>NaN</td>\n      <td>Reg</td>\n      <td>Lvl</td>\n      <td>...</td>\n      <td>120</td>\n      <td>0</td>\n      <td>NaN</td>\n      <td>MnPrv</td>\n      <td>NaN</td>\n      <td>0</td>\n      <td>6</td>\n      <td>2010</td>\n      <td>WD</td>\n      <td>Normal</td>\n    </tr>\n    <tr>\n      <th>1</th>\n      <td>1462</td>\n      <td>164287.0</td>\n      <td>20</td>\n      <td>RL</td>\n      <td>81.0</td>\n      <td>14267</td>\n      <td>Pave</td>\n      <td>NaN</td>\n      <td>IR1</td>\n      <td>Lvl</td>\n      <td>...</td>\n      <td>0</td>\n      <td>0</td>\n      <td>NaN</td>\n      <td>NaN</td>\n      <td>Gar2</td>\n      <td>12500</td>\n      <td>6</td>\n      <td>2010</td>\n      <td>WD</td>\n      <td>Normal</td>\n    </tr>\n    <tr>\n      <th>2</th>\n      <td>1463</td>\n      <td>180058.0</td>\n      <td>60</td>\n      <td>RL</td>\n      <td>74.0</td>\n      <td>13830</td>\n      <td>Pave</td>\n      <td>NaN</td>\n      <td>IR1</td>\n      <td>Lvl</td>\n      <td>...</td>\n      <td>0</td>\n      <td>0</td>\n      <td>NaN</td>\n      <td>MnPrv</td>\n      <td>NaN</td>\n      <td>0</td>\n      <td>3</td>\n      <td>2010</td>\n      <td>WD</td>\n      <td>Normal</td>\n    </tr>\n    <tr>\n      <th>3</th>\n      <td>1464</td>\n      <td>199624.0</td>\n      <td>60</td>\n      <td>RL</td>\n      <td>78.0</td>\n      <td>9978</td>\n      <td>Pave</td>\n      <td>NaN</td>\n      <td>IR1</td>\n      <td>Lvl</td>\n      <td>...</td>\n      <td>0</td>\n      <td>0</td>\n      <td>NaN</td>\n      <td>NaN</td>\n      <td>NaN</td>\n      <td>0</td>\n      <td>6</td>\n      <td>2010</td>\n      <td>WD</td>\n      <td>Normal</td>\n    </tr>\n    <tr>\n      <th>4</th>\n      <td>1465</td>\n      <td>181867.0</td>\n      <td>120</td>\n      <td>RL</td>\n      <td>43.0</td>\n      <td>5005</td>\n      <td>Pave</td>\n      <td>NaN</td>\n      <td>IR1</td>\n      <td>HLS</td>\n      <td>...</td>\n      <td>144</td>\n      <td>0</td>\n      <td>NaN</td>\n      <td>NaN</td>\n      <td>NaN</td>\n      <td>0</td>\n      <td>1</td>\n      <td>2010</td>\n      <td>WD</td>\n      <td>Normal</td>\n    </tr>\n  </tbody>\n</table>\n<p>5 rows × 81 columns</p>\n</div>"
     },
     "metadata": {},
     "execution_count": 40
    }
   ],
   "source": [
    "test.insert(1,column=\"SalePrice\",value=prediction)\n",
    "test.head()"
   ]
  },
  {
   "cell_type": "code",
   "execution_count": 41,
   "metadata": {},
   "outputs": [
    {
     "output_type": "execute_result",
     "data": {
      "text/plain": [
       "     Id  SalePrice\n",
       "0  1461   114764.0\n",
       "1  1462   164287.0\n",
       "2  1463   180058.0\n",
       "3  1464   199624.0\n",
       "4  1465   181867.0"
      ],
      "text/html": "<div>\n<style scoped>\n    .dataframe tbody tr th:only-of-type {\n        vertical-align: middle;\n    }\n\n    .dataframe tbody tr th {\n        vertical-align: top;\n    }\n\n    .dataframe thead th {\n        text-align: right;\n    }\n</style>\n<table border=\"1\" class=\"dataframe\">\n  <thead>\n    <tr style=\"text-align: right;\">\n      <th></th>\n      <th>Id</th>\n      <th>SalePrice</th>\n    </tr>\n  </thead>\n  <tbody>\n    <tr>\n      <th>0</th>\n      <td>1461</td>\n      <td>114764.0</td>\n    </tr>\n    <tr>\n      <th>1</th>\n      <td>1462</td>\n      <td>164287.0</td>\n    </tr>\n    <tr>\n      <th>2</th>\n      <td>1463</td>\n      <td>180058.0</td>\n    </tr>\n    <tr>\n      <th>3</th>\n      <td>1464</td>\n      <td>199624.0</td>\n    </tr>\n    <tr>\n      <th>4</th>\n      <td>1465</td>\n      <td>181867.0</td>\n    </tr>\n  </tbody>\n</table>\n</div>"
     },
     "metadata": {},
     "execution_count": 41
    }
   ],
   "source": [
    "predict_sub=test.drop(test.iloc[:,2:],axis=1)\n",
    "predict_sub.head()"
   ]
  },
  {
   "cell_type": "code",
   "execution_count": 42,
   "metadata": {},
   "outputs": [
    {
     "output_type": "execute_result",
     "data": {
      "text/plain": [
       "(1459, 2)"
      ]
     },
     "metadata": {},
     "execution_count": 42
    }
   ],
   "source": [
    "predict_sub.shape\n"
   ]
  },
  {
   "cell_type": "code",
   "execution_count": 43,
   "metadata": {},
   "outputs": [],
   "source": [
    "predict_sub.to_csv('Home_predictionsGB.csv',index=False)"
   ]
  },
  {
   "cell_type": "code",
   "execution_count": null,
   "metadata": {},
   "outputs": [],
   "source": []
  }
 ]
}